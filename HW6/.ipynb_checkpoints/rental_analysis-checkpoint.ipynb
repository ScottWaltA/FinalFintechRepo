{
 "cells": [
  {
   "cell_type": "markdown",
   "metadata": {},
   "source": [
    "\n",
    "# San Francisco Housing Cost Analysis\n",
    "\n",
    "In this assignment, you will perform fundamental analysis for the San Francisco housing market to allow potential real estate investors to choose rental investment properties."
   ]
  },
  {
   "cell_type": "markdown",
   "metadata": {},
   "source": [
    "#Calculate the mean number of housing units per year (hint: use groupby)"
   ]
  },
  {
   "cell_type": "raw",
   "metadata": {},
   "source": [
    "import hvplot.pandas"
   ]
  },
  {
   "cell_type": "code",
   "execution_count": 97,
   "metadata": {},
   "outputs": [],
   "source": [
    "import panel as pn\n",
    "pn.extension('plotly')\n",
    "import plotly.express as px\n",
    "import pandas as pd\n",
    "import hvplot.pandas\n",
    "import matplotlib.pyplot as plt\n",
    "import numpy as np\n",
    "import os\n",
    "from pathlib import Path\n",
    "from dotenv import load_dotenv\n",
    "import warnings\n",
    "warnings.filterwarnings('ignore')\n"
   ]
  },
  {
   "cell_type": "code",
   "execution_count": 2,
   "metadata": {},
   "outputs": [],
   "source": [
    "# Read the Mapbox API key\n",
    "load_dotenv()\n",
    "map_box_api = os.getenv(\"mapbox\")"
   ]
  },
  {
   "cell_type": "markdown",
   "metadata": {},
   "source": [
    "## Load Data"
   ]
  },
  {
   "cell_type": "code",
   "execution_count": 12,
   "metadata": {},
   "outputs": [
    {
     "data": {
      "text/html": [
       "<div>\n",
       "<style scoped>\n",
       "    .dataframe tbody tr th:only-of-type {\n",
       "        vertical-align: middle;\n",
       "    }\n",
       "\n",
       "    .dataframe tbody tr th {\n",
       "        vertical-align: top;\n",
       "    }\n",
       "\n",
       "    .dataframe thead th {\n",
       "        text-align: right;\n",
       "    }\n",
       "</style>\n",
       "<table border=\"1\" class=\"dataframe\">\n",
       "  <thead>\n",
       "    <tr style=\"text-align: right;\">\n",
       "      <th></th>\n",
       "      <th>neighborhood</th>\n",
       "      <th>sale_price_sqr_foot</th>\n",
       "      <th>housing_units</th>\n",
       "      <th>gross_rent</th>\n",
       "    </tr>\n",
       "    <tr>\n",
       "      <th>year</th>\n",
       "      <th></th>\n",
       "      <th></th>\n",
       "      <th></th>\n",
       "      <th></th>\n",
       "    </tr>\n",
       "  </thead>\n",
       "  <tbody>\n",
       "    <tr>\n",
       "      <th>2010</th>\n",
       "      <td>Alamo Square</td>\n",
       "      <td>291.182945</td>\n",
       "      <td>372560</td>\n",
       "      <td>1239</td>\n",
       "    </tr>\n",
       "    <tr>\n",
       "      <th>2010</th>\n",
       "      <td>Anza Vista</td>\n",
       "      <td>267.932583</td>\n",
       "      <td>372560</td>\n",
       "      <td>1239</td>\n",
       "    </tr>\n",
       "    <tr>\n",
       "      <th>2010</th>\n",
       "      <td>Bayview</td>\n",
       "      <td>170.098665</td>\n",
       "      <td>372560</td>\n",
       "      <td>1239</td>\n",
       "    </tr>\n",
       "    <tr>\n",
       "      <th>2010</th>\n",
       "      <td>Buena Vista Park</td>\n",
       "      <td>347.394919</td>\n",
       "      <td>372560</td>\n",
       "      <td>1239</td>\n",
       "    </tr>\n",
       "    <tr>\n",
       "      <th>2010</th>\n",
       "      <td>Central Richmond</td>\n",
       "      <td>319.027623</td>\n",
       "      <td>372560</td>\n",
       "      <td>1239</td>\n",
       "    </tr>\n",
       "  </tbody>\n",
       "</table>\n",
       "</div>"
      ],
      "text/plain": [
       "          neighborhood  sale_price_sqr_foot  housing_units  gross_rent\n",
       "year                                                                  \n",
       "2010      Alamo Square           291.182945         372560        1239\n",
       "2010        Anza Vista           267.932583         372560        1239\n",
       "2010           Bayview           170.098665         372560        1239\n",
       "2010  Buena Vista Park           347.394919         372560        1239\n",
       "2010  Central Richmond           319.027623         372560        1239"
      ]
     },
     "execution_count": 12,
     "metadata": {},
     "output_type": "execute_result"
    }
   ],
   "source": [
    "# Read the census data into a Pandas DataFrame\n",
    "file_path = Path(\"sfo_neighborhoods_census_data.csv\")\n",
    "sfo_data = pd.read_csv(file_path,index_col=\"year\")\n",
    "sfo_data.head()"
   ]
  },
  {
   "cell_type": "markdown",
   "metadata": {},
   "source": [
    "- - - "
   ]
  },
  {
   "cell_type": "markdown",
   "metadata": {},
   "source": [
    "## Housing Units Per Year\n",
    "\n",
    "In this section, you will calculate the number of housing units per year and visualize the results as a bar chart using the Pandas plot function.\n",
    "\n",
    "**Hint:** Use the Pandas `groupby` function.\n",
    "\n",
    "**Optional challenge:** Use the min, max, and std to scale the y limits of the chart.\n",
    "\n"
   ]
  },
  {
   "cell_type": "code",
   "execution_count": 13,
   "metadata": {},
   "outputs": [
    {
     "data": {
      "text/plain": [
       "<Figure size 432x288 with 0 Axes>"
      ]
     },
     "metadata": {},
     "output_type": "display_data"
    },
    {
     "data": {
      "image/png": "[encoded data removed]",
      "text/plain": [
       "<Figure size 432x288 with 1 Axes>"
      ]
     },
     "metadata": {
      "needs_background": "light"
     },
     "output_type": "display_data"
    }
   ],
   "source": [
    "avg_df0 = (sfo_data[[\"housing_units\"]].groupby(sfo_data.index)).mean()\n",
    "fig=plt.figure()\n",
    "housingyear_bar_chart0 = avg_df0.plot.bar(title=\"housing units per year\", color=\"brown\")\n",
    "    #plt.close(fig)\n",
    "housingyear_bar_chart0.set_ylim(370000, 388000)\n",
    "plt.show(fig)\n",
    "    \n",
    "# (\"year\",\"housing_units\n",
    "# title=(\"Housing Units Per Year\"),height=500,width=800\n",
    "\n",
    "#groupby([\"year\"])\n",
    "\n",
    "# plotly0 =housing_per_year.hvplot.bar(\n",
    "#         x=\"year\",\n",
    "#         y=\"housing_per_year\",\n",
    "#         colormap=\"viridis\",\n",
    "#         title=\"Housing Units Per Year\",\n",
    "#         figsize=(2000,3000),\n",
    "#         height=500,\n",
    "#         rot=110,\n",
    "#         width=800)\n",
    "\n",
    "# plotly0\n",
    "\n"
   ]
  },
  {
   "cell_type": "code",
   "execution_count": 16,
   "metadata": {},
   "outputs": [],
   "source": [
    "#Save the dataframe as a csv file\n",
    "avg_df0.to_csv(\"housingperyearcsv.csv\")"
   ]
  },
  {
   "cell_type": "code",
   "execution_count": 17,
   "metadata": {},
   "outputs": [
    {
     "data": {
      "text/plain": [
       "<matplotlib.axes._subplots.AxesSubplot at 0x16e7b61bdc8>"
      ]
     },
     "execution_count": 17,
     "metadata": {},
     "output_type": "execute_result"
    },
    {
     "data": {
      "image/png": "[encoded data removed]",
      "text/plain": [
       "<Figure size 432x288 with 1 Axes>"
      ]
     },
     "metadata": {
      "needs_background": "light"
     },
     "output_type": "display_data"
    }
   ],
   "source": [
    "#Use the Pandas plot function to plot the average housing units per year.\n",
    "#Note: You will need to manually adjust the y limit of the chart using the min and max values from above.\n",
    "\n",
    "plotly0 =avg_df0.plot.line()\n",
    "#         x=\"year\",\n",
    "#         y=\"housing_units\",\n",
    "#         colormap=\"viridis\",\n",
    "#         title=\"Housing Units Per Year\",\n",
    "#         figsize=(2000,3000),\n",
    "#         height=500,\n",
    "#         rot=110,\n",
    "#         width=800)\n",
    "\n",
    "plotly0"
   ]
  },
  {
   "cell_type": "markdown",
   "metadata": {},
   "source": [
    "- - - "
   ]
  },
  {
   "cell_type": "markdown",
   "metadata": {},
   "source": [
    "## Average Housing Costs in San Francisco Per Year\n",
    "\n",
    "In this section, you will calculate the average monthly rent and the average price per square foot for each year. An investor may wish to better understand the sales price of the rental property over time. For example, a customer will want to know if they should expect an increase or decrease in the property value over time so they can determine how long to hold the rental property.  Plot the results as two line charts.\n",
    "\n",
    "**Optional challenge:** Plot each line chart in a different color."
   ]
  },
  {
   "cell_type": "code",
   "execution_count": 23,
   "metadata": {},
   "outputs": [],
   "source": [
    "#Calculate the average sale price per square foot and average gross rent\n",
    "avg_df = (sfo_data[[\"gross_rent\", \"sale_price_sqr_foot\"]].groupby(sfo_data.index)).mean()\n",
    "\n",
    "all_sqr_foot=(sfo_data[[\"sale_price_sqr_foot\"]]).sort_values(\"sale_price_sqr_foot\",ascending=False)\n",
    "most_expensive_sqr_foottop=all_sqr_foot.head(10)\n",
    "\n"
   ]
  },
  {
   "cell_type": "code",
   "execution_count": 24,
   "metadata": {},
   "outputs": [
    {
     "data": {
      "image/png": "[encoded data removed]",
      "text/plain": [
       "<Figure size 432x288 with 1 Axes>"
      ]
     },
     "metadata": {
      "needs_background": "light"
     },
     "output_type": "display_data"
    }
   ],
   "source": [
    "fig=plt.figure()\n",
    "line_chart = avg_df[\"gross_rent\"].plot(color=\"red\")\n",
    "plt.show()\n"
   ]
  },
  {
   "cell_type": "code",
   "execution_count": 25,
   "metadata": {},
   "outputs": [
    {
     "data": {
      "image/png": "[encoded data removed]",
      "text/plain": [
       "<Figure size 432x288 with 1 Axes>"
      ]
     },
     "metadata": {
      "needs_background": "light"
     },
     "output_type": "display_data"
    }
   ],
   "source": [
    "#Create two line charts, one to plot the average sale price per square foot and another for average montly rent\n",
    "\n",
    "fig=plt.figure()\n",
    "line_chart = avg_df[\"sale_price_sqr_foot\"].plot(color=\"blue\")\n",
    "plt.show()\n"
   ]
  },
  {
   "cell_type": "markdown",
   "metadata": {},
   "source": [
    "- - - "
   ]
  },
  {
   "cell_type": "markdown",
   "metadata": {},
   "source": [
    "## Average Prices by Neighborhood\n",
    "\n",
    "In this section, you will use hvplot to create two interactive visulizations of average prices with a dropdown selector for the neighborhood. The first visualization will be a line plot showing the trend of average price per square foot over time for each neighborhood.  The second will be a line plot showing the trend of average montly rent over time for each neighborhood.\n",
    "\n",
    "**Hint:** It will be easier to create a new DataFrame from grouping the data and calculating the mean prices for each year and neighborhood"
   ]
  },
  {
   "cell_type": "code",
   "execution_count": 26,
   "metadata": {},
   "outputs": [],
   "source": [
    "sfo_data.reset_index(inplace=True)"
   ]
  },
  {
   "cell_type": "code",
   "execution_count": 27,
   "metadata": {},
   "outputs": [
    {
     "data": {
      "text/html": [
       "<div>\n",
       "<style scoped>\n",
       "    .dataframe tbody tr th:only-of-type {\n",
       "        vertical-align: middle;\n",
       "    }\n",
       "\n",
       "    .dataframe tbody tr th {\n",
       "        vertical-align: top;\n",
       "    }\n",
       "\n",
       "    .dataframe thead th {\n",
       "        text-align: right;\n",
       "    }\n",
       "</style>\n",
       "<table border=\"1\" class=\"dataframe\">\n",
       "  <thead>\n",
       "    <tr style=\"text-align: right;\">\n",
       "      <th></th>\n",
       "      <th>year</th>\n",
       "      <th>neighborhood</th>\n",
       "      <th>sale_price_sqr_foot</th>\n",
       "      <th>housing_units</th>\n",
       "      <th>gross_rent</th>\n",
       "    </tr>\n",
       "  </thead>\n",
       "  <tbody>\n",
       "    <tr>\n",
       "      <th>0</th>\n",
       "      <td>2010</td>\n",
       "      <td>Alamo Square</td>\n",
       "      <td>291.182945</td>\n",
       "      <td>372560</td>\n",
       "      <td>1239</td>\n",
       "    </tr>\n",
       "    <tr>\n",
       "      <th>1</th>\n",
       "      <td>2010</td>\n",
       "      <td>Anza Vista</td>\n",
       "      <td>267.932583</td>\n",
       "      <td>372560</td>\n",
       "      <td>1239</td>\n",
       "    </tr>\n",
       "    <tr>\n",
       "      <th>2</th>\n",
       "      <td>2010</td>\n",
       "      <td>Bayview</td>\n",
       "      <td>170.098665</td>\n",
       "      <td>372560</td>\n",
       "      <td>1239</td>\n",
       "    </tr>\n",
       "    <tr>\n",
       "      <th>3</th>\n",
       "      <td>2010</td>\n",
       "      <td>Buena Vista Park</td>\n",
       "      <td>347.394919</td>\n",
       "      <td>372560</td>\n",
       "      <td>1239</td>\n",
       "    </tr>\n",
       "    <tr>\n",
       "      <th>4</th>\n",
       "      <td>2010</td>\n",
       "      <td>Central Richmond</td>\n",
       "      <td>319.027623</td>\n",
       "      <td>372560</td>\n",
       "      <td>1239</td>\n",
       "    </tr>\n",
       "  </tbody>\n",
       "</table>\n",
       "</div>"
      ],
      "text/plain": [
       "   year      neighborhood  sale_price_sqr_foot  housing_units  gross_rent\n",
       "0  2010      Alamo Square           291.182945         372560        1239\n",
       "1  2010        Anza Vista           267.932583         372560        1239\n",
       "2  2010           Bayview           170.098665         372560        1239\n",
       "3  2010  Buena Vista Park           347.394919         372560        1239\n",
       "4  2010  Central Richmond           319.027623         372560        1239"
      ]
     },
     "execution_count": 27,
     "metadata": {},
     "output_type": "execute_result"
    }
   ],
   "source": [
    "#Group by year and neighborhood and then create a new dataframe of the mean values\n",
    "\n",
    "housing_per_year_andneighborhood=sfo_data.groupby([\"year\",\"neighborhood\"]).mean()\n",
    "housing_per_year_andneighborhood.reset_index(inplace=True)\n",
    "housing_per_year_andneighborhood.head()"
   ]
  },
  {
   "cell_type": "code",
   "execution_count": 32,
   "metadata": {},
   "outputs": [],
   "source": [
    "\n",
    "from ipywidgets import interact\n",
    "import ipywidgets as widgets"
   ]
  },
  {
   "cell_type": "code",
   "execution_count": 33,
   "metadata": {},
   "outputs": [],
   "source": [
    "def choose_neighborhood():\n",
    "    return housing_per_year_andneighborhood.hvplot.line(\"year\",\"sale_price_sqr_foot\",\n",
    "                                                                    xlabel='YEAR',\n",
    "                                                                    ylabel='SALE PRICE PER SQUARE FOOT', groupby=\"neighborhood\")  "
   ]
  },
  {
   "cell_type": "code",
   "execution_count": 35,
   "metadata": {},
   "outputs": [
    {
     "data": {
      "application/vnd.jupyter.widget-view+json": {
       "model_id": "ed63c6977526447a86ca10866e4cd697",
       "version_major": 2,
       "version_minor": 0
      },
      "text/plain": [
       "interactive(children=(Output(),), _dom_classes=('widget-interact',))"
      ]
     },
     "metadata": {},
     "output_type": "display_data"
    },
    {
     "data": {
      "text/plain": [
       "<function __main__.choose_neighborhood()>"
      ]
     },
     "execution_count": 35,
     "metadata": {},
     "output_type": "execute_result"
    }
   ],
   "source": [
    "\n",
    "\n",
    "#interact(choose_neighborhood,neighborhood=list_of_neighborhoods)\n",
    "\n",
    "list_of_neighborhoods = ['Alamo Square','Anzu Vista','Bayview','Buena Vista Park','Central Richmond','Corona Heights','Cow Hallow','Croker Hallow','Diamond Heights','Downtown','Eureka Valley','Excelesior','Nob Hill','Bayside', 'Pacific Heights', 'Telegraph Hill']\n",
    "interact(choose_neighborhood,neighborhood=list_of_neighborhoods)"
   ]
  },
  {
   "cell_type": "markdown",
   "metadata": {},
   "source": [
    "## The Top 10 Most Expensive Neighborhoods\n",
    "\n",
    "In this section, you will need to calculate the mean sale price per square foot for each neighborhood and then sort the values to obtain the top 10 most expensive neighborhoods on average. Plot the results as a bar chart."
   ]
  },
  {
   "cell_type": "code",
   "execution_count": 36,
   "metadata": {},
   "outputs": [],
   "source": [
    "#Getting the data from the top 10 expensive neighborhoods to own\n",
    "file_path = Path(\"sfo_neighborhoods_census_data.csv\")\n",
    "sfo_data_neighborhood = pd.read_csv(file_path).drop(columns=[\"year\", \"housing_units\", \"gross_rent\"])\n",
    "sfo_data_neighborhood.set_index('neighborhood', inplace=True)\n"
   ]
  },
  {
   "cell_type": "code",
   "execution_count": 37,
   "metadata": {},
   "outputs": [],
   "source": [
    "mean_sales_price_per_sqr_foot_byneighborhood = sfo_data_neighborhood.groupby(sfo_data_neighborhood.index)\n",
    "meany_sales_price_per_sqr = mean_sales_price_per_sqr_foot_byneighborhood.mean()\n",
    "meany_sales_price_per_sqr.sort_values(by= \"sale_price_sqr_foot\",inplace=True, ascending=False)  \n",
    "df_meany_sales=meany_sales_price_per_sqr.head(10)\n",
    "df_meany_sales.reset_index(inplace=True)\n",
    "                       "
   ]
  },
  {
   "cell_type": "code",
   "execution_count": 63,
   "metadata": {},
   "outputs": [
    {
     "data": {},
     "metadata": {},
     "output_type": "display_data"
    },
    {
     "data": {
      "application/vnd.holoviews_exec.v0+json": "",
      "text/html": [
       "<div id='2119'>\n",
       "\n",
       "\n",
       "\n",
       "\n",
       "\n",
       "  <div class=\"bk-root\" id=\"d732d9e4-2a0b-47ab-8f27-e8e56385d188\" data-root-id=\"2119\"></div>\n",
       "</div>\n",
       "<script type=\"application/javascript\">(function(root) {\n",
       "  function embed_document(root) {\n",
       "    var docs_json = {\"746bb69a-72d1-4dac-aab5-2719d0756a4e\":{\"roots\":{\"references\":[{\"attributes\":{\"bottom_units\":\"screen\",\"fill_alpha\":0.5,\"fill_color\":\"lightgrey\",\"left_units\":\"screen\",\"level\":\"overlay\",\"line_alpha\":1.0,\"line_color\":\"black\",\"line_dash\":[4,4],\"line_width\":2,\"right_units\":\"screen\",\"top_units\":\"screen\"},\"id\":\"2145\",\"type\":\"BoxAnnotation\"},{\"attributes\":{\"text\":\"The Mean *Sales* Price Per Square Foot BY NEIGHBORHOOD\",\"text_color\":{\"value\":\"black\"},\"text_font_size\":{\"value\":\"12pt\"}},\"id\":\"2125\",\"type\":\"Title\"},{\"attributes\":{\"source\":{\"id\":\"2153\"}},\"id\":\"2160\",\"type\":\"CDSView\"},{\"attributes\":{},\"id\":\"2162\",\"type\":\"CategoricalTickFormatter\"},{\"attributes\":{\"data_source\":{\"id\":\"2153\"},\"glyph\":{\"id\":\"2156\"},\"hover_glyph\":null,\"muted_glyph\":{\"id\":\"2158\"},\"nonselection_glyph\":{\"id\":\"2157\"},\"selection_glyph\":null,\"view\":{\"id\":\"2160\"}},\"id\":\"2159\",\"type\":\"GlyphRenderer\"},{\"attributes\":{\"active_drag\":\"auto\",\"active_inspect\":\"auto\",\"active_multi\":null,\"active_scroll\":\"auto\",\"active_tap\":\"auto\",\"tools\":[{\"id\":\"2123\"},{\"id\":\"2140\"},{\"id\":\"2141\"},{\"id\":\"2142\"},{\"id\":\"2143\"},{\"id\":\"2144\"}]},\"id\":\"2146\",\"type\":\"Toolbar\"},{\"attributes\":{\"below\":[{\"id\":\"2133\"}],\"center\":[{\"id\":\"2135\"},{\"id\":\"2139\"}],\"left\":[{\"id\":\"2136\"}],\"margin\":[5,5,5,5],\"min_border_bottom\":10,\"min_border_left\":10,\"min_border_right\":10,\"min_border_top\":10,\"plot_height\":500,\"plot_width\":800,\"renderers\":[{\"id\":\"2159\"}],\"sizing_mode\":\"fixed\",\"title\":{\"id\":\"2125\"},\"toolbar\":{\"id\":\"2146\"},\"x_range\":{\"id\":\"2121\"},\"x_scale\":{\"id\":\"2129\"},\"y_range\":{\"id\":\"2122\"},\"y_scale\":{\"id\":\"2131\"}},\"id\":\"2124\",\"subtype\":\"Figure\",\"type\":\"Plot\"},{\"attributes\":{},\"id\":\"2140\",\"type\":\"SaveTool\"},{\"attributes\":{\"margin\":[5,5,5,5],\"name\":\"HSpacer07145\",\"sizing_mode\":\"stretch_width\"},\"id\":\"2120\",\"type\":\"Spacer\"},{\"attributes\":{},\"id\":\"2141\",\"type\":\"PanTool\"},{\"attributes\":{},\"id\":\"2154\",\"type\":\"Selection\"},{\"attributes\":{},\"id\":\"2144\",\"type\":\"ResetTool\"},{\"attributes\":{\"fill_alpha\":{\"value\":0.2},\"fill_color\":{\"value\":\"#30a2da\"},\"line_alpha\":{\"value\":0.2},\"top\":{\"field\":\"sale_price_sqr_foot\"},\"width\":{\"value\":0.8},\"x\":{\"field\":\"neighborhood\"}},\"id\":\"2158\",\"type\":\"VBar\"},{\"attributes\":{},\"id\":\"2142\",\"type\":\"WheelZoomTool\"},{\"attributes\":{},\"id\":\"2172\",\"type\":\"UnionRenderers\"},{\"attributes\":{\"overlay\":{\"id\":\"2145\"}},\"id\":\"2143\",\"type\":\"BoxZoomTool\"},{\"attributes\":{},\"id\":\"2129\",\"type\":\"CategoricalScale\"},{\"attributes\":{\"fill_alpha\":{\"value\":0.1},\"fill_color\":{\"value\":\"#30a2da\"},\"line_alpha\":{\"value\":0.1},\"top\":{\"field\":\"sale_price_sqr_foot\"},\"width\":{\"value\":0.8},\"x\":{\"field\":\"neighborhood\"}},\"id\":\"2157\",\"type\":\"VBar\"},{\"attributes\":{\"axis\":{\"id\":\"2133\"},\"grid_line_color\":null,\"ticker\":null},\"id\":\"2135\",\"type\":\"Grid\"},{\"attributes\":{},\"id\":\"2131\",\"type\":\"LinearScale\"},{\"attributes\":{\"factors\":[\"Union Square District\",\"Merced Heights\",\"Miraloma Park\",\"Pacific Heights\",\"Westwood Park\",\"Telegraph Hill\",\"Presidio Heights\",\"Cow Hollow\",\"Potrero Hill\",\"South Beach\"],\"tags\":[[[\"neighborhood\",\"neighborhood\",null]]]},\"id\":\"2121\",\"type\":\"FactorRange\"},{\"attributes\":{\"axis_label\":\"neighborhood\",\"bounds\":\"auto\",\"formatter\":{\"id\":\"2162\"},\"major_label_orientation\":1.9198621771937625,\"ticker\":{\"id\":\"2134\"}},\"id\":\"2133\",\"type\":\"CategoricalAxis\"},{\"attributes\":{\"fill_color\":{\"value\":\"#30a2da\"},\"top\":{\"field\":\"sale_price_sqr_foot\"},\"width\":{\"value\":0.8},\"x\":{\"field\":\"neighborhood\"}},\"id\":\"2156\",\"type\":\"VBar\"},{\"attributes\":{},\"id\":\"2134\",\"type\":\"CategoricalTicker\"},{\"attributes\":{\"axis_label\":\"sale_price_sqr_foot\",\"bounds\":\"auto\",\"formatter\":{\"id\":\"2163\"},\"major_label_orientation\":\"horizontal\",\"ticker\":{\"id\":\"2137\"}},\"id\":\"2136\",\"type\":\"LinearAxis\"},{\"attributes\":{\"data\":{\"neighborhood\":[\"Union Square District\",\"Merced Heights\",\"Miraloma Park\",\"Pacific Heights\",\"Westwood Park\",\"Telegraph Hill\",\"Presidio Heights\",\"Cow Hollow\",\"Potrero Hill\",\"South Beach\"],\"sale_price_sqr_foot\":{\"__ndarray__\":\"JRAUMfI/jEB9IrkvwqaIQFx/3pp8XohAFpsVUHKMhUBs0ERas3iFQL0KhXgNJIVAy835O80ahUANV25bts+EQJrMCuEbsIRAya3y7v5QhEA=\",\"dtype\":\"float64\",\"order\":\"little\",\"shape\":[10]}},\"selected\":{\"id\":\"2154\"},\"selection_policy\":{\"id\":\"2172\"}},\"id\":\"2153\",\"type\":\"ColumnDataSource\"},{\"attributes\":{\"end\":929.3801355198136,\"reset_end\":929.3801355198136,\"reset_start\":0.0,\"tags\":[[[\"sale_price_sqr_foot\",\"sale_price_sqr_foot\",null]]]},\"id\":\"2122\",\"type\":\"Range1d\"},{\"attributes\":{},\"id\":\"2137\",\"type\":\"BasicTicker\"},{\"attributes\":{\"children\":[{\"id\":\"2120\"},{\"id\":\"2124\"},{\"id\":\"2181\"}],\"margin\":[0,0,0,0],\"name\":\"Row07141\",\"tags\":[\"embedded\"]},\"id\":\"2119\",\"type\":\"Row\"},{\"attributes\":{\"axis\":{\"id\":\"2136\"},\"dimension\":1,\"grid_line_color\":null,\"ticker\":null},\"id\":\"2139\",\"type\":\"Grid\"},{\"attributes\":{},\"id\":\"2163\",\"type\":\"BasicTickFormatter\"},{\"attributes\":{\"callback\":null,\"renderers\":[{\"id\":\"2159\"}],\"tags\":[\"hv_created\"],\"tooltips\":[[\"neighborhood\",\"@{neighborhood}\"],[\"sale_price_sqr_foot\",\"@{sale_price_sqr_foot}\"]]},\"id\":\"2123\",\"type\":\"HoverTool\"},{\"attributes\":{\"margin\":[5,5,5,5],\"name\":\"HSpacer07146\",\"sizing_mode\":\"stretch_width\"},\"id\":\"2181\",\"type\":\"Spacer\"}],\"root_ids\":[\"2119\"]},\"title\":\"Bokeh Application\",\"version\":\"2.2.3\"}};\n",
       "    var render_items = [{\"docid\":\"746bb69a-72d1-4dac-aab5-2719d0756a4e\",\"root_ids\":[\"2119\"],\"roots\":{\"2119\":\"d732d9e4-2a0b-47ab-8f27-e8e56385d188\"}}];\n",
       "    root.Bokeh.embed.embed_items_notebook(docs_json, render_items);\n",
       "  }\n",
       "  if (root.Bokeh !== undefined && root.Bokeh.Panel !== undefined && root['Plotly'] !== undefined ) {\n",
       "    embed_document(root);\n",
       "  } else {\n",
       "    var attempts = 0;\n",
       "    var timer = setInterval(function(root) {\n",
       "      if (root.Bokeh !== undefined && root.Bokeh.Panel !== undefined && root['Plotly'] !== undefined) {\n",
       "        clearInterval(timer);\n",
       "        embed_document(root);\n",
       "      } else if (document.readyState == \"complete\") {\n",
       "        attempts++;\n",
       "        if (attempts > 100) {\n",
       "          clearInterval(timer);\n",
       "          console.log(\"Bokeh: ERROR: Unable to run BokehJS code because BokehJS library is missing\");\n",
       "        }\n",
       "      }\n",
       "    }, 10, root)\n",
       "  }\n",
       "})(window);</script>"
      ],
      "text/plain": [
       ":Bars   [neighborhood]   (sale_price_sqr_foot)"
      ]
     },
     "execution_count": 63,
     "metadata": {
      "application/vnd.holoviews_exec.v0+json": {
       "id": "2119"
      }
     },
     "output_type": "execute_result"
    }
   ],
   "source": [
    "#Plotting the data from the top 10 expensive neighborhoods\n",
    "\n",
    "plotly1=df_meany_sales.hvplot.bar(\n",
    "        x=\"neighborhood\",\n",
    "        y=\"sale_price_sqr_foot\",\n",
    "        title=\"The Mean *Sales* Price Per Square Foot BY NEIGHBORHOOD\",\n",
    "        #figsize=(2000,3000),\n",
    "        height=500,\n",
    "        rot=110,\n",
    "        width=800)\n",
    "\n",
    "plotly1"
   ]
  },
  {
   "cell_type": "code",
   "execution_count": 67,
   "metadata": {},
   "outputs": [],
   "source": [
    "# expensive neighborhoods to rent\n",
    "file_path = Path(\"sfo_neighborhoods_census_data.csv\")\n",
    "sfo_data_neighborhood = pd.read_csv(file_path).drop(columns=[\"year\", \"housing_units\", \"sale_price_sqr_foot\"])\n",
    "sfo_data_neighborhood.set_index('neighborhood', inplace=True)"
   ]
  },
  {
   "cell_type": "code",
   "execution_count": 68,
   "metadata": {},
   "outputs": [],
   "source": [
    "mean_rental_price_byneighborhood = sfo_data_neighborhood.groupby(sfo_data_neighborhood.index)\n",
    "meany_rental_price_byneighborhood = mean_rental_price_byneighborhood.mean()\n",
    "meany_rental_price_byneighborhood.sort_values(by=\"gross_rent\", inplace=True, ascending=False)\n",
    "df_meany_rent=meany_rental_price_byneighborhood.head()\n",
    "df_meany_rent.reset_index(inplace=True)"
   ]
  },
  {
   "cell_type": "code",
   "execution_count": 70,
   "metadata": {},
   "outputs": [
    {
     "data": {},
     "metadata": {},
     "output_type": "display_data"
    },
    {
     "data": {
      "application/vnd.holoviews_exec.v0+json": "",
      "text/html": [
       "<div id='2223'>\n",
       "\n",
       "\n",
       "\n",
       "\n",
       "\n",
       "  <div class=\"bk-root\" id=\"1bda104d-d864-44ad-bfd4-8fefbcf52975\" data-root-id=\"2223\"></div>\n",
       "</div>\n",
       "<script type=\"application/javascript\">(function(root) {\n",
       "  function embed_document(root) {\n",
       "    var docs_json = {\"046251a5-ccce-437c-8d2c-9030df547783\":{\"roots\":{\"references\":[{\"attributes\":{\"axis_label\":\"neighborhood\",\"bounds\":\"auto\",\"formatter\":{\"id\":\"2266\"},\"major_label_orientation\":1.9198621771937625,\"ticker\":{\"id\":\"2238\"}},\"id\":\"2237\",\"type\":\"CategoricalAxis\"},{\"attributes\":{\"callback\":null,\"renderers\":[{\"id\":\"2263\"}],\"tags\":[\"hv_created\"],\"tooltips\":[[\"neighborhood\",\"@{neighborhood}\"],[\"gross_rent\",\"@{gross_rent}\"]]},\"id\":\"2227\",\"type\":\"HoverTool\"},{\"attributes\":{\"margin\":[5,5,5,5],\"name\":\"HSpacer07329\",\"sizing_mode\":\"stretch_width\"},\"id\":\"2224\",\"type\":\"Spacer\"},{\"attributes\":{\"axis_label\":\"gross_rent\",\"bounds\":\"auto\",\"formatter\":{\"id\":\"2267\"},\"major_label_orientation\":\"horizontal\",\"ticker\":{\"id\":\"2241\"}},\"id\":\"2240\",\"type\":\"LinearAxis\"},{\"attributes\":{\"fill_alpha\":{\"value\":0.1},\"fill_color\":{\"value\":\"#30a2da\"},\"line_alpha\":{\"value\":0.1},\"top\":{\"field\":\"gross_rent\"},\"width\":{\"value\":0.8},\"x\":{\"field\":\"neighborhood\"}},\"id\":\"2261\",\"type\":\"VBar\"},{\"attributes\":{},\"id\":\"2241\",\"type\":\"BasicTicker\"},{\"attributes\":{\"axis\":{\"id\":\"2240\"},\"dimension\":1,\"grid_line_color\":null,\"ticker\":null},\"id\":\"2243\",\"type\":\"Grid\"},{\"attributes\":{\"factors\":[\"Westwood Park\",\"Bayview Heights\",\"Visitacion Valley\",\"Silver Terrace\",\"Merced Heights\"],\"tags\":[[[\"neighborhood\",\"neighborhood\",null]]]},\"id\":\"2225\",\"type\":\"FactorRange\"},{\"attributes\":{\"active_drag\":\"auto\",\"active_inspect\":\"auto\",\"active_multi\":null,\"active_scroll\":\"auto\",\"active_tap\":\"auto\",\"tools\":[{\"id\":\"2227\"},{\"id\":\"2244\"},{\"id\":\"2245\"},{\"id\":\"2246\"},{\"id\":\"2247\"},{\"id\":\"2248\"}]},\"id\":\"2250\",\"type\":\"Toolbar\"},{\"attributes\":{\"data_source\":{\"id\":\"2257\"},\"glyph\":{\"id\":\"2260\"},\"hover_glyph\":null,\"muted_glyph\":{\"id\":\"2262\"},\"nonselection_glyph\":{\"id\":\"2261\"},\"selection_glyph\":null,\"view\":{\"id\":\"2264\"}},\"id\":\"2263\",\"type\":\"GlyphRenderer\"},{\"attributes\":{\"text\":\"Gross Rent BY NEIGHBORHOOD\",\"text_color\":{\"value\":\"black\"},\"text_font_size\":{\"value\":\"12pt\"}},\"id\":\"2229\",\"type\":\"Title\"},{\"attributes\":{},\"id\":\"2267\",\"type\":\"BasicTickFormatter\"},{\"attributes\":{\"bottom_units\":\"screen\",\"fill_alpha\":0.5,\"fill_color\":\"lightgrey\",\"left_units\":\"screen\",\"level\":\"overlay\",\"line_alpha\":1.0,\"line_color\":\"black\",\"line_dash\":[4,4],\"line_width\":2,\"right_units\":\"screen\",\"top_units\":\"screen\"},\"id\":\"2249\",\"type\":\"BoxAnnotation\"},{\"attributes\":{},\"id\":\"2258\",\"type\":\"Selection\"},{\"attributes\":{\"margin\":[5,5,5,5],\"name\":\"HSpacer07330\",\"sizing_mode\":\"stretch_width\"},\"id\":\"2285\",\"type\":\"Spacer\"},{\"attributes\":{\"fill_alpha\":{\"value\":0.2},\"fill_color\":{\"value\":\"#30a2da\"},\"line_alpha\":{\"value\":0.2},\"top\":{\"field\":\"gross_rent\"},\"width\":{\"value\":0.8},\"x\":{\"field\":\"neighborhood\"}},\"id\":\"2262\",\"type\":\"VBar\"},{\"attributes\":{\"source\":{\"id\":\"2257\"}},\"id\":\"2264\",\"type\":\"CDSView\"},{\"attributes\":{\"below\":[{\"id\":\"2237\"}],\"center\":[{\"id\":\"2239\"},{\"id\":\"2243\"}],\"left\":[{\"id\":\"2240\"}],\"margin\":[5,5,5,5],\"min_border_bottom\":10,\"min_border_left\":10,\"min_border_right\":10,\"min_border_top\":10,\"plot_height\":500,\"plot_width\":800,\"renderers\":[{\"id\":\"2263\"}],\"sizing_mode\":\"fixed\",\"title\":{\"id\":\"2229\"},\"toolbar\":{\"id\":\"2250\"},\"x_range\":{\"id\":\"2225\"},\"x_scale\":{\"id\":\"2233\"},\"y_range\":{\"id\":\"2226\"},\"y_scale\":{\"id\":\"2235\"}},\"id\":\"2228\",\"subtype\":\"Figure\",\"type\":\"Plot\"},{\"attributes\":{},\"id\":\"2244\",\"type\":\"SaveTool\"},{\"attributes\":{},\"id\":\"2245\",\"type\":\"PanTool\"},{\"attributes\":{\"end\":4013.5,\"reset_end\":4013.5,\"reset_start\":0.0,\"tags\":[[[\"gross_rent\",\"gross_rent\",null]]]},\"id\":\"2226\",\"type\":\"Range1d\"},{\"attributes\":{},\"id\":\"2248\",\"type\":\"ResetTool\"},{\"attributes\":{},\"id\":\"2276\",\"type\":\"UnionRenderers\"},{\"attributes\":{},\"id\":\"2246\",\"type\":\"WheelZoomTool\"},{\"attributes\":{\"data\":{\"gross_rent\":{\"__ndarray__\":\"AAAAAADurkAAAAAAADatQAAAAAAAkqxAAAAAAACQq0AAAAAAAKyqQA==\",\"dtype\":\"float64\",\"order\":\"little\",\"shape\":[5]},\"neighborhood\":[\"Westwood Park\",\"Bayview Heights\",\"Visitacion Valley\",\"Silver Terrace\",\"Merced Heights\"]},\"selected\":{\"id\":\"2258\"},\"selection_policy\":{\"id\":\"2276\"}},\"id\":\"2257\",\"type\":\"ColumnDataSource\"},{\"attributes\":{\"overlay\":{\"id\":\"2249\"}},\"id\":\"2247\",\"type\":\"BoxZoomTool\"},{\"attributes\":{},\"id\":\"2233\",\"type\":\"CategoricalScale\"},{\"attributes\":{\"fill_color\":{\"value\":\"#30a2da\"},\"top\":{\"field\":\"gross_rent\"},\"width\":{\"value\":0.8},\"x\":{\"field\":\"neighborhood\"}},\"id\":\"2260\",\"type\":\"VBar\"},{\"attributes\":{},\"id\":\"2266\",\"type\":\"CategoricalTickFormatter\"},{\"attributes\":{\"axis\":{\"id\":\"2237\"},\"grid_line_color\":null,\"ticker\":null},\"id\":\"2239\",\"type\":\"Grid\"},{\"attributes\":{\"children\":[{\"id\":\"2224\"},{\"id\":\"2228\"},{\"id\":\"2285\"}],\"margin\":[0,0,0,0],\"name\":\"Row07325\",\"tags\":[\"embedded\"]},\"id\":\"2223\",\"type\":\"Row\"},{\"attributes\":{},\"id\":\"2238\",\"type\":\"CategoricalTicker\"},{\"attributes\":{},\"id\":\"2235\",\"type\":\"LinearScale\"}],\"root_ids\":[\"2223\"]},\"title\":\"Bokeh Application\",\"version\":\"2.2.3\"}};\n",
       "    var render_items = [{\"docid\":\"046251a5-ccce-437c-8d2c-9030df547783\",\"root_ids\":[\"2223\"],\"roots\":{\"2223\":\"1bda104d-d864-44ad-bfd4-8fefbcf52975\"}}];\n",
       "    root.Bokeh.embed.embed_items_notebook(docs_json, render_items);\n",
       "  }\n",
       "  if (root.Bokeh !== undefined && root.Bokeh.Panel !== undefined && root['Plotly'] !== undefined ) {\n",
       "    embed_document(root);\n",
       "  } else {\n",
       "    var attempts = 0;\n",
       "    var timer = setInterval(function(root) {\n",
       "      if (root.Bokeh !== undefined && root.Bokeh.Panel !== undefined && root['Plotly'] !== undefined) {\n",
       "        clearInterval(timer);\n",
       "        embed_document(root);\n",
       "      } else if (document.readyState == \"complete\") {\n",
       "        attempts++;\n",
       "        if (attempts > 100) {\n",
       "          clearInterval(timer);\n",
       "          console.log(\"Bokeh: ERROR: Unable to run BokehJS code because BokehJS library is missing\");\n",
       "        }\n",
       "      }\n",
       "    }, 10, root)\n",
       "  }\n",
       "})(window);</script>"
      ],
      "text/plain": [
       ":Bars   [neighborhood]   (gross_rent)"
      ]
     },
     "execution_count": 70,
     "metadata": {
      "application/vnd.holoviews_exec.v0+json": {
       "id": "2223"
      }
     },
     "output_type": "execute_result"
    }
   ],
   "source": [
    "plotly2=df_meany_rent.hvplot.bar(\n",
    "        x=\"neighborhood\",\n",
    "        y=\"gross_rent\",\n",
    "        title=\"Most Expensive Rent BY NEIGHBORHOOD\",\n",
    "        #figsize=(2000,3000),\n",
    "        height=500,\n",
    "        rot=110,\n",
    "        width=800)\n",
    "\n",
    "plotly2\n"
   ]
  },
  {
   "cell_type": "code",
   "execution_count": null,
   "metadata": {},
   "outputs": [],
   "source": []
  },
  {
   "cell_type": "code",
   "execution_count": 71,
   "metadata": {},
   "outputs": [
    {
     "data": {
      "text/html": [
       "<div>\n",
       "<style scoped>\n",
       "    .dataframe tbody tr th:only-of-type {\n",
       "        vertical-align: middle;\n",
       "    }\n",
       "\n",
       "    .dataframe tbody tr th {\n",
       "        vertical-align: top;\n",
       "    }\n",
       "\n",
       "    .dataframe thead th {\n",
       "        text-align: right;\n",
       "    }\n",
       "</style>\n",
       "<table border=\"1\" class=\"dataframe\">\n",
       "  <thead>\n",
       "    <tr style=\"text-align: right;\">\n",
       "      <th></th>\n",
       "      <th></th>\n",
       "      <th>year</th>\n",
       "      <th>sale_price_sqr_foot</th>\n",
       "      <th>housing_units</th>\n",
       "      <th>gross_rent</th>\n",
       "    </tr>\n",
       "    <tr>\n",
       "      <th></th>\n",
       "      <th>neighborhood</th>\n",
       "      <th></th>\n",
       "      <th></th>\n",
       "      <th></th>\n",
       "      <th></th>\n",
       "    </tr>\n",
       "  </thead>\n",
       "  <tbody>\n",
       "    <tr>\n",
       "      <th>0</th>\n",
       "      <th>Alamo Square</th>\n",
       "      <td>2010</td>\n",
       "      <td>291.182945</td>\n",
       "      <td>372560</td>\n",
       "      <td>1239</td>\n",
       "    </tr>\n",
       "    <tr>\n",
       "      <th>1</th>\n",
       "      <th>Anza Vista</th>\n",
       "      <td>2010</td>\n",
       "      <td>267.932583</td>\n",
       "      <td>372560</td>\n",
       "      <td>1239</td>\n",
       "    </tr>\n",
       "    <tr>\n",
       "      <th>2</th>\n",
       "      <th>Bayview</th>\n",
       "      <td>2010</td>\n",
       "      <td>170.098665</td>\n",
       "      <td>372560</td>\n",
       "      <td>1239</td>\n",
       "    </tr>\n",
       "    <tr>\n",
       "      <th>3</th>\n",
       "      <th>Buena Vista Park</th>\n",
       "      <td>2010</td>\n",
       "      <td>347.394919</td>\n",
       "      <td>372560</td>\n",
       "      <td>1239</td>\n",
       "    </tr>\n",
       "    <tr>\n",
       "      <th>4</th>\n",
       "      <th>Central Richmond</th>\n",
       "      <td>2010</td>\n",
       "      <td>319.027623</td>\n",
       "      <td>372560</td>\n",
       "      <td>1239</td>\n",
       "    </tr>\n",
       "  </tbody>\n",
       "</table>\n",
       "</div>"
      ],
      "text/plain": [
       "                    year  sale_price_sqr_foot  housing_units  gross_rent\n",
       "  neighborhood                                                          \n",
       "0 Alamo Square      2010           291.182945         372560        1239\n",
       "1 Anza Vista        2010           267.932583         372560        1239\n",
       "2 Bayview           2010           170.098665         372560        1239\n",
       "3 Buena Vista Park  2010           347.394919         372560        1239\n",
       "4 Central Richmond  2010           319.027623         372560        1239"
      ]
     },
     "execution_count": 71,
     "metadata": {},
     "output_type": "execute_result"
    }
   ],
   "source": [
    "df = sfo_data.groupby([sfo_data.index, \"neighborhood\"]).mean()\n",
    "df.rename(columns={\"level_0\": \"year\"}, inplace=True)\n",
    "df.head()\n"
   ]
  },
  {
   "cell_type": "code",
   "execution_count": 42,
   "metadata": {},
   "outputs": [
    {
     "data": {},
     "metadata": {},
     "output_type": "display_data"
    },
    {
     "data": {
      "application/vnd.holoviews_exec.v0+json": "",
      "text/html": [
       "<div id='1647'>\n",
       "\n",
       "\n",
       "\n",
       "\n",
       "\n",
       "  <div class=\"bk-root\" id=\"c44714cb-a8c7-48de-8d29-43dfc9a144ee\" data-root-id=\"1647\"></div>\n",
       "</div>\n",
       "<script type=\"application/javascript\">(function(root) {\n",
       "  function embed_document(root) {\n",
       "    var docs_json = {\"073492d4-b0c5-4ffc-b39f-8d262e93bdc3\":{\"roots\":{\"references\":[{\"attributes\":{\"margin\":[5,5,5,5],\"name\":\"VSpacer03071\",\"sizing_mode\":\"stretch_height\"},\"id\":\"1716\",\"type\":\"Spacer\"},{\"attributes\":{},\"id\":\"1670\",\"type\":\"WheelZoomTool\"},{\"attributes\":{},\"id\":\"1662\",\"type\":\"CategoricalTicker\"},{\"attributes\":{\"children\":[{\"id\":\"1716\"},{\"id\":\"1717\"},{\"id\":\"1719\"}],\"margin\":[0,0,0,0],\"name\":\"Column03073\"},\"id\":\"1715\",\"type\":\"Column\"},{\"attributes\":{\"axis\":{\"id\":\"1661\"},\"grid_line_color\":null,\"ticker\":null},\"id\":\"1663\",\"type\":\"Grid\"},{\"attributes\":{\"end\":4810.690068306854,\"reset_end\":4810.690068306854,\"reset_start\":0.0,\"tags\":[[[\"value\",\"value\",null]]]},\"id\":\"1650\",\"type\":\"Range1d\"},{\"attributes\":{\"axis_label\":\"Neighborhood\",\"bounds\":\"auto\",\"formatter\":{\"id\":\"1691\"},\"major_label_orientation\":1.5707963267948966,\"ticker\":{\"id\":\"1662\"}},\"id\":\"1661\",\"type\":\"CategoricalAxis\"},{\"attributes\":{},\"id\":\"1668\",\"type\":\"SaveTool\"},{\"attributes\":{\"margin\":[5,5,5,5],\"name\":\"HSpacer03074\",\"sizing_mode\":\"stretch_width\"},\"id\":\"1648\",\"type\":\"Spacer\"},{\"attributes\":{\"axis\":{\"id\":\"1664\"},\"dimension\":1,\"grid_line_color\":null,\"ticker\":null},\"id\":\"1667\",\"type\":\"Grid\"},{\"attributes\":{\"axis_label\":\"Housing Units\",\"bounds\":\"auto\",\"formatter\":{\"id\":\"1692\"},\"major_label_orientation\":\"horizontal\",\"ticker\":{\"id\":\"1665\"}},\"id\":\"1664\",\"type\":\"LinearAxis\"},{\"attributes\":{\"data\":{\"Variable\":[\"gross_rent\",\"gross_rent\",\"gross_rent\",\"gross_rent\",\"gross_rent\",\"gross_rent\",\"gross_rent\",\"sale_price_sqr_foot\",\"sale_price_sqr_foot\",\"sale_price_sqr_foot\",\"sale_price_sqr_foot\",\"sale_price_sqr_foot\",\"sale_price_sqr_foot\",\"sale_price_sqr_foot\"],\"value\":{\"__ndarray__\":\"AAAAAABck0AAAAAAAOiXQAAAAAAAKKJAAAAAAAA2p0AAAAAAAJCrQAAAAAAANq1AAAAAAAAmsUAORztY7TJyQJp+zNxvCHFAgZGzmi3jZkAnOiDQtDx4QBYyKcoYR35AjRXkUO3QgkBUIdyYtU91QA==\",\"dtype\":\"float64\",\"order\":\"little\",\"shape\":[14]},\"xoffsets\":[[\"2010\",\"gross_rent\"],[\"2011\",\"gross_rent\"],[\"2012\",\"gross_rent\"],[\"2013\",\"gross_rent\"],[\"2014\",\"gross_rent\"],[\"2015\",\"gross_rent\"],[\"2016\",\"gross_rent\"],[\"2010\",\"sale_price_sqr_foot\"],[\"2011\",\"sale_price_sqr_foot\"],[\"2012\",\"sale_price_sqr_foot\"],[\"2013\",\"sale_price_sqr_foot\"],[\"2014\",\"sale_price_sqr_foot\"],[\"2015\",\"sale_price_sqr_foot\"],[\"2016\",\"sale_price_sqr_foot\"]],\"year\":[\"2010\",\"2011\",\"2012\",\"2013\",\"2014\",\"2015\",\"2016\",\"2010\",\"2011\",\"2012\",\"2013\",\"2014\",\"2015\",\"2016\"]},\"selected\":{\"id\":\"1683\"},\"selection_policy\":{\"id\":\"1705\"}},\"id\":\"1682\",\"type\":\"ColumnDataSource\"},{\"attributes\":{\"margin\":[5,5,5,5],\"name\":\"HSpacer03075\",\"sizing_mode\":\"stretch_width\"},\"id\":\"1714\",\"type\":\"Spacer\"},{\"attributes\":{\"callback\":null,\"renderers\":[{\"id\":\"1688\"}],\"tags\":[\"hv_created\"],\"tooltips\":[[\"year\",\"@{year}\"],[\"Variable\",\"@{Variable}\"],[\"value\",\"@{value}\"]]},\"id\":\"1651\",\"type\":\"HoverTool\"},{\"attributes\":{\"overlay\":{\"id\":\"1673\"}},\"id\":\"1671\",\"type\":\"BoxZoomTool\"},{\"attributes\":{},\"id\":\"1672\",\"type\":\"ResetTool\"},{\"attributes\":{\"children\":[{\"id\":\"1718\"}],\"css_classes\":[\"panel-widget-box\"],\"margin\":[5,5,5,5],\"name\":\"WidgetBox03066\"},\"id\":\"1717\",\"type\":\"Column\"},{\"attributes\":{},\"id\":\"1669\",\"type\":\"PanTool\"},{\"attributes\":{},\"id\":\"1683\",\"type\":\"Selection\"},{\"attributes\":{\"source\":{\"id\":\"1682\"}},\"id\":\"1689\",\"type\":\"CDSView\"},{\"attributes\":{\"fill_color\":{\"field\":\"Variable\",\"transform\":{\"id\":\"1681\"}},\"top\":{\"field\":\"value\"},\"width\":{\"value\":0.8},\"x\":{\"field\":\"xoffsets\"}},\"id\":\"1685\",\"type\":\"VBar\"},{\"attributes\":{\"margin\":[5,5,5,5],\"name\":\"VSpacer03072\",\"sizing_mode\":\"stretch_height\"},\"id\":\"1719\",\"type\":\"Spacer\"},{\"attributes\":{\"margin\":[20,20,20,20],\"min_width\":250,\"options\":[\"Alamo Square\",\"Anza Vista\",\"Bayview\",\"Buena Vista Park\",\"Central Richmond\",\"Central Sunset\",\"Corona Heights\",\"Cow Hollow\",\"Croker Amazon\",\"Diamond Heights\",\"Downtown \",\"Eureka Valley/Dolores Heights\",\"Excelsior\",\"Financial District North\",\"Financial District South\",\"Forest Knolls\",\"Glen Park\",\"Golden Gate Heights\",\"Haight Ashbury\",\"Hayes Valley\",\"Hunters Point\",\"Ingleside \",\"Inner Mission\",\"Inner Parkside\",\"Inner Richmond\",\"Inner Sunset\",\"Jordan Park/Laurel Heights\",\"Lake --The Presidio\",\"Lone Mountain\",\"Lower Pacific Heights\",\"Marina\",\"Miraloma Park\",\"Mission Bay\",\"Mission Dolores\",\"Mission Terrace\",\"Nob Hill\",\"Noe Valley\",\"Oceanview\",\"Outer Parkside\",\"Outer Richmond \",\"Outer Sunset\",\"Pacific Heights\",\"Park North\",\"Parkside\",\"Parnassus/Ashbury Heights\",\"Portola\",\"Potrero Hill\",\"Presidio Heights\",\"Russian Hill\",\"South Beach\",\"South of Market\",\"Sunnyside\",\"Telegraph Hill\",\"Twin Peaks\",\"Union Square District\",\"Van Ness/ Civic Center\",\"West Portal\",\"Western Addition\",\"Yerba Buena\",\"Bernal Heights \",\"Clarendon Heights\",\"Duboce Triangle\",\"Ingleside Heights\",\"North Beach\",\"North Waterfront\",\"Outer Mission\",\"Westwood Highlands\",\"Merced Heights\",\"Midtown Terrace\",\"Visitacion Valley\",\"Silver Terrace\",\"Westwood Park\",\"Bayview Heights\"],\"title\":\"neighborhood\",\"value\":\"Alamo Square\",\"width\":250},\"id\":\"1718\",\"type\":\"Select\"},{\"attributes\":{},\"id\":\"1665\",\"type\":\"BasicTicker\"},{\"attributes\":{\"text\":\"Top 10 Expensive Neighborhoods in SFO\",\"text_color\":{\"value\":\"black\"},\"text_font_size\":{\"value\":\"12pt\"}},\"id\":\"1653\",\"type\":\"Title\"},{\"attributes\":{\"below\":[{\"id\":\"1661\"}],\"center\":[{\"id\":\"1663\"},{\"id\":\"1667\"}],\"left\":[{\"id\":\"1664\"}],\"margin\":[5,5,5,5],\"min_border_bottom\":10,\"min_border_left\":10,\"min_border_right\":10,\"min_border_top\":10,\"plot_height\":500,\"plot_width\":700,\"renderers\":[{\"id\":\"1688\"}],\"sizing_mode\":\"fixed\",\"title\":{\"id\":\"1653\"},\"toolbar\":{\"id\":\"1674\"},\"x_range\":{\"id\":\"1649\"},\"x_scale\":{\"id\":\"1657\"},\"y_range\":{\"id\":\"1650\"},\"y_scale\":{\"id\":\"1659\"}},\"id\":\"1652\",\"subtype\":\"Figure\",\"type\":\"Plot\"},{\"attributes\":{},\"id\":\"1691\",\"type\":\"CategoricalTickFormatter\"},{\"attributes\":{\"client_comm_id\":\"d22783fe99164547b67748f98d66ab07\",\"comm_id\":\"22ace16e0d3d48ea8e15c74dc1a9e4b4\",\"plot_id\":\"1647\"},\"id\":\"1744\",\"type\":\"panel.models.comm_manager.CommManager\"},{\"attributes\":{\"data_source\":{\"id\":\"1682\"},\"glyph\":{\"id\":\"1685\"},\"hover_glyph\":null,\"muted_glyph\":{\"id\":\"1687\"},\"nonselection_glyph\":{\"id\":\"1686\"},\"selection_glyph\":null,\"view\":{\"id\":\"1689\"}},\"id\":\"1688\",\"type\":\"GlyphRenderer\"},{\"attributes\":{},\"id\":\"1692\",\"type\":\"BasicTickFormatter\"},{\"attributes\":{},\"id\":\"1705\",\"type\":\"UnionRenderers\"},{\"attributes\":{\"factors\":[[\"2010\",\"gross_rent\"],[\"2010\",\"sale_price_sqr_foot\"],[\"2011\",\"gross_rent\"],[\"2011\",\"sale_price_sqr_foot\"],[\"2012\",\"gross_rent\"],[\"2012\",\"sale_price_sqr_foot\"],[\"2013\",\"gross_rent\"],[\"2013\",\"sale_price_sqr_foot\"],[\"2014\",\"gross_rent\"],[\"2014\",\"sale_price_sqr_foot\"],[\"2015\",\"gross_rent\"],[\"2015\",\"sale_price_sqr_foot\"],[\"2016\",\"gross_rent\"],[\"2016\",\"sale_price_sqr_foot\"]],\"tags\":[[[\"year\",\"year\",null],[\"Variable\",\"Variable\",null]]]},\"id\":\"1649\",\"type\":\"FactorRange\"},{\"attributes\":{\"active_drag\":\"auto\",\"active_inspect\":\"auto\",\"active_multi\":null,\"active_scroll\":\"auto\",\"active_tap\":\"auto\",\"tools\":[{\"id\":\"1651\"},{\"id\":\"1668\"},{\"id\":\"1669\"},{\"id\":\"1670\"},{\"id\":\"1671\"},{\"id\":\"1672\"}]},\"id\":\"1674\",\"type\":\"Toolbar\"},{\"attributes\":{},\"id\":\"1659\",\"type\":\"LinearScale\"},{\"attributes\":{},\"id\":\"1657\",\"type\":\"CategoricalScale\"},{\"attributes\":{\"fill_alpha\":{\"value\":0.1},\"fill_color\":{\"field\":\"Variable\",\"transform\":{\"id\":\"1681\"}},\"line_alpha\":{\"value\":0.1},\"top\":{\"field\":\"value\"},\"width\":{\"value\":0.8},\"x\":{\"field\":\"xoffsets\"}},\"id\":\"1686\",\"type\":\"VBar\"},{\"attributes\":{\"bottom_units\":\"screen\",\"fill_alpha\":0.5,\"fill_color\":\"lightgrey\",\"left_units\":\"screen\",\"level\":\"overlay\",\"line_alpha\":1.0,\"line_color\":\"black\",\"line_dash\":[4,4],\"line_width\":2,\"right_units\":\"screen\",\"top_units\":\"screen\"},\"id\":\"1673\",\"type\":\"BoxAnnotation\"},{\"attributes\":{\"factors\":[\"gross_rent\",\"sale_price_sqr_foot\"],\"palette\":[\"#30a2da\",\"#fc4f30\"]},\"id\":\"1681\",\"type\":\"CategoricalColorMapper\"},{\"attributes\":{\"children\":[{\"id\":\"1648\"},{\"id\":\"1652\"},{\"id\":\"1714\"},{\"id\":\"1715\"}],\"margin\":[0,0,0,0],\"name\":\"Row03065\"},\"id\":\"1647\",\"type\":\"Row\"},{\"attributes\":{\"fill_alpha\":{\"value\":0.2},\"fill_color\":{\"field\":\"Variable\",\"transform\":{\"id\":\"1681\"}},\"line_alpha\":{\"value\":0.2},\"top\":{\"field\":\"value\"},\"width\":{\"value\":0.8},\"x\":{\"field\":\"xoffsets\"}},\"id\":\"1687\",\"type\":\"VBar\"}],\"root_ids\":[\"1647\",\"1744\"]},\"title\":\"Bokeh Application\",\"version\":\"2.2.3\"}};\n",
       "    var render_items = [{\"docid\":\"073492d4-b0c5-4ffc-b39f-8d262e93bdc3\",\"root_ids\":[\"1647\"],\"roots\":{\"1647\":\"c44714cb-a8c7-48de-8d29-43dfc9a144ee\"}}];\n",
       "    root.Bokeh.embed.embed_items_notebook(docs_json, render_items);\n",
       "  }\n",
       "  if (root.Bokeh !== undefined && root.Bokeh.Panel !== undefined && root['Plotly'] !== undefined ) {\n",
       "    embed_document(root);\n",
       "  } else {\n",
       "    var attempts = 0;\n",
       "    var timer = setInterval(function(root) {\n",
       "      if (root.Bokeh !== undefined && root.Bokeh.Panel !== undefined && root['Plotly'] !== undefined) {\n",
       "        clearInterval(timer);\n",
       "        embed_document(root);\n",
       "      } else if (document.readyState == \"complete\") {\n",
       "        attempts++;\n",
       "        if (attempts > 100) {\n",
       "          clearInterval(timer);\n",
       "          console.log(\"Bokeh: ERROR: Unable to run BokehJS code because BokehJS library is missing\");\n",
       "        }\n",
       "      }\n",
       "    }, 10, root)\n",
       "  }\n",
       "})(window);</script>"
      ],
      "text/plain": [
       ":DynamicMap   [neighborhood]\n",
       "   :Bars   [year,Variable]   (value)"
      ]
     },
     "execution_count": 42,
     "metadata": {
      "application/vnd.holoviews_exec.v0+json": {
       "id": "1647"
      }
     },
     "output_type": "execute_result"
    }
   ],
   "source": [
    "df.hvplot.bar(\n",
    "    \"year\",\n",
    "    [\"gross_rent\",\"sale_price_sqr_foot\"],\n",
    "    title=\"Top 10 Expensive Neighborhoods in SFO by Rent and Purchase\",\n",
    "    xlabel=\"Neighborhood\",\n",
    "    ylabel=\"Housing Units\",\n",
    "    groupby='neighborhood',\n",
    "    height=500,\n",
    "    rot=90)"
   ]
  },
  {
   "cell_type": "code",
   "execution_count": 75,
   "metadata": {},
   "outputs": [
    {
     "data": {},
     "metadata": {},
     "output_type": "display_data"
    },
    {
     "data": {
      "application/vnd.holoviews_exec.v0+json": "",
      "text/html": [
       "<div id='2333'>\n",
       "\n",
       "\n",
       "\n",
       "\n",
       "\n",
       "  <div class=\"bk-root\" id=\"b4050b30-53c8-473d-8c95-c52e4bea96f2\" data-root-id=\"2333\"></div>\n",
       "</div>\n",
       "<script type=\"application/javascript\">(function(root) {\n",
       "  function embed_document(root) {\n",
       "    var docs_json = {\"276168b2-24e0-4b31-8c8e-474a93dd561d\":{\"roots\":{\"references\":[{\"attributes\":{\"axis\":{\"id\":\"2347\"},\"grid_line_color\":null,\"ticker\":null},\"id\":\"2349\",\"type\":\"Grid\"},{\"attributes\":{},\"id\":\"2348\",\"type\":\"CategoricalTicker\"},{\"attributes\":{},\"id\":\"2395\",\"type\":\"BasicTicker\"},{\"attributes\":{\"children\":[[{\"id\":\"2338\"},0,0],[{\"id\":\"2382\"},0,1]]},\"id\":\"2441\",\"type\":\"GridBox\"},{\"attributes\":{\"axis_label\":\"neighborhood\",\"bounds\":\"auto\",\"formatter\":{\"id\":\"2376\"},\"major_label_orientation\":1.9198621771937625,\"ticker\":{\"id\":\"2348\"}},\"id\":\"2347\",\"type\":\"CategoricalAxis\"},{\"attributes\":{\"children\":[{\"id\":\"2443\"},{\"id\":\"2441\"}]},\"id\":\"2444\",\"type\":\"Column\"},{\"attributes\":{\"axis_label\":\"sale_price_sqr_foot\",\"bounds\":\"auto\",\"formatter\":{\"id\":\"2377\"},\"major_label_orientation\":\"horizontal\",\"ticker\":{\"id\":\"2351\"}},\"id\":\"2350\",\"type\":\"LinearAxis\"},{\"attributes\":{\"margin\":[5,5,5,5],\"name\":\"HSpacer07492\",\"sizing_mode\":\"stretch_width\"},\"id\":\"2334\",\"type\":\"Spacer\"},{\"attributes\":{\"fill_alpha\":{\"value\":0.2},\"fill_color\":{\"value\":\"#30a2da\"},\"line_alpha\":{\"value\":0.2},\"top\":{\"field\":\"gross_rent\"},\"width\":{\"value\":0.8},\"x\":{\"field\":\"neighborhood\"}},\"id\":\"2416\",\"type\":\"VBar\"},{\"attributes\":{},\"id\":\"2351\",\"type\":\"BasicTicker\"},{\"attributes\":{\"axis\":{\"id\":\"2350\"},\"dimension\":1,\"grid_line_color\":null,\"ticker\":null},\"id\":\"2353\",\"type\":\"Grid\"},{\"attributes\":{\"data_source\":{\"id\":\"2367\"},\"glyph\":{\"id\":\"2370\"},\"hover_glyph\":null,\"muted_glyph\":{\"id\":\"2372\"},\"nonselection_glyph\":{\"id\":\"2371\"},\"selection_glyph\":null,\"view\":{\"id\":\"2374\"}},\"id\":\"2373\",\"type\":\"GlyphRenderer\"},{\"attributes\":{\"factors\":[\"Union Square District\",\"Merced Heights\",\"Miraloma Park\",\"Pacific Heights\",\"Westwood Park\",\"Telegraph Hill\",\"Presidio Heights\",\"Cow Hollow\",\"Potrero Hill\",\"South Beach\",\"Bayview Heights\",\"Visitacion Valley\",\"Silver Terrace\"],\"tags\":[[[\"neighborhood\",\"neighborhood\",null]]]},\"id\":\"2335\",\"type\":\"FactorRange\"},{\"attributes\":{},\"id\":\"2439\",\"type\":\"UnionRenderers\"},{\"attributes\":{},\"id\":\"2430\",\"type\":\"UnionRenderers\"},{\"attributes\":{\"source\":{\"id\":\"2367\"}},\"id\":\"2374\",\"type\":\"CDSView\"},{\"attributes\":{\"source\":{\"id\":\"2411\"}},\"id\":\"2418\",\"type\":\"CDSView\"},{\"attributes\":{\"active_drag\":\"auto\",\"active_inspect\":\"auto\",\"active_multi\":null,\"active_scroll\":\"auto\",\"active_tap\":\"auto\",\"tools\":[{\"id\":\"2337\"},{\"id\":\"2354\"},{\"id\":\"2355\"},{\"id\":\"2356\"},{\"id\":\"2357\"},{\"id\":\"2358\"}]},\"id\":\"2360\",\"type\":\"Toolbar\"},{\"attributes\":{},\"id\":\"2389\",\"type\":\"LinearScale\"},{\"attributes\":{},\"id\":\"2354\",\"type\":\"SaveTool\"},{\"attributes\":{\"below\":[{\"id\":\"2391\"}],\"center\":[{\"id\":\"2393\"},{\"id\":\"2397\"}],\"left\":[{\"id\":\"2394\"}],\"margin\":null,\"min_border_bottom\":10,\"min_border_left\":10,\"min_border_right\":10,\"min_border_top\":10,\"plot_height\":500,\"plot_width\":800,\"renderers\":[{\"id\":\"2417\"}],\"sizing_mode\":\"fixed\",\"title\":{\"id\":\"2383\"},\"toolbar\":{\"id\":\"2404\"},\"toolbar_location\":null,\"x_range\":{\"id\":\"2335\"},\"x_scale\":{\"id\":\"2387\"},\"y_range\":{\"id\":\"2380\"},\"y_scale\":{\"id\":\"2389\"}},\"id\":\"2382\",\"subtype\":\"Figure\",\"type\":\"Plot\"},{\"attributes\":{},\"id\":\"2355\",\"type\":\"PanTool\"},{\"attributes\":{},\"id\":\"2358\",\"type\":\"ResetTool\"},{\"attributes\":{\"end\":4013.5,\"reset_end\":4013.5,\"reset_start\":0.0,\"tags\":[[[\"gross_rent\",\"gross_rent\",null]]]},\"id\":\"2380\",\"type\":\"Range1d\"},{\"attributes\":{\"fill_color\":{\"value\":\"#30a2da\"},\"top\":{\"field\":\"gross_rent\"},\"width\":{\"value\":0.8},\"x\":{\"field\":\"neighborhood\"}},\"id\":\"2414\",\"type\":\"VBar\"},{\"attributes\":{},\"id\":\"2356\",\"type\":\"WheelZoomTool\"},{\"attributes\":{\"overlay\":{\"id\":\"2359\"}},\"id\":\"2357\",\"type\":\"BoxZoomTool\"},{\"attributes\":{\"callback\":null,\"renderers\":[{\"id\":\"2417\"}],\"tags\":[\"hv_created\"],\"tooltips\":[[\"neighborhood\",\"@{neighborhood}\"],[\"gross_rent\",\"@{gross_rent}\"]]},\"id\":\"2381\",\"type\":\"HoverTool\"},{\"attributes\":{\"overlay\":{\"id\":\"2403\"}},\"id\":\"2401\",\"type\":\"BoxZoomTool\"},{\"attributes\":{\"children\":[{\"id\":\"2334\"},{\"id\":\"2444\"},{\"id\":\"2589\"}],\"margin\":[0,0,0,0],\"name\":\"Row07488\",\"tags\":[\"embedded\"]},\"id\":\"2333\",\"type\":\"Row\"},{\"attributes\":{\"axis\":{\"id\":\"2391\"},\"grid_line_color\":null,\"ticker\":null},\"id\":\"2393\",\"type\":\"Grid\"},{\"attributes\":{\"axis\":{\"id\":\"2394\"},\"dimension\":1,\"grid_line_color\":null,\"ticker\":null},\"id\":\"2397\",\"type\":\"Grid\"},{\"attributes\":{\"callback\":null,\"renderers\":[{\"id\":\"2373\"}],\"tags\":[\"hv_created\"],\"tooltips\":[[\"neighborhood\",\"@{neighborhood}\"],[\"sale_price_sqr_foot\",\"@{sale_price_sqr_foot}\"]]},\"id\":\"2337\",\"type\":\"HoverTool\"},{\"attributes\":{\"end\":929.3801355198136,\"reset_end\":929.3801355198136,\"reset_start\":0.0,\"tags\":[[[\"sale_price_sqr_foot\",\"sale_price_sqr_foot\",null]]]},\"id\":\"2336\",\"type\":\"Range1d\"},{\"attributes\":{\"axis_label\":\"gross_rent\",\"bounds\":\"auto\",\"formatter\":{\"id\":\"2421\"},\"major_label_orientation\":\"horizontal\",\"ticker\":{\"id\":\"2395\"}},\"id\":\"2394\",\"type\":\"LinearAxis\"},{\"attributes\":{},\"id\":\"2420\",\"type\":\"CategoricalTickFormatter\"},{\"attributes\":{},\"id\":\"2392\",\"type\":\"CategoricalTicker\"},{\"attributes\":{\"fill_color\":{\"value\":\"#30a2da\"},\"top\":{\"field\":\"sale_price_sqr_foot\"},\"width\":{\"value\":0.8},\"x\":{\"field\":\"neighborhood\"}},\"id\":\"2370\",\"type\":\"VBar\"},{\"attributes\":{\"active_drag\":\"auto\",\"active_inspect\":\"auto\",\"active_multi\":null,\"active_scroll\":\"auto\",\"active_tap\":\"auto\",\"tools\":[{\"id\":\"2381\"},{\"id\":\"2398\"},{\"id\":\"2399\"},{\"id\":\"2400\"},{\"id\":\"2401\"},{\"id\":\"2402\"}]},\"id\":\"2404\",\"type\":\"Toolbar\"},{\"attributes\":{},\"id\":\"2387\",\"type\":\"CategoricalScale\"},{\"attributes\":{\"data_source\":{\"id\":\"2411\"},\"glyph\":{\"id\":\"2414\"},\"hover_glyph\":null,\"muted_glyph\":{\"id\":\"2416\"},\"nonselection_glyph\":{\"id\":\"2415\"},\"selection_glyph\":null,\"view\":{\"id\":\"2418\"}},\"id\":\"2417\",\"type\":\"GlyphRenderer\"},{\"attributes\":{\"toolbar\":{\"id\":\"2442\"},\"toolbar_location\":\"above\"},\"id\":\"2443\",\"type\":\"ToolbarBox\"},{\"attributes\":{\"axis_label\":\"neighborhood\",\"bounds\":\"auto\",\"formatter\":{\"id\":\"2420\"},\"major_label_orientation\":1.9198621771937625,\"ticker\":{\"id\":\"2392\"}},\"id\":\"2391\",\"type\":\"CategoricalAxis\"},{\"attributes\":{},\"id\":\"2421\",\"type\":\"BasicTickFormatter\"},{\"attributes\":{\"text\":\"The Mean *Sales* Price Per Square Foot BY NEIGHBORHOOD\",\"text_color\":{\"value\":\"black\"},\"text_font_size\":{\"value\":\"12pt\"}},\"id\":\"2339\",\"type\":\"Title\"},{\"attributes\":{\"bottom_units\":\"screen\",\"fill_alpha\":0.5,\"fill_color\":\"lightgrey\",\"left_units\":\"screen\",\"level\":\"overlay\",\"line_alpha\":1.0,\"line_color\":\"black\",\"line_dash\":[4,4],\"line_width\":2,\"right_units\":\"screen\",\"top_units\":\"screen\"},\"id\":\"2359\",\"type\":\"BoxAnnotation\"},{\"attributes\":{\"fill_alpha\":{\"value\":0.1},\"fill_color\":{\"value\":\"#30a2da\"},\"line_alpha\":{\"value\":0.1},\"top\":{\"field\":\"gross_rent\"},\"width\":{\"value\":0.8},\"x\":{\"field\":\"neighborhood\"}},\"id\":\"2415\",\"type\":\"VBar\"},{\"attributes\":{\"toolbars\":[{\"id\":\"2360\"},{\"id\":\"2404\"}],\"tools\":[{\"id\":\"2337\"},{\"id\":\"2354\"},{\"id\":\"2355\"},{\"id\":\"2356\"},{\"id\":\"2357\"},{\"id\":\"2358\"},{\"id\":\"2381\"},{\"id\":\"2398\"},{\"id\":\"2399\"},{\"id\":\"2400\"},{\"id\":\"2401\"},{\"id\":\"2402\"}]},\"id\":\"2442\",\"type\":\"ProxyToolbar\"},{\"attributes\":{},\"id\":\"2377\",\"type\":\"BasicTickFormatter\"},{\"attributes\":{\"margin\":[5,5,5,5],\"name\":\"HSpacer07493\",\"sizing_mode\":\"stretch_width\"},\"id\":\"2589\",\"type\":\"Spacer\"},{\"attributes\":{\"fill_alpha\":{\"value\":0.1},\"fill_color\":{\"value\":\"#30a2da\"},\"line_alpha\":{\"value\":0.1},\"top\":{\"field\":\"sale_price_sqr_foot\"},\"width\":{\"value\":0.8},\"x\":{\"field\":\"neighborhood\"}},\"id\":\"2371\",\"type\":\"VBar\"},{\"attributes\":{\"data\":{\"gross_rent\":{\"__ndarray__\":\"AAAAAADurkAAAAAAADatQAAAAAAAkqxAAAAAAACQq0AAAAAAAKyqQA==\",\"dtype\":\"float64\",\"order\":\"little\",\"shape\":[5]},\"neighborhood\":[\"Westwood Park\",\"Bayview Heights\",\"Visitacion Valley\",\"Silver Terrace\",\"Merced Heights\"]},\"selected\":{\"id\":\"2412\"},\"selection_policy\":{\"id\":\"2439\"}},\"id\":\"2411\",\"type\":\"ColumnDataSource\"},{\"attributes\":{},\"id\":\"2412\",\"type\":\"Selection\"},{\"attributes\":{},\"id\":\"2398\",\"type\":\"SaveTool\"},{\"attributes\":{\"below\":[{\"id\":\"2347\"}],\"center\":[{\"id\":\"2349\"},{\"id\":\"2353\"}],\"left\":[{\"id\":\"2350\"}],\"margin\":null,\"min_border_bottom\":10,\"min_border_left\":10,\"min_border_right\":10,\"min_border_top\":10,\"plot_height\":500,\"plot_width\":800,\"renderers\":[{\"id\":\"2373\"}],\"sizing_mode\":\"fixed\",\"title\":{\"id\":\"2339\"},\"toolbar\":{\"id\":\"2360\"},\"toolbar_location\":null,\"x_range\":{\"id\":\"2335\"},\"x_scale\":{\"id\":\"2343\"},\"y_range\":{\"id\":\"2336\"},\"y_scale\":{\"id\":\"2345\"}},\"id\":\"2338\",\"subtype\":\"Figure\",\"type\":\"Plot\"},{\"attributes\":{},\"id\":\"2399\",\"type\":\"PanTool\"},{\"attributes\":{},\"id\":\"2368\",\"type\":\"Selection\"},{\"attributes\":{\"fill_alpha\":{\"value\":0.2},\"fill_color\":{\"value\":\"#30a2da\"},\"line_alpha\":{\"value\":0.2},\"top\":{\"field\":\"sale_price_sqr_foot\"},\"width\":{\"value\":0.8},\"x\":{\"field\":\"neighborhood\"}},\"id\":\"2372\",\"type\":\"VBar\"},{\"attributes\":{\"text\":\"Gross Rent BY NEIGHBORHOOD\",\"text_color\":{\"value\":\"black\"},\"text_font_size\":{\"value\":\"12pt\"}},\"id\":\"2383\",\"type\":\"Title\"},{\"attributes\":{\"bottom_units\":\"screen\",\"fill_alpha\":0.5,\"fill_color\":\"lightgrey\",\"left_units\":\"screen\",\"level\":\"overlay\",\"line_alpha\":1.0,\"line_color\":\"black\",\"line_dash\":[4,4],\"line_width\":2,\"right_units\":\"screen\",\"top_units\":\"screen\"},\"id\":\"2403\",\"type\":\"BoxAnnotation\"},{\"attributes\":{},\"id\":\"2400\",\"type\":\"WheelZoomTool\"},{\"attributes\":{},\"id\":\"2345\",\"type\":\"LinearScale\"},{\"attributes\":{\"data\":{\"neighborhood\":[\"Union Square District\",\"Merced Heights\",\"Miraloma Park\",\"Pacific Heights\",\"Westwood Park\",\"Telegraph Hill\",\"Presidio Heights\",\"Cow Hollow\",\"Potrero Hill\",\"South Beach\"],\"sale_price_sqr_foot\":{\"__ndarray__\":\"JRAUMfI/jEB9IrkvwqaIQFx/3pp8XohAFpsVUHKMhUBs0ERas3iFQL0KhXgNJIVAy835O80ahUANV25bts+EQJrMCuEbsIRAya3y7v5QhEA=\",\"dtype\":\"float64\",\"order\":\"little\",\"shape\":[10]}},\"selected\":{\"id\":\"2368\"},\"selection_policy\":{\"id\":\"2430\"}},\"id\":\"2367\",\"type\":\"ColumnDataSource\"},{\"attributes\":{},\"id\":\"2343\",\"type\":\"CategoricalScale\"},{\"attributes\":{},\"id\":\"2376\",\"type\":\"CategoricalTickFormatter\"},{\"attributes\":{},\"id\":\"2402\",\"type\":\"ResetTool\"}],\"root_ids\":[\"2333\"]},\"title\":\"Bokeh Application\",\"version\":\"2.2.3\"}};\n",
       "    var render_items = [{\"docid\":\"276168b2-24e0-4b31-8c8e-474a93dd561d\",\"root_ids\":[\"2333\"],\"roots\":{\"2333\":\"b4050b30-53c8-473d-8c95-c52e4bea96f2\"}}];\n",
       "    root.Bokeh.embed.embed_items_notebook(docs_json, render_items);\n",
       "  }\n",
       "  if (root.Bokeh !== undefined && root.Bokeh.Panel !== undefined && root['Plotly'] !== undefined ) {\n",
       "    embed_document(root);\n",
       "  } else {\n",
       "    var attempts = 0;\n",
       "    var timer = setInterval(function(root) {\n",
       "      if (root.Bokeh !== undefined && root.Bokeh.Panel !== undefined && root['Plotly'] !== undefined) {\n",
       "        clearInterval(timer);\n",
       "        embed_document(root);\n",
       "      } else if (document.readyState == \"complete\") {\n",
       "        attempts++;\n",
       "        if (attempts > 100) {\n",
       "          clearInterval(timer);\n",
       "          console.log(\"Bokeh: ERROR: Unable to run BokehJS code because BokehJS library is missing\");\n",
       "        }\n",
       "      }\n",
       "    }, 10, root)\n",
       "  }\n",
       "})(window);</script>"
      ],
      "text/plain": [
       ":Layout\n",
       "   .Bars.I  :Bars   [neighborhood]   (sale_price_sqr_foot)\n",
       "   .Bars.II :Bars   [neighborhood]   (gross_rent)"
      ]
     },
     "execution_count": 75,
     "metadata": {
      "application/vnd.holoviews_exec.v0+json": {
       "id": "2333"
      }
     },
     "output_type": "execute_result"
    }
   ],
   "source": [
    "plotly1+plotly2"
   ]
  },
  {
   "cell_type": "code",
   "execution_count": 76,
   "metadata": {},
   "outputs": [],
   "source": [
    "import pandas as pd\n",
    "import hvplot.pandas\n",
    "from pathlib import Path\n",
    "\n",
    "load_dotenv()\n",
    "map_box_api = os.getenv(\"mapbox\")\n",
    "\n",
    "# Set the Mapbox API\n",
    "px.set_mapbox_access_token(map_box_api)"
   ]
  },
  {
   "cell_type": "markdown",
   "metadata": {},
   "source": [
    "### Data Preparation\n",
    "\n",
    "You will need to join the location data with the mean values per neighborhood.\n",
    "\n",
    "1. Calculate the mean values for each neighborhood.\n",
    "\n",
    "2. Join the average values with the neighborhood locations."
   ]
  },
  {
   "cell_type": "code",
   "execution_count": 77,
   "metadata": {},
   "outputs": [
    {
     "data": {
      "text/html": [
       "<div>\n",
       "<style scoped>\n",
       "    .dataframe tbody tr th:only-of-type {\n",
       "        vertical-align: middle;\n",
       "    }\n",
       "\n",
       "    .dataframe tbody tr th {\n",
       "        vertical-align: top;\n",
       "    }\n",
       "\n",
       "    .dataframe thead th {\n",
       "        text-align: right;\n",
       "    }\n",
       "</style>\n",
       "<table border=\"1\" class=\"dataframe\">\n",
       "  <thead>\n",
       "    <tr style=\"text-align: right;\">\n",
       "      <th></th>\n",
       "      <th>Neighborhood</th>\n",
       "      <th>year</th>\n",
       "      <th>sale_price_sqr_foot</th>\n",
       "      <th>housing_units</th>\n",
       "      <th>gross_rent</th>\n",
       "    </tr>\n",
       "  </thead>\n",
       "  <tbody>\n",
       "    <tr>\n",
       "      <th>0</th>\n",
       "      <td>Alamo Square</td>\n",
       "      <td>2013.000000</td>\n",
       "      <td>366.020712</td>\n",
       "      <td>378401.0</td>\n",
       "      <td>2817.285714</td>\n",
       "    </tr>\n",
       "    <tr>\n",
       "      <th>1</th>\n",
       "      <td>Anza Vista</td>\n",
       "      <td>2013.333333</td>\n",
       "      <td>373.382198</td>\n",
       "      <td>379050.0</td>\n",
       "      <td>3031.833333</td>\n",
       "    </tr>\n",
       "    <tr>\n",
       "      <th>2</th>\n",
       "      <td>Bayview</td>\n",
       "      <td>2012.000000</td>\n",
       "      <td>204.588623</td>\n",
       "      <td>376454.0</td>\n",
       "      <td>2318.400000</td>\n",
       "    </tr>\n",
       "    <tr>\n",
       "      <th>3</th>\n",
       "      <td>Bayview Heights</td>\n",
       "      <td>2015.000000</td>\n",
       "      <td>590.792839</td>\n",
       "      <td>382295.0</td>\n",
       "      <td>3739.000000</td>\n",
       "    </tr>\n",
       "    <tr>\n",
       "      <th>4</th>\n",
       "      <td>Bernal Heights</td>\n",
       "      <td>2013.500000</td>\n",
       "      <td>576.746488</td>\n",
       "      <td>379374.5</td>\n",
       "      <td>3080.333333</td>\n",
       "    </tr>\n",
       "  </tbody>\n",
       "</table>\n",
       "</div>"
      ],
      "text/plain": [
       "      Neighborhood         year  sale_price_sqr_foot  housing_units  \\\n",
       "0     Alamo Square  2013.000000           366.020712       378401.0   \n",
       "1       Anza Vista  2013.333333           373.382198       379050.0   \n",
       "2          Bayview  2012.000000           204.588623       376454.0   \n",
       "3  Bayview Heights  2015.000000           590.792839       382295.0   \n",
       "4  Bernal Heights   2013.500000           576.746488       379374.5   \n",
       "\n",
       "    gross_rent  \n",
       "0  2817.285714  \n",
       "1  3031.833333  \n",
       "2  2318.400000  \n",
       "3  3739.000000  \n",
       "4  3080.333333  "
      ]
     },
     "execution_count": 77,
     "metadata": {},
     "output_type": "execute_result"
    }
   ],
   "source": [
    "df_all = sfo_data.groupby(by=\"neighborhood\").mean()\n",
    "df_all.reset_index(inplace=True)\n",
    "df_all.rename(columns={\"neighborhood\": \"Neighborhood\"}, inplace=True)\n",
    "df_all.head()"
   ]
  },
  {
   "cell_type": "code",
   "execution_count": 78,
   "metadata": {},
   "outputs": [
    {
     "data": {
      "text/html": [
       "<div>\n",
       "<style scoped>\n",
       "    .dataframe tbody tr th:only-of-type {\n",
       "        vertical-align: middle;\n",
       "    }\n",
       "\n",
       "    .dataframe tbody tr th {\n",
       "        vertical-align: top;\n",
       "    }\n",
       "\n",
       "    .dataframe thead th {\n",
       "        text-align: right;\n",
       "    }\n",
       "</style>\n",
       "<table border=\"1\" class=\"dataframe\">\n",
       "  <thead>\n",
       "    <tr style=\"text-align: right;\">\n",
       "      <th></th>\n",
       "      <th>Neighborhood</th>\n",
       "      <th>Lat</th>\n",
       "      <th>Lon</th>\n",
       "    </tr>\n",
       "  </thead>\n",
       "  <tbody>\n",
       "    <tr>\n",
       "      <th>0</th>\n",
       "      <td>Alamo Square</td>\n",
       "      <td>37.791012</td>\n",
       "      <td>-122.402100</td>\n",
       "    </tr>\n",
       "    <tr>\n",
       "      <th>1</th>\n",
       "      <td>Anza Vista</td>\n",
       "      <td>37.779598</td>\n",
       "      <td>-122.443451</td>\n",
       "    </tr>\n",
       "    <tr>\n",
       "      <th>2</th>\n",
       "      <td>Bayview</td>\n",
       "      <td>37.734670</td>\n",
       "      <td>-122.401060</td>\n",
       "    </tr>\n",
       "    <tr>\n",
       "      <th>3</th>\n",
       "      <td>Bayview Heights</td>\n",
       "      <td>37.728740</td>\n",
       "      <td>-122.410980</td>\n",
       "    </tr>\n",
       "    <tr>\n",
       "      <th>4</th>\n",
       "      <td>Bernal Heights</td>\n",
       "      <td>37.728630</td>\n",
       "      <td>-122.443050</td>\n",
       "    </tr>\n",
       "  </tbody>\n",
       "</table>\n",
       "</div>"
      ],
      "text/plain": [
       "      Neighborhood        Lat         Lon\n",
       "0     Alamo Square  37.791012 -122.402100\n",
       "1       Anza Vista  37.779598 -122.443451\n",
       "2          Bayview  37.734670 -122.401060\n",
       "3  Bayview Heights  37.728740 -122.410980\n",
       "4   Bernal Heights  37.728630 -122.443050"
      ]
     },
     "execution_count": 78,
     "metadata": {},
     "output_type": "execute_result"
    }
   ],
   "source": [
    "file_path = Path(\"neighborhoods_coordinates.csv\")\n",
    "df_locations = pd.read_csv(file_path)\n",
    "df_locations.head()"
   ]
  },
  {
   "cell_type": "code",
   "execution_count": 79,
   "metadata": {},
   "outputs": [
    {
     "data": {
      "text/html": [
       "<div>\n",
       "<style scoped>\n",
       "    .dataframe tbody tr th:only-of-type {\n",
       "        vertical-align: middle;\n",
       "    }\n",
       "\n",
       "    .dataframe tbody tr th {\n",
       "        vertical-align: top;\n",
       "    }\n",
       "\n",
       "    .dataframe thead th {\n",
       "        text-align: right;\n",
       "    }\n",
       "</style>\n",
       "<table border=\"1\" class=\"dataframe\">\n",
       "  <thead>\n",
       "    <tr style=\"text-align: right;\">\n",
       "      <th></th>\n",
       "      <th>Neighborhood</th>\n",
       "      <th>Lat</th>\n",
       "      <th>Lon</th>\n",
       "      <th>year</th>\n",
       "      <th>sale_price_sqr_foot</th>\n",
       "      <th>housing_units</th>\n",
       "      <th>gross_rent</th>\n",
       "    </tr>\n",
       "  </thead>\n",
       "  <tbody>\n",
       "    <tr>\n",
       "      <th>0</th>\n",
       "      <td>Alamo Square</td>\n",
       "      <td>37.791012</td>\n",
       "      <td>-122.402100</td>\n",
       "      <td>2013.000000</td>\n",
       "      <td>366.020712</td>\n",
       "      <td>378401.0</td>\n",
       "      <td>2817.285714</td>\n",
       "    </tr>\n",
       "    <tr>\n",
       "      <th>1</th>\n",
       "      <td>Anza Vista</td>\n",
       "      <td>37.779598</td>\n",
       "      <td>-122.443451</td>\n",
       "      <td>2013.333333</td>\n",
       "      <td>373.382198</td>\n",
       "      <td>379050.0</td>\n",
       "      <td>3031.833333</td>\n",
       "    </tr>\n",
       "    <tr>\n",
       "      <th>2</th>\n",
       "      <td>Bayview</td>\n",
       "      <td>37.734670</td>\n",
       "      <td>-122.401060</td>\n",
       "      <td>2012.000000</td>\n",
       "      <td>204.588623</td>\n",
       "      <td>376454.0</td>\n",
       "      <td>2318.400000</td>\n",
       "    </tr>\n",
       "    <tr>\n",
       "      <th>3</th>\n",
       "      <td>Bayview Heights</td>\n",
       "      <td>37.728740</td>\n",
       "      <td>-122.410980</td>\n",
       "      <td>2015.000000</td>\n",
       "      <td>590.792839</td>\n",
       "      <td>382295.0</td>\n",
       "      <td>3739.000000</td>\n",
       "    </tr>\n",
       "    <tr>\n",
       "      <th>4</th>\n",
       "      <td>Buena Vista Park</td>\n",
       "      <td>37.768160</td>\n",
       "      <td>-122.439330</td>\n",
       "      <td>2012.833333</td>\n",
       "      <td>452.680591</td>\n",
       "      <td>378076.5</td>\n",
       "      <td>2698.833333</td>\n",
       "    </tr>\n",
       "  </tbody>\n",
       "</table>\n",
       "</div>"
      ],
      "text/plain": [
       "       Neighborhood        Lat         Lon         year  sale_price_sqr_foot  \\\n",
       "0      Alamo Square  37.791012 -122.402100  2013.000000           366.020712   \n",
       "1        Anza Vista  37.779598 -122.443451  2013.333333           373.382198   \n",
       "2           Bayview  37.734670 -122.401060  2012.000000           204.588623   \n",
       "3   Bayview Heights  37.728740 -122.410980  2015.000000           590.792839   \n",
       "4  Buena Vista Park  37.768160 -122.439330  2012.833333           452.680591   \n",
       "\n",
       "   housing_units   gross_rent  \n",
       "0       378401.0  2817.285714  \n",
       "1       379050.0  3031.833333  \n",
       "2       376454.0  2318.400000  \n",
       "3       382295.0  3739.000000  \n",
       "4       378076.5  2698.833333  "
      ]
     },
     "execution_count": 79,
     "metadata": {},
     "output_type": "execute_result"
    }
   ],
   "source": [
    "df_all = pd.merge(df_locations, df_all, on=\"Neighborhood\", how=\"inner\")\n",
    "df_all.head()"
   ]
  },
  {
   "cell_type": "code",
   "execution_count": 81,
   "metadata": {},
   "outputs": [
    {
     "data": {
      "application/vnd.plotly.v1+json": {
       "config": {
        "plotlyServerURL": "https://plot.ly"
       },
       "data": [
        {
         "hovertemplate": "sale_price_sqr_foot=%{marker.size}<br>Lat=%{lat}<br>Lon=%{lon}<br>gross_rent=%{marker.color}<extra></extra>",
         "lat": [
          37.791012,
          37.779598,
          37.73467,
          37.72874,
          37.768159999999995,
          37.77789,
          37.74961,
          37.75331,
          37.78553,
          37.79298,
          37.7228,
          37.728629999999995,
          37.76964,
          37.75554,
          37.72874,
          37.79101,
          37.79101,
          37.757059999999996,
          37.728629999999995,
          37.757912,
          37.76525,
          37.76525,
          37.72551,
          37.72116,
          37.75416,
          37.74961,
          37.769112,
          37.74961,
          37.78553,
          37.801520000000004,
          37.7789,
          37.79298,
          37.79972,
          37.71993,
          37.75331,
          37.73415,
          37.783229999999996,
          37.75184,
          37.728629999999995,
          37.79298,
          37.75331,
          37.80055,
          37.80055,
          37.71993,
          37.7228,
          37.7517,
          37.74961,
          37.79298,
          37.72838,
          37.74961,
          37.76355,
          37.73467,
          37.73196,
          37.78553,
          37.79298,
          37.73467,
          37.783229999999996,
          37.79101,
          37.73415,
          37.80055,
          37.753311,
          37.79101,
          37.779509999999995,
          37.72874,
          37.74026,
          37.79298,
          37.7347,
          37.73415,
          37.79298
         ],
         "legendgroup": "",
         "lon": [
          -122.4021,
          -122.443451,
          -122.40106000000002,
          -122.41098000000001,
          -122.43933,
          -122.44516999999999,
          -122.48998999999999,
          -122.44703,
          -122.456,
          -122.43579,
          -122.43869,
          -122.44305,
          -122.42611000000001,
          -122.43778999999999,
          -122.41098000000001,
          -122.4021,
          -122.4021,
          -122.45508999999998,
          -122.44305,
          -122.46401999999999,
          -122.43596000000001,
          -122.43596000000001,
          -122.37178,
          -122.48706999999999,
          -122.41946999999999,
          -122.48998999999999,
          -122.483566,
          -122.48997,
          -122.456,
          -122.45456999999999,
          -122.45496000000001,
          -122.43579,
          -122.46688999999999,
          -122.46595,
          -122.44703,
          -122.45700000000001,
          -122.40065,
          -122.42522,
          -122.44305,
          -122.43579,
          -122.44703,
          -122.40433,
          -122.40433,
          -122.46595,
          -122.43869,
          -122.446,
          -122.48998999999999,
          -122.43579,
          -122.47851000000001,
          -122.48998999999999,
          -122.45765,
          -122.40106000000002,
          -122.38323999999999,
          -122.456,
          -122.43579,
          -122.40106000000002,
          -122.40065,
          -122.4021,
          -122.45700000000001,
          -122.40433,
          -122.447029,
          -122.4021,
          -122.42022,
          -122.41098000000001,
          -122.46388,
          -122.43579,
          -122.456854,
          -122.45700000000001,
          -122.39636000000002
         ],
         "marker": {
          "color": [
           2817.285714285714,
           3031.8333333333335,
           2318.4,
           3739,
           2698.8333333333335,
           2817.285714285714,
           2817.285714285714,
           2250.5,
           2472,
           2817.285714285714,
           2698.8333333333335,
           2016,
           2780.25,
           2817.285714285714,
           3031.8333333333335,
           2817.285714285714,
           2472,
           1781.5,
           2899.5,
           2601.4,
           2817.285714285714,
           2817.285714285714,
           2489,
           2960,
           2817.285714285714,
           3224,
           2817.285714285714,
           2817.285714285714,
           2817.285714285714,
           2555.1666666666665,
           2555.1666666666665,
           2817.285714285714,
           2817.285714285714,
           3414,
           2647.5,
           2155.25,
           2663.6666666666665,
           2555.1666666666665,
           3173.4,
           2817.285714285714,
           2817.285714285714,
           2990.8,
           2818.4,
           2434,
           2995.75,
           2817.285714285714,
           2817.285714285714,
           2817.285714285714,
           2817.285714285714,
           2555.1666666666665,
           2817.285714285714,
           2318.4,
           2817.285714285714,
           2817.285714285714,
           2817.285714285714,
           3528,
           2099,
           2817.285714285714,
           2899.5,
           2817.285714285714,
           2817.285714285714,
           2555.1666666666665,
           2817.285714285714,
           3657,
           2515.5,
           2555.1666666666665,
           2250.5,
           3959,
           2555.1666666666665
          ],
          "coloraxis": "coloraxis",
          "size": [
           366.02071153227644,
           373.38219782647707,
           204.58862288246596,
           590.7928388746802,
           452.6805909308442,
           394.4223987800589,
           423.6879277015824,
           487.2448860262575,
           587.5390673661739,
           665.964041578323,
           303.00418440849427,
           434.99173944522124,
           502.59915555623616,
           642.2486706357391,
           388.76592700230754,
           391.36253308010487,
           455.83621223779153,
           321.84083657398736,
           623.826177537435,
           639.3935574881156,
           449.5447622856192,
           355.9328279480578,
           170.62491987132685,
           384.7979281346048,
           397.67371473613446,
           519.3856038526768,
           378.59431396136455,
           413.66751546215943,
           529.3841850673389,
           409.95435219297514,
           478.2285530213679,
           539.2379688783261,
           583.7492694814549,
           788.8448175872469,
           550.5103482917151,
           779.810842264425,
           566.1922135483312,
           418.9156225067234,
           523.4662013248023,
           458.2040944846015,
           542.4429128151736,
           411.646875881678,
           498.26975500787677,
           330.0973846552545,
           242.37095202049667,
           485.0270126111035,
           394.21903228550775,
           689.5558168113664,
           373.732856371763,
           336.172661037069,
           632.740453508577,
           327.11392534647274,
           662.0136128276529,
           675.3502120510033,
           608.9832172374425,
           170.2925485152069,
           650.1244791945729,
           570.2714266991686,
           528.3183317138463,
           676.5065775293257,
           469.39862649935156,
           903.9932576720645,
           404.1501801622257,
           301.46617997450267,
           498.4884848295011,
           307.56220097996066,
           533.7039354359513,
           687.0875745178323,
           576.709848378276
          ],
          "sizemode": "area",
          "sizeref": 2.259983144180161
         },
         "mode": "markers",
         "name": "",
         "showlegend": false,
         "subplot": "mapbox",
         "type": "scattermapbox"
        }
       ],
       "layout": {
        "autosize": true,
        "coloraxis": {
         "colorbar": {
          "title": {
           "text": "gross_rent"
          }
         },
         "colorscale": [
          [
           0,
           "#0d0887"
          ],
          [
           0.1111111111111111,
           "#46039f"
          ],
          [
           0.2222222222222222,
           "#7201a8"
          ],
          [
           0.3333333333333333,
           "#9c179e"
          ],
          [
           0.4444444444444444,
           "#bd3786"
          ],
          [
           0.5555555555555556,
           "#d8576b"
          ],
          [
           0.6666666666666666,
           "#ed7953"
          ],
          [
           0.7777777777777778,
           "#fb9f3a"
          ],
          [
           0.8888888888888888,
           "#fdca26"
          ],
          [
           1,
           "#f0f921"
          ]
         ]
        },
        "legend": {
         "itemsizing": "constant",
         "tracegroupgap": 0
        },
        "mapbox": {
         "accesstoken": "pk.eyJ1Ijoic2NvdHR3YWx0YSIsImEiOiJja2xzamt6N2IwMzNiMnducTczcGRyaTRpIn0.6ZY6BbmiCxfJ4YZHxXp-SA",
         "bearing": 0,
         "center": {
          "lat": 38.192125617545145,
          "lon": -122.97087218032624
         },
         "domain": {
          "x": [
           0,
           1
          ],
          "y": [
           0,
           1
          ]
         },
         "pitch": 0,
         "zoom": 8
        },
        "margin": {
         "t": 60
        },
        "template": {
         "data": {
          "bar": [
           {
            "error_x": {
             "color": "#2a3f5f"
            },
            "error_y": {
             "color": "#2a3f5f"
            },
            "marker": {
             "line": {
              "color": "#E5ECF6",
              "width": 0.5
             }
            },
            "type": "bar"
           }
          ],
          "barpolar": [
           {
            "marker": {
             "line": {
              "color": "#E5ECF6",
              "width": 0.5
             }
            },
            "type": "barpolar"
           }
          ],
          "carpet": [
           {
            "aaxis": {
             "endlinecolor": "#2a3f5f",
             "gridcolor": "white",
             "linecolor": "white",
             "minorgridcolor": "white",
             "startlinecolor": "#2a3f5f"
            },
            "baxis": {
             "endlinecolor": "#2a3f5f",
             "gridcolor": "white",
             "linecolor": "white",
             "minorgridcolor": "white",
             "startlinecolor": "#2a3f5f"
            },
            "type": "carpet"
           }
          ],
          "choropleth": [
           {
            "colorbar": {
             "outlinewidth": 0,
             "ticks": ""
            },
            "type": "choropleth"
           }
          ],
          "contour": [
           {
            "colorbar": {
             "outlinewidth": 0,
             "ticks": ""
            },
            "colorscale": [
             [
              0,
              "#0d0887"
             ],
             [
              0.1111111111111111,
              "#46039f"
             ],
             [
              0.2222222222222222,
              "#7201a8"
             ],
             [
              0.3333333333333333,
              "#9c179e"
             ],
             [
              0.4444444444444444,
              "#bd3786"
             ],
             [
              0.5555555555555556,
              "#d8576b"
             ],
             [
              0.6666666666666666,
              "#ed7953"
             ],
             [
              0.7777777777777778,
              "#fb9f3a"
             ],
             [
              0.8888888888888888,
              "#fdca26"
             ],
             [
              1,
              "#f0f921"
             ]
            ],
            "type": "contour"
           }
          ],
          "contourcarpet": [
           {
            "colorbar": {
             "outlinewidth": 0,
             "ticks": ""
            },
            "type": "contourcarpet"
           }
          ],
          "heatmap": [
           {
            "colorbar": {
             "outlinewidth": 0,
             "ticks": ""
            },
            "colorscale": [
             [
              0,
              "#0d0887"
             ],
             [
              0.1111111111111111,
              "#46039f"
             ],
             [
              0.2222222222222222,
              "#7201a8"
             ],
             [
              0.3333333333333333,
              "#9c179e"
             ],
             [
              0.4444444444444444,
              "#bd3786"
             ],
             [
              0.5555555555555556,
              "#d8576b"
             ],
             [
              0.6666666666666666,
              "#ed7953"
             ],
             [
              0.7777777777777778,
              "#fb9f3a"
             ],
             [
              0.8888888888888888,
              "#fdca26"
             ],
             [
              1,
              "#f0f921"
             ]
            ],
            "type": "heatmap"
           }
          ],
          "heatmapgl": [
           {
            "colorbar": {
             "outlinewidth": 0,
             "ticks": ""
            },
            "colorscale": [
             [
              0,
              "#0d0887"
             ],
             [
              0.1111111111111111,
              "#46039f"
             ],
             [
              0.2222222222222222,
              "#7201a8"
             ],
             [
              0.3333333333333333,
              "#9c179e"
             ],
             [
              0.4444444444444444,
              "#bd3786"
             ],
             [
              0.5555555555555556,
              "#d8576b"
             ],
             [
              0.6666666666666666,
              "#ed7953"
             ],
             [
              0.7777777777777778,
              "#fb9f3a"
             ],
             [
              0.8888888888888888,
              "#fdca26"
             ],
             [
              1,
              "#f0f921"
             ]
            ],
            "type": "heatmapgl"
           }
          ],
          "histogram": [
           {
            "marker": {
             "colorbar": {
              "outlinewidth": 0,
              "ticks": ""
             }
            },
            "type": "histogram"
           }
          ],
          "histogram2d": [
           {
            "colorbar": {
             "outlinewidth": 0,
             "ticks": ""
            },
            "colorscale": [
             [
              0,
              "#0d0887"
             ],
             [
              0.1111111111111111,
              "#46039f"
             ],
             [
              0.2222222222222222,
              "#7201a8"
             ],
             [
              0.3333333333333333,
              "#9c179e"
             ],
             [
              0.4444444444444444,
              "#bd3786"
             ],
             [
              0.5555555555555556,
              "#d8576b"
             ],
             [
              0.6666666666666666,
              "#ed7953"
             ],
             [
              0.7777777777777778,
              "#fb9f3a"
             ],
             [
              0.8888888888888888,
              "#fdca26"
             ],
             [
              1,
              "#f0f921"
             ]
            ],
            "type": "histogram2d"
           }
          ],
          "histogram2dcontour": [
           {
            "colorbar": {
             "outlinewidth": 0,
             "ticks": ""
            },
            "colorscale": [
             [
              0,
              "#0d0887"
             ],
             [
              0.1111111111111111,
              "#46039f"
             ],
             [
              0.2222222222222222,
              "#7201a8"
             ],
             [
              0.3333333333333333,
              "#9c179e"
             ],
             [
              0.4444444444444444,
              "#bd3786"
             ],
             [
              0.5555555555555556,
              "#d8576b"
             ],
             [
              0.6666666666666666,
              "#ed7953"
             ],
             [
              0.7777777777777778,
              "#fb9f3a"
             ],
             [
              0.8888888888888888,
              "#fdca26"
             ],
             [
              1,
              "#f0f921"
             ]
            ],
            "type": "histogram2dcontour"
           }
          ],
          "mesh3d": [
           {
            "colorbar": {
             "outlinewidth": 0,
             "ticks": ""
            },
            "type": "mesh3d"
           }
          ],
          "parcoords": [
           {
            "line": {
             "colorbar": {
              "outlinewidth": 0,
              "ticks": ""
             }
            },
            "type": "parcoords"
           }
          ],
          "pie": [
           {
            "automargin": true,
            "type": "pie"
           }
          ],
          "scatter": [
           {
            "marker": {
             "colorbar": {
              "outlinewidth": 0,
              "ticks": ""
             }
            },
            "type": "scatter"
           }
          ],
          "scatter3d": [
           {
            "line": {
             "colorbar": {
              "outlinewidth": 0,
              "ticks": ""
             }
            },
            "marker": {
             "colorbar": {
              "outlinewidth": 0,
              "ticks": ""
             }
            },
            "type": "scatter3d"
           }
          ],
          "scattercarpet": [
           {
            "marker": {
             "colorbar": {
              "outlinewidth": 0,
              "ticks": ""
             }
            },
            "type": "scattercarpet"
           }
          ],
          "scattergeo": [
           {
            "marker": {
             "colorbar": {
              "outlinewidth": 0,
              "ticks": ""
             }
            },
            "type": "scattergeo"
           }
          ],
          "scattergl": [
           {
            "marker": {
             "colorbar": {
              "outlinewidth": 0,
              "ticks": ""
             }
            },
            "type": "scattergl"
           }
          ],
          "scattermapbox": [
           {
            "marker": {
             "colorbar": {
              "outlinewidth": 0,
              "ticks": ""
             }
            },
            "type": "scattermapbox"
           }
          ],
          "scatterpolar": [
           {
            "marker": {
             "colorbar": {
              "outlinewidth": 0,
              "ticks": ""
             }
            },
            "type": "scatterpolar"
           }
          ],
          "scatterpolargl": [
           {
            "marker": {
             "colorbar": {
              "outlinewidth": 0,
              "ticks": ""
             }
            },
            "type": "scatterpolargl"
           }
          ],
          "scatterternary": [
           {
            "marker": {
             "colorbar": {
              "outlinewidth": 0,
              "ticks": ""
             }
            },
            "type": "scatterternary"
           }
          ],
          "surface": [
           {
            "colorbar": {
             "outlinewidth": 0,
             "ticks": ""
            },
            "colorscale": [
             [
              0,
              "#0d0887"
             ],
             [
              0.1111111111111111,
              "#46039f"
             ],
             [
              0.2222222222222222,
              "#7201a8"
             ],
             [
              0.3333333333333333,
              "#9c179e"
             ],
             [
              0.4444444444444444,
              "#bd3786"
             ],
             [
              0.5555555555555556,
              "#d8576b"
             ],
             [
              0.6666666666666666,
              "#ed7953"
             ],
             [
              0.7777777777777778,
              "#fb9f3a"
             ],
             [
              0.8888888888888888,
              "#fdca26"
             ],
             [
              1,
              "#f0f921"
             ]
            ],
            "type": "surface"
           }
          ],
          "table": [
           {
            "cells": {
             "fill": {
              "color": "#EBF0F8"
             },
             "line": {
              "color": "white"
             }
            },
            "header": {
             "fill": {
              "color": "#C8D4E3"
             },
             "line": {
              "color": "white"
             }
            },
            "type": "table"
           }
          ]
         },
         "layout": {
          "annotationdefaults": {
           "arrowcolor": "#2a3f5f",
           "arrowhead": 0,
           "arrowwidth": 1
          },
          "autotypenumbers": "strict",
          "coloraxis": {
           "colorbar": {
            "outlinewidth": 0,
            "ticks": ""
           }
          },
          "colorscale": {
           "diverging": [
            [
             0,
             "#8e0152"
            ],
            [
             0.1,
             "#c51b7d"
            ],
            [
             0.2,
             "#de77ae"
            ],
            [
             0.3,
             "#f1b6da"
            ],
            [
             0.4,
             "#fde0ef"
            ],
            [
             0.5,
             "#f7f7f7"
            ],
            [
             0.6,
             "#e6f5d0"
            ],
            [
             0.7,
             "#b8e186"
            ],
            [
             0.8,
             "#7fbc41"
            ],
            [
             0.9,
             "#4d9221"
            ],
            [
             1,
             "#276419"
            ]
           ],
           "sequential": [
            [
             0,
             "#0d0887"
            ],
            [
             0.1111111111111111,
             "#46039f"
            ],
            [
             0.2222222222222222,
             "#7201a8"
            ],
            [
             0.3333333333333333,
             "#9c179e"
            ],
            [
             0.4444444444444444,
             "#bd3786"
            ],
            [
             0.5555555555555556,
             "#d8576b"
            ],
            [
             0.6666666666666666,
             "#ed7953"
            ],
            [
             0.7777777777777778,
             "#fb9f3a"
            ],
            [
             0.8888888888888888,
             "#fdca26"
            ],
            [
             1,
             "#f0f921"
            ]
           ],
           "sequentialminus": [
            [
             0,
             "#0d0887"
            ],
            [
             0.1111111111111111,
             "#46039f"
            ],
            [
             0.2222222222222222,
             "#7201a8"
            ],
            [
             0.3333333333333333,
             "#9c179e"
            ],
            [
             0.4444444444444444,
             "#bd3786"
            ],
            [
             0.5555555555555556,
             "#d8576b"
            ],
            [
             0.6666666666666666,
             "#ed7953"
            ],
            [
             0.7777777777777778,
             "#fb9f3a"
            ],
            [
             0.8888888888888888,
             "#fdca26"
            ],
            [
             1,
             "#f0f921"
            ]
           ]
          },
          "colorway": [
           "#636efa",
           "#EF553B",
           "#00cc96",
           "#ab63fa",
           "#FFA15A",
           "#19d3f3",
           "#FF6692",
           "#B6E880",
           "#FF97FF",
           "#FECB52"
          ],
          "font": {
           "color": "#2a3f5f"
          },
          "geo": {
           "bgcolor": "white",
           "lakecolor": "white",
           "landcolor": "#E5ECF6",
           "showlakes": true,
           "showland": true,
           "subunitcolor": "white"
          },
          "hoverlabel": {
           "align": "left"
          },
          "hovermode": "closest",
          "mapbox": {
           "style": "light"
          },
          "paper_bgcolor": "white",
          "plot_bgcolor": "#E5ECF6",
          "polar": {
           "angularaxis": {
            "gridcolor": "white",
            "linecolor": "white",
            "ticks": ""
           },
           "bgcolor": "#E5ECF6",
           "radialaxis": {
            "gridcolor": "white",
            "linecolor": "white",
            "ticks": ""
           }
          },
          "scene": {
           "xaxis": {
            "backgroundcolor": "#E5ECF6",
            "gridcolor": "white",
            "gridwidth": 2,
            "linecolor": "white",
            "showbackground": true,
            "ticks": "",
            "zerolinecolor": "white"
           },
           "yaxis": {
            "backgroundcolor": "#E5ECF6",
            "gridcolor": "white",
            "gridwidth": 2,
            "linecolor": "white",
            "showbackground": true,
            "ticks": "",
            "zerolinecolor": "white"
           },
           "zaxis": {
            "backgroundcolor": "#E5ECF6",
            "gridcolor": "white",
            "gridwidth": 2,
            "linecolor": "white",
            "showbackground": true,
            "ticks": "",
            "zerolinecolor": "white"
           }
          },
          "shapedefaults": {
           "line": {
            "color": "#2a3f5f"
           }
          },
          "ternary": {
           "aaxis": {
            "gridcolor": "white",
            "linecolor": "white",
            "ticks": ""
           },
           "baxis": {
            "gridcolor": "white",
            "linecolor": "white",
            "ticks": ""
           },
           "bgcolor": "#E5ECF6",
           "caxis": {
            "gridcolor": "white",
            "linecolor": "white",
            "ticks": ""
           }
          },
          "title": {
           "x": 0.05
          },
          "xaxis": {
           "automargin": true,
           "gridcolor": "white",
           "linecolor": "white",
           "ticks": "",
           "title": {
            "standoff": 15
           },
           "zerolinecolor": "white",
           "zerolinewidth": 2
          },
          "yaxis": {
           "automargin": true,
           "gridcolor": "white",
           "linecolor": "white",
           "ticks": "",
           "title": {
            "standoff": 15
           },
           "zerolinecolor": "white",
           "zerolinewidth": 2
          }
         }
        }
       }
      },
      "image/png": "[encoded data removed]",
      "text/html": [
       "<div>                            <div id=\"da38fc03-a518-40f5-b379-051178bca864\" class=\"plotly-graph-div\" style=\"height:525px; width:100%;\"></div>            <script type=\"text/javascript\">                require([\"plotly\"], function(Plotly) {                    window.PLOTLYENV=window.PLOTLYENV || {};                                    if (document.getElementById(\"da38fc03-a518-40f5-b379-051178bca864\")) {                    Plotly.newPlot(                        \"da38fc03-a518-40f5-b379-051178bca864\",                        [{\"hovertemplate\": \"sale_price_sqr_foot=%{marker.size}<br>Lat=%{lat}<br>Lon=%{lon}<br>gross_rent=%{marker.color}<extra></extra>\", \"lat\": [37.791012, 37.779598, 37.73467, 37.72874, 37.768159999999995, 37.77789, 37.74961, 37.75331, 37.78553, 37.79298, 37.7228, 37.728629999999995, 37.76964, 37.75554, 37.72874, 37.79101, 37.79101, 37.757059999999996, 37.728629999999995, 37.757912, 37.76525, 37.76525, 37.72551, 37.72116, 37.75416, 37.74961, 37.769112, 37.74961, 37.78553, 37.801520000000004, 37.7789, 37.79298, 37.79972, 37.71993, 37.75331, 37.73415, 37.783229999999996, 37.75184, 37.728629999999995, 37.79298, 37.75331, 37.80055, 37.80055, 37.71993, 37.7228, 37.7517, 37.74961, 37.79298, 37.72838, 37.74961, 37.76355, 37.73467, 37.73196, 37.78553, 37.79298, 37.73467, 37.783229999999996, 37.79101, 37.73415, 37.80055, 37.753311, 37.79101, 37.779509999999995, 37.72874, 37.74026, 37.79298, 37.7347, 37.73415, 37.79298], \"legendgroup\": \"\", \"lon\": [-122.4021, -122.443451, -122.40106000000002, -122.41098000000001, -122.43933, -122.44516999999999, -122.48998999999999, -122.44703, -122.456, -122.43579, -122.43869, -122.44305, -122.42611000000001, -122.43778999999999, -122.41098000000001, -122.4021, -122.4021, -122.45508999999998, -122.44305, -122.46401999999999, -122.43596000000001, -122.43596000000001, -122.37178, -122.48706999999999, -122.41946999999999, -122.48998999999999, -122.483566, -122.48997, -122.456, -122.45456999999999, -122.45496000000001, -122.43579, -122.46688999999999, -122.46595, -122.44703, -122.45700000000001, -122.40065, -122.42522, -122.44305, -122.43579, -122.44703, -122.40433, -122.40433, -122.46595, -122.43869, -122.446, -122.48998999999999, -122.43579, -122.47851000000001, -122.48998999999999, -122.45765, -122.40106000000002, -122.38323999999999, -122.456, -122.43579, -122.40106000000002, -122.40065, -122.4021, -122.45700000000001, -122.40433, -122.447029, -122.4021, -122.42022, -122.41098000000001, -122.46388, -122.43579, -122.456854, -122.45700000000001, -122.39636000000002], \"marker\": {\"color\": [2817.285714285714, 3031.8333333333335, 2318.4, 3739.0, 2698.8333333333335, 2817.285714285714, 2817.285714285714, 2250.5, 2472.0, 2817.285714285714, 2698.8333333333335, 2016.0, 2780.25, 2817.285714285714, 3031.8333333333335, 2817.285714285714, 2472.0, 1781.5, 2899.5, 2601.4, 2817.285714285714, 2817.285714285714, 2489.0, 2960.0, 2817.285714285714, 3224.0, 2817.285714285714, 2817.285714285714, 2817.285714285714, 2555.1666666666665, 2555.1666666666665, 2817.285714285714, 2817.285714285714, 3414.0, 2647.5, 2155.25, 2663.6666666666665, 2555.1666666666665, 3173.4, 2817.285714285714, 2817.285714285714, 2990.8, 2818.4, 2434.0, 2995.75, 2817.285714285714, 2817.285714285714, 2817.285714285714, 2817.285714285714, 2555.1666666666665, 2817.285714285714, 2318.4, 2817.285714285714, 2817.285714285714, 2817.285714285714, 3528.0, 2099.0, 2817.285714285714, 2899.5, 2817.285714285714, 2817.285714285714, 2555.1666666666665, 2817.285714285714, 3657.0, 2515.5, 2555.1666666666665, 2250.5, 3959.0, 2555.1666666666665], \"coloraxis\": \"coloraxis\", \"size\": [366.02071153227644, 373.38219782647707, 204.58862288246596, 590.7928388746802, 452.6805909308442, 394.4223987800589, 423.6879277015824, 487.2448860262575, 587.5390673661739, 665.964041578323, 303.00418440849427, 434.99173944522124, 502.59915555623616, 642.2486706357391, 388.76592700230754, 391.36253308010487, 455.83621223779153, 321.84083657398736, 623.826177537435, 639.3935574881156, 449.5447622856192, 355.9328279480578, 170.62491987132685, 384.7979281346048, 397.67371473613446, 519.3856038526768, 378.59431396136455, 413.66751546215943, 529.3841850673389, 409.95435219297514, 478.2285530213679, 539.2379688783261, 583.7492694814549, 788.8448175872469, 550.5103482917151, 779.810842264425, 566.1922135483312, 418.9156225067234, 523.4662013248023, 458.2040944846015, 542.4429128151736, 411.646875881678, 498.26975500787677, 330.0973846552545, 242.37095202049667, 485.0270126111035, 394.21903228550775, 689.5558168113664, 373.732856371763, 336.172661037069, 632.740453508577, 327.11392534647274, 662.0136128276529, 675.3502120510033, 608.9832172374425, 170.2925485152069, 650.1244791945729, 570.2714266991686, 528.3183317138463, 676.5065775293257, 469.39862649935156, 903.9932576720645, 404.1501801622257, 301.46617997450267, 498.4884848295011, 307.56220097996066, 533.7039354359513, 687.0875745178323, 576.709848378276], \"sizemode\": \"area\", \"sizeref\": 2.259983144180161}, \"mode\": \"markers\", \"name\": \"\", \"showlegend\": false, \"subplot\": \"mapbox\", \"type\": \"scattermapbox\"}],                        {\"coloraxis\": {\"colorbar\": {\"title\": {\"text\": \"gross_rent\"}}, \"colorscale\": [[0.0, \"#0d0887\"], [0.1111111111111111, \"#46039f\"], [0.2222222222222222, \"#7201a8\"], [0.3333333333333333, \"#9c179e\"], [0.4444444444444444, \"#bd3786\"], [0.5555555555555556, \"#d8576b\"], [0.6666666666666666, \"#ed7953\"], [0.7777777777777778, \"#fb9f3a\"], [0.8888888888888888, \"#fdca26\"], [1.0, \"#f0f921\"]]}, \"legend\": {\"itemsizing\": \"constant\", \"tracegroupgap\": 0}, \"mapbox\": {\"accesstoken\": \"pk.eyJ1Ijoic2NvdHR3YWx0YSIsImEiOiJja2xzamt6N2IwMzNiMnducTczcGRyaTRpIn0.6ZY6BbmiCxfJ4YZHxXp-SA\", \"center\": {\"lat\": 37.76064079710145, \"lon\": -122.43826449275366}, \"domain\": {\"x\": [0.0, 1.0], \"y\": [0.0, 1.0]}, \"zoom\": 8}, \"margin\": {\"t\": 60}, \"template\": {\"data\": {\"bar\": [{\"error_x\": {\"color\": \"#2a3f5f\"}, \"error_y\": {\"color\": \"#2a3f5f\"}, \"marker\": {\"line\": {\"color\": \"#E5ECF6\", \"width\": 0.5}}, \"type\": \"bar\"}], \"barpolar\": [{\"marker\": {\"line\": {\"color\": \"#E5ECF6\", \"width\": 0.5}}, \"type\": \"barpolar\"}], \"carpet\": [{\"aaxis\": {\"endlinecolor\": \"#2a3f5f\", \"gridcolor\": \"white\", \"linecolor\": \"white\", \"minorgridcolor\": \"white\", \"startlinecolor\": \"#2a3f5f\"}, \"baxis\": {\"endlinecolor\": \"#2a3f5f\", \"gridcolor\": \"white\", \"linecolor\": \"white\", \"minorgridcolor\": \"white\", \"startlinecolor\": \"#2a3f5f\"}, \"type\": \"carpet\"}], \"choropleth\": [{\"colorbar\": {\"outlinewidth\": 0, \"ticks\": \"\"}, \"type\": \"choropleth\"}], \"contour\": [{\"colorbar\": {\"outlinewidth\": 0, \"ticks\": \"\"}, \"colorscale\": [[0.0, \"#0d0887\"], [0.1111111111111111, \"#46039f\"], [0.2222222222222222, \"#7201a8\"], [0.3333333333333333, \"#9c179e\"], [0.4444444444444444, \"#bd3786\"], [0.5555555555555556, \"#d8576b\"], [0.6666666666666666, \"#ed7953\"], [0.7777777777777778, \"#fb9f3a\"], [0.8888888888888888, \"#fdca26\"], [1.0, \"#f0f921\"]], \"type\": \"contour\"}], \"contourcarpet\": [{\"colorbar\": {\"outlinewidth\": 0, \"ticks\": \"\"}, \"type\": \"contourcarpet\"}], \"heatmap\": [{\"colorbar\": {\"outlinewidth\": 0, \"ticks\": \"\"}, \"colorscale\": [[0.0, \"#0d0887\"], [0.1111111111111111, \"#46039f\"], [0.2222222222222222, \"#7201a8\"], [0.3333333333333333, \"#9c179e\"], [0.4444444444444444, \"#bd3786\"], [0.5555555555555556, \"#d8576b\"], [0.6666666666666666, \"#ed7953\"], [0.7777777777777778, \"#fb9f3a\"], [0.8888888888888888, \"#fdca26\"], [1.0, \"#f0f921\"]], \"type\": \"heatmap\"}], \"heatmapgl\": [{\"colorbar\": {\"outlinewidth\": 0, \"ticks\": \"\"}, \"colorscale\": [[0.0, \"#0d0887\"], [0.1111111111111111, \"#46039f\"], [0.2222222222222222, \"#7201a8\"], [0.3333333333333333, \"#9c179e\"], [0.4444444444444444, \"#bd3786\"], [0.5555555555555556, \"#d8576b\"], [0.6666666666666666, \"#ed7953\"], [0.7777777777777778, \"#fb9f3a\"], [0.8888888888888888, \"#fdca26\"], [1.0, \"#f0f921\"]], \"type\": \"heatmapgl\"}], \"histogram\": [{\"marker\": {\"colorbar\": {\"outlinewidth\": 0, \"ticks\": \"\"}}, \"type\": \"histogram\"}], \"histogram2d\": [{\"colorbar\": {\"outlinewidth\": 0, \"ticks\": \"\"}, \"colorscale\": [[0.0, \"#0d0887\"], [0.1111111111111111, \"#46039f\"], [0.2222222222222222, \"#7201a8\"], [0.3333333333333333, \"#9c179e\"], [0.4444444444444444, \"#bd3786\"], [0.5555555555555556, \"#d8576b\"], [0.6666666666666666, \"#ed7953\"], [0.7777777777777778, \"#fb9f3a\"], [0.8888888888888888, \"#fdca26\"], [1.0, \"#f0f921\"]], \"type\": \"histogram2d\"}], \"histogram2dcontour\": [{\"colorbar\": {\"outlinewidth\": 0, \"ticks\": \"\"}, \"colorscale\": [[0.0, \"#0d0887\"], [0.1111111111111111, \"#46039f\"], [0.2222222222222222, \"#7201a8\"], [0.3333333333333333, \"#9c179e\"], [0.4444444444444444, \"#bd3786\"], [0.5555555555555556, \"#d8576b\"], [0.6666666666666666, \"#ed7953\"], [0.7777777777777778, \"#fb9f3a\"], [0.8888888888888888, \"#fdca26\"], [1.0, \"#f0f921\"]], \"type\": \"histogram2dcontour\"}], \"mesh3d\": [{\"colorbar\": {\"outlinewidth\": 0, \"ticks\": \"\"}, \"type\": \"mesh3d\"}], \"parcoords\": [{\"line\": {\"colorbar\": {\"outlinewidth\": 0, \"ticks\": \"\"}}, \"type\": \"parcoords\"}], \"pie\": [{\"automargin\": true, \"type\": \"pie\"}], \"scatter\": [{\"marker\": {\"colorbar\": {\"outlinewidth\": 0, \"ticks\": \"\"}}, \"type\": \"scatter\"}], \"scatter3d\": [{\"line\": {\"colorbar\": {\"outlinewidth\": 0, \"ticks\": \"\"}}, \"marker\": {\"colorbar\": {\"outlinewidth\": 0, \"ticks\": \"\"}}, \"type\": \"scatter3d\"}], \"scattercarpet\": [{\"marker\": {\"colorbar\": {\"outlinewidth\": 0, \"ticks\": \"\"}}, \"type\": \"scattercarpet\"}], \"scattergeo\": [{\"marker\": {\"colorbar\": {\"outlinewidth\": 0, \"ticks\": \"\"}}, \"type\": \"scattergeo\"}], \"scattergl\": [{\"marker\": {\"colorbar\": {\"outlinewidth\": 0, \"ticks\": \"\"}}, \"type\": \"scattergl\"}], \"scattermapbox\": [{\"marker\": {\"colorbar\": {\"outlinewidth\": 0, \"ticks\": \"\"}}, \"type\": \"scattermapbox\"}], \"scatterpolar\": [{\"marker\": {\"colorbar\": {\"outlinewidth\": 0, \"ticks\": \"\"}}, \"type\": \"scatterpolar\"}], \"scatterpolargl\": [{\"marker\": {\"colorbar\": {\"outlinewidth\": 0, \"ticks\": \"\"}}, \"type\": \"scatterpolargl\"}], \"scatterternary\": [{\"marker\": {\"colorbar\": {\"outlinewidth\": 0, \"ticks\": \"\"}}, \"type\": \"scatterternary\"}], \"surface\": [{\"colorbar\": {\"outlinewidth\": 0, \"ticks\": \"\"}, \"colorscale\": [[0.0, \"#0d0887\"], [0.1111111111111111, \"#46039f\"], [0.2222222222222222, \"#7201a8\"], [0.3333333333333333, \"#9c179e\"], [0.4444444444444444, \"#bd3786\"], [0.5555555555555556, \"#d8576b\"], [0.6666666666666666, \"#ed7953\"], [0.7777777777777778, \"#fb9f3a\"], [0.8888888888888888, \"#fdca26\"], [1.0, \"#f0f921\"]], \"type\": \"surface\"}], \"table\": [{\"cells\": {\"fill\": {\"color\": \"#EBF0F8\"}, \"line\": {\"color\": \"white\"}}, \"header\": {\"fill\": {\"color\": \"#C8D4E3\"}, \"line\": {\"color\": \"white\"}}, \"type\": \"table\"}]}, \"layout\": {\"annotationdefaults\": {\"arrowcolor\": \"#2a3f5f\", \"arrowhead\": 0, \"arrowwidth\": 1}, \"autotypenumbers\": \"strict\", \"coloraxis\": {\"colorbar\": {\"outlinewidth\": 0, \"ticks\": \"\"}}, \"colorscale\": {\"diverging\": [[0, \"#8e0152\"], [0.1, \"#c51b7d\"], [0.2, \"#de77ae\"], [0.3, \"#f1b6da\"], [0.4, \"#fde0ef\"], [0.5, \"#f7f7f7\"], [0.6, \"#e6f5d0\"], [0.7, \"#b8e186\"], [0.8, \"#7fbc41\"], [0.9, \"#4d9221\"], [1, \"#276419\"]], \"sequential\": [[0.0, \"#0d0887\"], [0.1111111111111111, \"#46039f\"], [0.2222222222222222, \"#7201a8\"], [0.3333333333333333, \"#9c179e\"], [0.4444444444444444, \"#bd3786\"], [0.5555555555555556, \"#d8576b\"], [0.6666666666666666, \"#ed7953\"], [0.7777777777777778, \"#fb9f3a\"], [0.8888888888888888, \"#fdca26\"], [1.0, \"#f0f921\"]], \"sequentialminus\": [[0.0, \"#0d0887\"], [0.1111111111111111, \"#46039f\"], [0.2222222222222222, \"#7201a8\"], [0.3333333333333333, \"#9c179e\"], [0.4444444444444444, \"#bd3786\"], [0.5555555555555556, \"#d8576b\"], [0.6666666666666666, \"#ed7953\"], [0.7777777777777778, \"#fb9f3a\"], [0.8888888888888888, \"#fdca26\"], [1.0, \"#f0f921\"]]}, \"colorway\": [\"#636efa\", \"#EF553B\", \"#00cc96\", \"#ab63fa\", \"#FFA15A\", \"#19d3f3\", \"#FF6692\", \"#B6E880\", \"#FF97FF\", \"#FECB52\"], \"font\": {\"color\": \"#2a3f5f\"}, \"geo\": {\"bgcolor\": \"white\", \"lakecolor\": \"white\", \"landcolor\": \"#E5ECF6\", \"showlakes\": true, \"showland\": true, \"subunitcolor\": \"white\"}, \"hoverlabel\": {\"align\": \"left\"}, \"hovermode\": \"closest\", \"mapbox\": {\"style\": \"light\"}, \"paper_bgcolor\": \"white\", \"plot_bgcolor\": \"#E5ECF6\", \"polar\": {\"angularaxis\": {\"gridcolor\": \"white\", \"linecolor\": \"white\", \"ticks\": \"\"}, \"bgcolor\": \"#E5ECF6\", \"radialaxis\": {\"gridcolor\": \"white\", \"linecolor\": \"white\", \"ticks\": \"\"}}, \"scene\": {\"xaxis\": {\"backgroundcolor\": \"#E5ECF6\", \"gridcolor\": \"white\", \"gridwidth\": 2, \"linecolor\": \"white\", \"showbackground\": true, \"ticks\": \"\", \"zerolinecolor\": \"white\"}, \"yaxis\": {\"backgroundcolor\": \"#E5ECF6\", \"gridcolor\": \"white\", \"gridwidth\": 2, \"linecolor\": \"white\", \"showbackground\": true, \"ticks\": \"\", \"zerolinecolor\": \"white\"}, \"zaxis\": {\"backgroundcolor\": \"#E5ECF6\", \"gridcolor\": \"white\", \"gridwidth\": 2, \"linecolor\": \"white\", \"showbackground\": true, \"ticks\": \"\", \"zerolinecolor\": \"white\"}}, \"shapedefaults\": {\"line\": {\"color\": \"#2a3f5f\"}}, \"ternary\": {\"aaxis\": {\"gridcolor\": \"white\", \"linecolor\": \"white\", \"ticks\": \"\"}, \"baxis\": {\"gridcolor\": \"white\", \"linecolor\": \"white\", \"ticks\": \"\"}, \"bgcolor\": \"#E5ECF6\", \"caxis\": {\"gridcolor\": \"white\", \"linecolor\": \"white\", \"ticks\": \"\"}}, \"title\": {\"x\": 0.05}, \"xaxis\": {\"automargin\": true, \"gridcolor\": \"white\", \"linecolor\": \"white\", \"ticks\": \"\", \"title\": {\"standoff\": 15}, \"zerolinecolor\": \"white\", \"zerolinewidth\": 2}, \"yaxis\": {\"automargin\": true, \"gridcolor\": \"white\", \"linecolor\": \"white\", \"ticks\": \"\", \"title\": {\"standoff\": 15}, \"zerolinecolor\": \"white\", \"zerolinewidth\": 2}}}},                        {\"responsive\": true}                    ).then(function(){\n",
       "                            \n",
       "var gd = document.getElementById('da38fc03-a518-40f5-b379-051178bca864');\n",
       "var x = new MutationObserver(function (mutations, observer) {{\n",
       "        var display = window.getComputedStyle(gd).display;\n",
       "        if (!display || display === 'none') {{\n",
       "            console.log([gd, 'removed!']);\n",
       "            Plotly.purge(gd);\n",
       "            observer.disconnect();\n",
       "        }}\n",
       "}});\n",
       "\n",
       "// Listen for the removal of the full notebook cells\n",
       "var notebookContainer = gd.closest('#notebook-container');\n",
       "if (notebookContainer) {{\n",
       "    x.observe(notebookContainer, {childList: true});\n",
       "}}\n",
       "\n",
       "// Listen for the clearing of the current output cell\n",
       "var outputEl = gd.closest('.output');\n",
       "if (outputEl) {{\n",
       "    x.observe(outputEl, {childList: true});\n",
       "}}\n",
       "\n",
       "                        })                };                });            </script>        </div>"
      ]
     },
     "metadata": {},
     "output_type": "display_data"
    }
   ],
   "source": [
    "load_dotenv()\n",
    "map_box_api = os.getenv(\"mapbox\")\n",
    "px.set_mapbox_access_token(map_box_api)\n",
    "\n",
    "map_plot = px.scatter_mapbox(\n",
    "    df_all,\n",
    "    lat=\"Lat\",\n",
    "    lon=\"Lon\",\n",
    "    size=\"sale_price_sqr_foot\",\n",
    "    color=\"gross_rent\")\n",
    "\n",
    "\n",
    "map_plot.show()\n",
    "\n"
   ]
  },
  {
   "cell_type": "markdown",
   "metadata": {},
   "source": [
    "### Mapbox Visualization\n",
    "\n",
    "Plot the average values per neighborhood using a Plotly express `scatter_mapbox` visualization."
   ]
  },
  {
   "cell_type": "markdown",
   "metadata": {},
   "source": [
    "- - -"
   ]
  },
  {
   "cell_type": "code",
   "execution_count": 57,
   "metadata": {},
   "outputs": [],
   "source": [
    "#Fetch the data from all expensive neighborhoods per year.\n"
   ]
  },
  {
   "cell_type": "markdown",
   "metadata": {},
   "source": [
    "### Create a parallel coordinates plot and parallel categories plot of most expensive neighborhoods in San Francisco per year\n"
   ]
  },
  {
   "cell_type": "code",
   "execution_count": 108,
   "metadata": {},
   "outputs": [
    {
     "name": "stdout",
     "output_type": "stream",
     "text": [
      "   index           neighborhood  sale_price_sqr_foot       neighborhood  \\\n",
      "0      0  Union Square District           903.993258      Westwood Park   \n",
      "1      1         Merced Heights           788.844818    Bayview Heights   \n",
      "2      2          Miraloma Park           779.810842  Visitacion Valley   \n",
      "3      3        Pacific Heights           689.555817     Silver Terrace   \n",
      "4      4          Westwood Park           687.087575     Merced Heights   \n",
      "\n",
      "   gross_rent  \n",
      "0      3959.0  \n",
      "1      3739.0  \n",
      "2      3657.0  \n",
      "3      3528.0  \n",
      "4      3414.0  \n"
     ]
    },
    {
     "ename": "ValueError",
     "evalue": "Columns must be same length as key",
     "output_type": "error",
     "traceback": [
      "\u001b[1;31m---------------------------------------------------------------------------\u001b[0m",
      "\u001b[1;31mValueError\u001b[0m                                Traceback (most recent call last)",
      "\u001b[1;32m<ipython-input-108-dc558e990f75>\u001b[0m in \u001b[0;36m<module>\u001b[1;34m\u001b[0m\n\u001b[0;32m      6\u001b[0m \u001b[0mdf_all_parallel_coordinates\u001b[0m\u001b[1;33m=\u001b[0m\u001b[1;33m(\u001b[0m\u001b[0mpd\u001b[0m\u001b[1;33m.\u001b[0m\u001b[0mconcat\u001b[0m\u001b[1;33m(\u001b[0m\u001b[1;33m[\u001b[0m\u001b[0mdf_meany_sales\u001b[0m\u001b[1;33m,\u001b[0m \u001b[0mdf_meany_rent\u001b[0m\u001b[1;33m]\u001b[0m\u001b[1;33m,\u001b[0m \u001b[0maxis\u001b[0m\u001b[1;33m=\u001b[0m\u001b[1;36m1\u001b[0m\u001b[1;33m)\u001b[0m\u001b[1;33m.\u001b[0m\u001b[0mdropna\u001b[0m\u001b[1;33m(\u001b[0m\u001b[1;33m)\u001b[0m\u001b[1;33m.\u001b[0m\u001b[0mreset_index\u001b[0m\u001b[1;33m(\u001b[0m\u001b[1;33m)\u001b[0m\u001b[1;33m)\u001b[0m\u001b[1;33m\u001b[0m\u001b[1;33m\u001b[0m\u001b[0m\n\u001b[0;32m      7\u001b[0m \u001b[0mprint\u001b[0m\u001b[1;33m(\u001b[0m\u001b[0mdf_all_parallel_coordinates\u001b[0m\u001b[1;33m)\u001b[0m\u001b[1;33m\u001b[0m\u001b[1;33m\u001b[0m\u001b[0m\n\u001b[1;32m----> 8\u001b[1;33m \u001b[0mmap_plot\u001b[0m \u001b[1;33m=\u001b[0m \u001b[0mpx\u001b[0m\u001b[1;33m.\u001b[0m\u001b[0mparallel_coordinates\u001b[0m\u001b[1;33m(\u001b[0m\u001b[0mdf_all_parallel_coordinates\u001b[0m\u001b[1;33m,\u001b[0m \u001b[0mcolor\u001b[0m\u001b[1;33m=\u001b[0m\u001b[1;34m\"index\"\u001b[0m\u001b[1;33m)\u001b[0m\u001b[1;33m\u001b[0m\u001b[1;33m\u001b[0m\u001b[0m\n\u001b[0m\u001b[0;32m      9\u001b[0m \u001b[1;33m\u001b[0m\u001b[0m\n\u001b[0;32m     10\u001b[0m \u001b[0mmap_plot\u001b[0m\u001b[1;33m\u001b[0m\u001b[1;33m\u001b[0m\u001b[0m\n",
      "\u001b[1;32m~\\anaconda\\envs\\dev\\lib\\site-packages\\plotly\\express\\_chart_types.py\u001b[0m in \u001b[0;36mparallel_coordinates\u001b[1;34m(data_frame, dimensions, color, labels, color_continuous_scale, range_color, color_continuous_midpoint, title, template, width, height)\u001b[0m\n\u001b[0;32m   1295\u001b[0m     \u001b[0mof\u001b[0m \u001b[0mthe\u001b[0m\u001b[0;31m \u001b[0m\u001b[0;31m`\u001b[0m\u001b[0mdimensions\u001b[0m\u001b[0;31m`\u001b[0m\u001b[1;33m.\u001b[0m\u001b[1;33m\u001b[0m\u001b[1;33m\u001b[0m\u001b[0m\n\u001b[0;32m   1296\u001b[0m     \"\"\"\n\u001b[1;32m-> 1297\u001b[1;33m     \u001b[1;32mreturn\u001b[0m \u001b[0mmake_figure\u001b[0m\u001b[1;33m(\u001b[0m\u001b[0margs\u001b[0m\u001b[1;33m=\u001b[0m\u001b[0mlocals\u001b[0m\u001b[1;33m(\u001b[0m\u001b[1;33m)\u001b[0m\u001b[1;33m,\u001b[0m \u001b[0mconstructor\u001b[0m\u001b[1;33m=\u001b[0m\u001b[0mgo\u001b[0m\u001b[1;33m.\u001b[0m\u001b[0mParcoords\u001b[0m\u001b[1;33m)\u001b[0m\u001b[1;33m\u001b[0m\u001b[1;33m\u001b[0m\u001b[0m\n\u001b[0m\u001b[0;32m   1298\u001b[0m \u001b[1;33m\u001b[0m\u001b[0m\n\u001b[0;32m   1299\u001b[0m \u001b[1;33m\u001b[0m\u001b[0m\n",
      "\u001b[1;32m~\\anaconda\\envs\\dev\\lib\\site-packages\\plotly\\express\\_core.py\u001b[0m in \u001b[0;36mmake_figure\u001b[1;34m(args, constructor, trace_patch, layout_patch)\u001b[0m\n\u001b[0;32m   1859\u001b[0m     \u001b[0mapply_default_cascade\u001b[0m\u001b[1;33m(\u001b[0m\u001b[0margs\u001b[0m\u001b[1;33m)\u001b[0m\u001b[1;33m\u001b[0m\u001b[1;33m\u001b[0m\u001b[0m\n\u001b[0;32m   1860\u001b[0m \u001b[1;33m\u001b[0m\u001b[0m\n\u001b[1;32m-> 1861\u001b[1;33m     \u001b[0margs\u001b[0m \u001b[1;33m=\u001b[0m \u001b[0mbuild_dataframe\u001b[0m\u001b[1;33m(\u001b[0m\u001b[0margs\u001b[0m\u001b[1;33m,\u001b[0m \u001b[0mconstructor\u001b[0m\u001b[1;33m)\u001b[0m\u001b[1;33m\u001b[0m\u001b[1;33m\u001b[0m\u001b[0m\n\u001b[0m\u001b[0;32m   1862\u001b[0m     \u001b[1;32mif\u001b[0m \u001b[0mconstructor\u001b[0m \u001b[1;32min\u001b[0m \u001b[1;33m[\u001b[0m\u001b[0mgo\u001b[0m\u001b[1;33m.\u001b[0m\u001b[0mTreemap\u001b[0m\u001b[1;33m,\u001b[0m \u001b[0mgo\u001b[0m\u001b[1;33m.\u001b[0m\u001b[0mSunburst\u001b[0m\u001b[1;33m]\u001b[0m \u001b[1;32mand\u001b[0m \u001b[0margs\u001b[0m\u001b[1;33m[\u001b[0m\u001b[1;34m\"path\"\u001b[0m\u001b[1;33m]\u001b[0m \u001b[1;32mis\u001b[0m \u001b[1;32mnot\u001b[0m \u001b[1;32mNone\u001b[0m\u001b[1;33m:\u001b[0m\u001b[1;33m\u001b[0m\u001b[1;33m\u001b[0m\u001b[0m\n\u001b[0;32m   1863\u001b[0m         \u001b[0margs\u001b[0m \u001b[1;33m=\u001b[0m \u001b[0mprocess_dataframe_hierarchy\u001b[0m\u001b[1;33m(\u001b[0m\u001b[0margs\u001b[0m\u001b[1;33m)\u001b[0m\u001b[1;33m\u001b[0m\u001b[1;33m\u001b[0m\u001b[0m\n",
      "\u001b[1;32m~\\anaconda\\envs\\dev\\lib\\site-packages\\plotly\\express\\_core.py\u001b[0m in \u001b[0;36mbuild_dataframe\u001b[1;34m(args, constructor)\u001b[0m\n\u001b[0;32m   1376\u001b[0m \u001b[1;33m\u001b[0m\u001b[0m\n\u001b[0;32m   1377\u001b[0m     df_output, wide_id_vars = process_args_into_dataframe(\n\u001b[1;32m-> 1378\u001b[1;33m         \u001b[0margs\u001b[0m\u001b[1;33m,\u001b[0m \u001b[0mwide_mode\u001b[0m\u001b[1;33m,\u001b[0m \u001b[0mvar_name\u001b[0m\u001b[1;33m,\u001b[0m \u001b[0mvalue_name\u001b[0m\u001b[1;33m\u001b[0m\u001b[1;33m\u001b[0m\u001b[0m\n\u001b[0m\u001b[0;32m   1379\u001b[0m     )\n\u001b[0;32m   1380\u001b[0m \u001b[1;33m\u001b[0m\u001b[0m\n",
      "\u001b[1;32m~\\anaconda\\envs\\dev\\lib\\site-packages\\plotly\\express\\_core.py\u001b[0m in \u001b[0;36mprocess_args_into_dataframe\u001b[1;34m(args, wide_mode, var_name, value_name)\u001b[0m\n\u001b[0;32m   1075\u001b[0m             )\n\u001b[0;32m   1076\u001b[0m         \u001b[1;32melse\u001b[0m\u001b[1;33m:\u001b[0m\u001b[1;33m\u001b[0m\u001b[1;33m\u001b[0m\u001b[0m\n\u001b[1;32m-> 1077\u001b[1;33m             \u001b[0mdf_output\u001b[0m\u001b[1;33m[\u001b[0m\u001b[0mdf_input\u001b[0m\u001b[1;33m.\u001b[0m\u001b[0mcolumns\u001b[0m\u001b[1;33m]\u001b[0m \u001b[1;33m=\u001b[0m \u001b[0mdf_input\u001b[0m\u001b[1;33m[\u001b[0m\u001b[0mdf_input\u001b[0m\u001b[1;33m.\u001b[0m\u001b[0mcolumns\u001b[0m\u001b[1;33m]\u001b[0m\u001b[1;33m\u001b[0m\u001b[1;33m\u001b[0m\u001b[0m\n\u001b[0m\u001b[0;32m   1078\u001b[0m \u001b[1;33m\u001b[0m\u001b[0m\n\u001b[0;32m   1079\u001b[0m     \u001b[1;31m# hover_data is a dict\u001b[0m\u001b[1;33m\u001b[0m\u001b[1;33m\u001b[0m\u001b[1;33m\u001b[0m\u001b[0m\n",
      "\u001b[1;32m~\\anaconda\\envs\\dev\\lib\\site-packages\\pandas\\core\\frame.py\u001b[0m in \u001b[0;36m__setitem__\u001b[1;34m(self, key, value)\u001b[0m\n\u001b[0;32m   3365\u001b[0m             \u001b[0mself\u001b[0m\u001b[1;33m.\u001b[0m\u001b[0m_setitem_frame\u001b[0m\u001b[1;33m(\u001b[0m\u001b[0mkey\u001b[0m\u001b[1;33m,\u001b[0m \u001b[0mvalue\u001b[0m\u001b[1;33m)\u001b[0m\u001b[1;33m\u001b[0m\u001b[1;33m\u001b[0m\u001b[0m\n\u001b[0;32m   3366\u001b[0m         \u001b[1;32melif\u001b[0m \u001b[0misinstance\u001b[0m\u001b[1;33m(\u001b[0m\u001b[0mkey\u001b[0m\u001b[1;33m,\u001b[0m \u001b[1;33m(\u001b[0m\u001b[0mSeries\u001b[0m\u001b[1;33m,\u001b[0m \u001b[0mnp\u001b[0m\u001b[1;33m.\u001b[0m\u001b[0mndarray\u001b[0m\u001b[1;33m,\u001b[0m \u001b[0mlist\u001b[0m\u001b[1;33m,\u001b[0m \u001b[0mIndex\u001b[0m\u001b[1;33m)\u001b[0m\u001b[1;33m)\u001b[0m\u001b[1;33m:\u001b[0m\u001b[1;33m\u001b[0m\u001b[1;33m\u001b[0m\u001b[0m\n\u001b[1;32m-> 3367\u001b[1;33m             \u001b[0mself\u001b[0m\u001b[1;33m.\u001b[0m\u001b[0m_setitem_array\u001b[0m\u001b[1;33m(\u001b[0m\u001b[0mkey\u001b[0m\u001b[1;33m,\u001b[0m \u001b[0mvalue\u001b[0m\u001b[1;33m)\u001b[0m\u001b[1;33m\u001b[0m\u001b[1;33m\u001b[0m\u001b[0m\n\u001b[0m\u001b[0;32m   3368\u001b[0m         \u001b[1;32melse\u001b[0m\u001b[1;33m:\u001b[0m\u001b[1;33m\u001b[0m\u001b[1;33m\u001b[0m\u001b[0m\n\u001b[0;32m   3369\u001b[0m             \u001b[1;31m# set column\u001b[0m\u001b[1;33m\u001b[0m\u001b[1;33m\u001b[0m\u001b[1;33m\u001b[0m\u001b[0m\n",
      "\u001b[1;32m~\\anaconda\\envs\\dev\\lib\\site-packages\\pandas\\core\\frame.py\u001b[0m in \u001b[0;36m_setitem_array\u001b[1;34m(self, key, value)\u001b[0m\n\u001b[0;32m   3387\u001b[0m             \u001b[1;32mif\u001b[0m \u001b[0misinstance\u001b[0m\u001b[1;33m(\u001b[0m\u001b[0mvalue\u001b[0m\u001b[1;33m,\u001b[0m \u001b[0mDataFrame\u001b[0m\u001b[1;33m)\u001b[0m\u001b[1;33m:\u001b[0m\u001b[1;33m\u001b[0m\u001b[1;33m\u001b[0m\u001b[0m\n\u001b[0;32m   3388\u001b[0m                 \u001b[1;32mif\u001b[0m \u001b[0mlen\u001b[0m\u001b[1;33m(\u001b[0m\u001b[0mvalue\u001b[0m\u001b[1;33m.\u001b[0m\u001b[0mcolumns\u001b[0m\u001b[1;33m)\u001b[0m \u001b[1;33m!=\u001b[0m \u001b[0mlen\u001b[0m\u001b[1;33m(\u001b[0m\u001b[0mkey\u001b[0m\u001b[1;33m)\u001b[0m\u001b[1;33m:\u001b[0m\u001b[1;33m\u001b[0m\u001b[1;33m\u001b[0m\u001b[0m\n\u001b[1;32m-> 3389\u001b[1;33m                     \u001b[1;32mraise\u001b[0m \u001b[0mValueError\u001b[0m\u001b[1;33m(\u001b[0m\u001b[1;34m'Columns must be same length as key'\u001b[0m\u001b[1;33m)\u001b[0m\u001b[1;33m\u001b[0m\u001b[1;33m\u001b[0m\u001b[0m\n\u001b[0m\u001b[0;32m   3390\u001b[0m                 \u001b[1;32mfor\u001b[0m \u001b[0mk1\u001b[0m\u001b[1;33m,\u001b[0m \u001b[0mk2\u001b[0m \u001b[1;32min\u001b[0m \u001b[0mzip\u001b[0m\u001b[1;33m(\u001b[0m\u001b[0mkey\u001b[0m\u001b[1;33m,\u001b[0m \u001b[0mvalue\u001b[0m\u001b[1;33m.\u001b[0m\u001b[0mcolumns\u001b[0m\u001b[1;33m)\u001b[0m\u001b[1;33m:\u001b[0m\u001b[1;33m\u001b[0m\u001b[1;33m\u001b[0m\u001b[0m\n\u001b[0;32m   3391\u001b[0m                     \u001b[0mself\u001b[0m\u001b[1;33m[\u001b[0m\u001b[0mk1\u001b[0m\u001b[1;33m]\u001b[0m \u001b[1;33m=\u001b[0m \u001b[0mvalue\u001b[0m\u001b[1;33m[\u001b[0m\u001b[0mk2\u001b[0m\u001b[1;33m]\u001b[0m\u001b[1;33m\u001b[0m\u001b[1;33m\u001b[0m\u001b[0m\n",
      "\u001b[1;31mValueError\u001b[0m: Columns must be same length as key"
     ]
    }
   ],
   "source": [
    "# Parallel Categories Plot\n",
    "load_dotenv()\n",
    "map_box_api = os.getenv(\"mapbox\")\n",
    "px.set_mapbox_access_token(map_box_api)\n",
    "\n",
    "df_all_parallel_coordinates=(pd.concat([df_meany_sales, df_meany_rent], axis=1).dropna().reset_index())\n",
    "print(df_all_parallel_coordinates)\n",
    "map_plot = px.parallel_coordinates(df_all_parallel_coordinates, color=\"index\")\n",
    "\n",
    "map_plot"
   ]
  },
  {
   "cell_type": "code",
   "execution_count": 55,
   "metadata": {},
   "outputs": [
    {
     "data": {
      "text/html": [
       "<div>\n",
       "<style scoped>\n",
       "    .dataframe tbody tr th:only-of-type {\n",
       "        vertical-align: middle;\n",
       "    }\n",
       "\n",
       "    .dataframe tbody tr th {\n",
       "        vertical-align: top;\n",
       "    }\n",
       "\n",
       "    .dataframe thead th {\n",
       "        text-align: right;\n",
       "    }\n",
       "</style>\n",
       "<table border=\"1\" class=\"dataframe\">\n",
       "  <thead>\n",
       "    <tr style=\"text-align: right;\">\n",
       "      <th></th>\n",
       "      <th>neighborhood</th>\n",
       "      <th>Lat</th>\n",
       "      <th>Lon</th>\n",
       "      <th>sale_price_sqr_foot</th>\n",
       "      <th>gross_rent</th>\n",
       "    </tr>\n",
       "  </thead>\n",
       "  <tbody>\n",
       "  </tbody>\n",
       "</table>\n",
       "</div>"
      ],
      "text/plain": [
       "Empty DataFrame\n",
       "Columns: [neighborhood, Lat, Lon, sale_price_sqr_foot, gross_rent]\n",
       "Index: []"
      ]
     },
     "execution_count": 55,
     "metadata": {},
     "output_type": "execute_result"
    }
   ],
   "source": [
    "megadatamix"
   ]
  },
  {
   "cell_type": "code",
   "execution_count": null,
   "metadata": {},
   "outputs": [],
   "source": [
    "megadatamix=megamixdata.iloc(10)"
   ]
  },
  {
   "cell_type": "code",
   "execution_count": null,
   "metadata": {},
   "outputs": [],
   "source": [
    "megadatamix_parallel_coordinates = px.parallel_coordinates(\n",
    "    megadatamix,\n",
    "    dimensions=[\"sale_price_sqr_foot\", \"gross_rent\"],\n",
    "    )\n",
    "\n",
    "megadatamix_parallel_coordinates"
   ]
  },
  {
   "cell_type": "code",
   "execution_count": null,
   "metadata": {},
   "outputs": [],
   "source": [
    "megadatamix_parallel_categories = px.parallel_categories(\n",
    "    megadatamix,\n",
    "    dimensions=[\"sale_price_sqr_foot\", \"gross_rent\"],\n",
    ")\n",
    "\n",
    "megadatamix_parallel_categories"
   ]
  },
  {
   "cell_type": "markdown",
   "metadata": {},
   "source": [
    "### Create a sunburst chart to conduct a costs analysis of most expensive neighborhoods in San Francisco per year"
   ]
  },
  {
   "cell_type": "code",
   "execution_count": 109,
   "metadata": {},
   "outputs": [
    {
     "data": {
      "text/html": [
       "<div>\n",
       "<style scoped>\n",
       "    .dataframe tbody tr th:only-of-type {\n",
       "        vertical-align: middle;\n",
       "    }\n",
       "\n",
       "    .dataframe tbody tr th {\n",
       "        vertical-align: top;\n",
       "    }\n",
       "\n",
       "    .dataframe thead th {\n",
       "        text-align: right;\n",
       "    }\n",
       "</style>\n",
       "<table border=\"1\" class=\"dataframe\">\n",
       "  <thead>\n",
       "    <tr style=\"text-align: right;\">\n",
       "      <th></th>\n",
       "      <th>year</th>\n",
       "      <th>neighborhood</th>\n",
       "      <th>sale_price_sqr_foot</th>\n",
       "      <th>housing_units</th>\n",
       "      <th>gross_rent</th>\n",
       "    </tr>\n",
       "  </thead>\n",
       "  <tbody>\n",
       "    <tr>\n",
       "      <th>0</th>\n",
       "      <td>2010</td>\n",
       "      <td>Alamo Square</td>\n",
       "      <td>291.182945</td>\n",
       "      <td>372560</td>\n",
       "      <td>1239</td>\n",
       "    </tr>\n",
       "    <tr>\n",
       "      <th>1</th>\n",
       "      <td>2010</td>\n",
       "      <td>Anza Vista</td>\n",
       "      <td>267.932583</td>\n",
       "      <td>372560</td>\n",
       "      <td>1239</td>\n",
       "    </tr>\n",
       "    <tr>\n",
       "      <th>2</th>\n",
       "      <td>2010</td>\n",
       "      <td>Bayview</td>\n",
       "      <td>170.098665</td>\n",
       "      <td>372560</td>\n",
       "      <td>1239</td>\n",
       "    </tr>\n",
       "    <tr>\n",
       "      <th>3</th>\n",
       "      <td>2010</td>\n",
       "      <td>Buena Vista Park</td>\n",
       "      <td>347.394919</td>\n",
       "      <td>372560</td>\n",
       "      <td>1239</td>\n",
       "    </tr>\n",
       "    <tr>\n",
       "      <th>4</th>\n",
       "      <td>2010</td>\n",
       "      <td>Central Richmond</td>\n",
       "      <td>319.027623</td>\n",
       "      <td>372560</td>\n",
       "      <td>1239</td>\n",
       "    </tr>\n",
       "  </tbody>\n",
       "</table>\n",
       "</div>"
      ],
      "text/plain": [
       "   year      neighborhood  sale_price_sqr_foot  housing_units  gross_rent\n",
       "0  2010      Alamo Square           291.182945         372560        1239\n",
       "1  2010        Anza Vista           267.932583         372560        1239\n",
       "2  2010           Bayview           170.098665         372560        1239\n",
       "3  2010  Buena Vista Park           347.394919         372560        1239\n",
       "4  2010  Central Richmond           319.027623         372560        1239"
      ]
     },
     "execution_count": 109,
     "metadata": {},
     "output_type": "execute_result"
    }
   ],
   "source": [
    "housing_per_year_andneighborhood.head()"
   ]
  },
  {
   "cell_type": "code",
   "execution_count": 110,
   "metadata": {},
   "outputs": [
    {
     "data": {
      "application/vnd.plotly.v1+json": {
       "config": {
        "plotlyServerURL": "https://plot.ly"
       },
       "data": [
        {
         "branchvalues": "total",
         "customdata": [
          [
           1239
          ],
          [
           1530
          ],
          [
           2324
          ],
          [
           2971
          ],
          [
           3528
          ],
          [
           3739
          ],
          [
           4390
          ],
          [
           1239
          ],
          [
           2324
          ],
          [
           2971.0000000000005
          ],
          [
           3528
          ],
          [
           3739
          ],
          [
           4390
          ],
          [
           1239
          ],
          [
           1530
          ],
          [
           2324
          ],
          [
           2971
          ],
          [
           3528
          ],
          [
           3739
          ],
          [
           1530
          ],
          [
           2324
          ],
          [
           2971
          ],
          [
           3528
          ],
          [
           3739
          ],
          [
           4390
          ],
          [
           1239
          ],
          [
           1530
          ],
          [
           2324
          ],
          [
           2971
          ],
          [
           3739
          ],
          [
           4390
          ],
          [
           1239
          ],
          [
           1530
          ],
          [
           2324
          ],
          [
           2971
          ],
          [
           3528
          ],
          [
           3739
          ],
          [
           4390
          ],
          [
           1239
          ],
          [
           1530
          ],
          [
           2324
          ],
          [
           2971
          ],
          [
           3528
          ],
          [
           3738.9999999999995
          ],
          [
           4390
          ],
          [
           1530
          ],
          [
           2971
          ],
          [
           1239
          ],
          [
           1530
          ],
          [
           2324
          ],
          [
           3528
          ],
          [
           3739
          ],
          [
           1239
          ],
          [
           1529.9999999999998
          ],
          [
           2324
          ],
          [
           2971
          ],
          [
           3527.9999999999995
          ],
          [
           3739.0000000000005
          ],
          [
           4390
          ],
          [
           1239
          ],
          [
           1530
          ],
          [
           2324
          ],
          [
           2971
          ],
          [
           3739
          ],
          [
           4390
          ],
          [
           1239
          ],
          [
           1530
          ],
          [
           2324
          ],
          [
           2971
          ],
          [
           1239
          ],
          [
           1530
          ],
          [
           2324
          ],
          [
           2971.0000000000005
          ],
          [
           3528.0000000000005
          ],
          [
           3739
          ],
          [
           4390
          ],
          [
           1530
          ],
          [
           2324
          ],
          [
           3528.0000000000005
          ],
          [
           3739.0000000000005
          ],
          [
           1239
          ],
          [
           1530.0000000000002
          ],
          [
           2324
          ],
          [
           2971
          ],
          [
           3527.9999999999995
          ],
          [
           3739
          ],
          [
           4390
          ],
          [
           1239
          ],
          [
           2324
          ],
          [
           2971
          ],
          [
           3528.0000000000005
          ],
          [
           3739
          ],
          [
           4390
          ],
          [
           1239
          ],
          [
           1530
          ],
          [
           2324
          ],
          [
           2971
          ],
          [
           3527.9999999999995
          ],
          [
           3739
          ],
          [
           null
          ],
          [
           1239
          ],
          [
           1530
          ],
          [
           2324
          ],
          [
           3527.9999999999995
          ],
          [
           3739
          ],
          [
           1239
          ],
          [
           2324
          ],
          [
           1239
          ],
          [
           1530
          ],
          [
           2971
          ],
          [
           3528
          ],
          [
           3739
          ],
          [
           4390
          ],
          [
           1239
          ],
          [
           1529.9999999999998
          ],
          [
           2971
          ],
          [
           3528
          ],
          [
           3739
          ],
          [
           1239
          ],
          [
           1530
          ],
          [
           2324
          ],
          [
           2971
          ],
          [
           3528
          ],
          [
           3738.9999999999995
          ],
          [
           4390
          ],
          [
           1239
          ],
          [
           1530
          ],
          [
           2324
          ],
          [
           2971
          ],
          [
           3528
          ],
          [
           3739
          ],
          [
           4390
          ],
          [
           1239
          ],
          [
           null
          ],
          [
           1239
          ],
          [
           1529.9999999999998
          ],
          [
           3528
          ],
          [
           3738.9999999999995
          ],
          [
           1530
          ],
          [
           4390
          ],
          [
           1239
          ],
          [
           1530
          ],
          [
           2324
          ],
          [
           2971
          ],
          [
           3528
          ],
          [
           3739
          ],
          [
           4390
          ],
          [
           1239
          ],
          [
           3528.0000000000005
          ],
          [
           3739.0000000000005
          ],
          [
           4390
          ],
          [
           1239
          ],
          [
           1530
          ],
          [
           2324
          ],
          [
           2971
          ],
          [
           3528
          ],
          [
           3739
          ],
          [
           4390
          ],
          [
           1239
          ],
          [
           1530
          ],
          [
           2324
          ],
          [
           2971
          ],
          [
           3528
          ],
          [
           3739.0000000000005
          ],
          [
           4390
          ],
          [
           1239
          ],
          [
           1530
          ],
          [
           2324
          ],
          [
           2971
          ],
          [
           3528
          ],
          [
           3739
          ],
          [
           4390
          ],
          [
           1239
          ],
          [
           1530
          ],
          [
           2324
          ],
          [
           2971
          ],
          [
           3528
          ],
          [
           3739
          ],
          [
           1239
          ],
          [
           1530
          ],
          [
           2324
          ],
          [
           2971
          ],
          [
           3528
          ],
          [
           3739
          ],
          [
           1239
          ],
          [
           1530
          ],
          [
           2324
          ],
          [
           2971
          ],
          [
           3528
          ],
          [
           3739
          ],
          [
           4390
          ],
          [
           1239
          ],
          [
           1530
          ],
          [
           2324
          ],
          [
           2971
          ],
          [
           3528.0000000000005
          ],
          [
           3739
          ],
          [
           4390
          ],
          [
           2324
          ],
          [
           3528
          ],
          [
           4390
          ],
          [
           2324
          ],
          [
           2971
          ],
          [
           1239
          ],
          [
           1530
          ],
          [
           2324
          ],
          [
           3528
          ],
          [
           1239
          ],
          [
           1530
          ],
          [
           2324
          ],
          [
           null
          ],
          [
           3528.0000000000005
          ],
          [
           4390
          ],
          [
           1239
          ],
          [
           1530
          ],
          [
           2324
          ],
          [
           2971
          ],
          [
           3528
          ],
          [
           3739.0000000000005
          ],
          [
           1239
          ],
          [
           2971
          ],
          [
           3528
          ],
          [
           3739
          ],
          [
           4390
          ],
          [
           1239
          ],
          [
           1530
          ],
          [
           2324
          ],
          [
           2971
          ],
          [
           3528
          ],
          [
           3739
          ],
          [
           4390
          ],
          [
           1239
          ],
          [
           1530
          ],
          [
           2324
          ],
          [
           2971
          ],
          [
           3527.9999999999995
          ],
          [
           3739
          ],
          [
           4390
          ],
          [
           1530
          ],
          [
           2324
          ],
          [
           2971
          ],
          [
           3739
          ],
          [
           4390
          ],
          [
           1529.9999999999998
          ],
          [
           2324
          ],
          [
           2971
          ],
          [
           3528
          ],
          [
           3739
          ],
          [
           1239
          ],
          [
           2324
          ],
          [
           3739
          ],
          [
           1530
          ],
          [
           2324
          ],
          [
           3739
          ],
          [
           4390
          ],
          [
           1239
          ],
          [
           1530
          ],
          [
           2324
          ],
          [
           2971
          ],
          [
           3528.0000000000005
          ],
          [
           3739
          ],
          [
           4390
          ],
          [
           1239
          ],
          [
           1530
          ],
          [
           2324
          ],
          [
           2971
          ],
          [
           3528
          ],
          [
           3739
          ],
          [
           4390
          ],
          [
           1239
          ],
          [
           1530
          ],
          [
           2324
          ],
          [
           2971
          ],
          [
           3528
          ],
          [
           3739
          ],
          [
           4390
          ],
          [
           1239
          ],
          [
           1530
          ],
          [
           2324
          ],
          [
           2971
          ],
          [
           3528
          ],
          [
           3739
          ],
          [
           4390
          ],
          [
           1239
          ],
          [
           1530
          ],
          [
           2324
          ],
          [
           2971
          ],
          [
           3528
          ],
          [
           3739
          ],
          [
           4390
          ],
          [
           1239
          ],
          [
           1529.9999999999998
          ],
          [
           2324
          ],
          [
           2971
          ],
          [
           3528
          ],
          [
           null
          ],
          [
           1239
          ],
          [
           1530
          ],
          [
           2324
          ],
          [
           2971
          ],
          [
           3528
          ],
          [
           3739
          ],
          [
           4390
          ],
          [
           1239
          ],
          [
           1530
          ],
          [
           2324
          ],
          [
           2971
          ],
          [
           3528
          ],
          [
           1239
          ],
          [
           1530
          ],
          [
           2324
          ],
          [
           2971
          ],
          [
           3528
          ],
          [
           3739
          ],
          [
           4390
          ],
          [
           1239
          ],
          [
           1530
          ],
          [
           2324
          ],
          [
           2971
          ],
          [
           3528
          ],
          [
           null
          ],
          [
           4390
          ],
          [
           1239
          ],
          [
           1529.9999999999998
          ],
          [
           2324
          ],
          [
           2971
          ],
          [
           3528
          ],
          [
           3738.9999999999995
          ],
          [
           4390
          ],
          [
           3528
          ],
          [
           1239
          ],
          [
           1530
          ],
          [
           3528
          ],
          [
           1239
          ],
          [
           1530
          ],
          [
           2324
          ],
          [
           2971
          ],
          [
           3528
          ],
          [
           3739
          ],
          [
           4390
          ],
          [
           1239
          ],
          [
           1530.0000000000002
          ],
          [
           2971
          ],
          [
           3528
          ],
          [
           3739
          ],
          [
           4390
          ],
          [
           1239
          ],
          [
           1530
          ],
          [
           2324.0000000000005
          ],
          [
           2971
          ],
          [
           3527.9999999999995
          ],
          [
           3739
          ],
          [
           4390
          ],
          [
           1239
          ],
          [
           1530
          ],
          [
           2324
          ],
          [
           2971
          ],
          [
           3528
          ],
          [
           3739
          ],
          [
           4390
          ],
          [
           1239
          ],
          [
           1530
          ],
          [
           2324
          ],
          [
           2971
          ],
          [
           3528
          ],
          [
           3739.0000000000005
          ],
          [
           1239
          ],
          [
           1530
          ],
          [
           2324
          ],
          [
           2971
          ],
          [
           3528
          ],
          [
           3739
          ],
          [
           4390
          ],
          [
           2971
          ],
          [
           3528
          ],
          [
           3739.0000000000005
          ],
          [
           4390
          ],
          [
           1239
          ],
          [
           2324
          ],
          [
           2971
          ],
          [
           3528
          ],
          [
           1239
          ],
          [
           1530
          ],
          [
           2324
          ],
          [
           2971
          ],
          [
           3528
          ],
          [
           3739
          ],
          [
           1530
          ],
          [
           2971.0000000000005
          ],
          [
           3527.9999999999995
          ],
          [
           4390
          ],
          [
           1239
          ],
          [
           1530
          ],
          [
           2324
          ],
          [
           2971.0000000000005
          ],
          [
           3528
          ],
          [
           3739
          ],
          [
           1239.0000000000002
          ],
          [
           1529.9999999999998
          ],
          [
           2324
          ],
          [
           null
          ],
          [
           3527.999999999999
          ],
          [
           null
          ],
          [
           null
          ]
         ],
         "domain": {
          "x": [
           0,
           1
          ],
          "y": [
           0,
           1
          ]
         },
         "hovertemplate": "labels=%{label}<br>sale_price_sqr_foot=%{value}<br>parent=%{parent}<br>id=%{id}<br>gross_rent=%{color}<extra></extra>",
         "ids": [
          "2010/Alamo Square",
          "2011/Alamo Square",
          "2012/Alamo Square",
          "2013/Alamo Square",
          "2014/Alamo Square",
          "2015/Alamo Square",
          "2016/Alamo Square",
          "2010/Anza Vista",
          "2012/Anza Vista",
          "2013/Anza Vista",
          "2014/Anza Vista",
          "2015/Anza Vista",
          "2016/Anza Vista",
          "2010/Bayview",
          "2011/Bayview",
          "2012/Bayview",
          "2013/Bayview",
          "2014/Bayview",
          "2015/Bayview Heights",
          "2011/Bernal Heights ",
          "2012/Bernal Heights ",
          "2013/Bernal Heights ",
          "2014/Bernal Heights ",
          "2015/Bernal Heights ",
          "2016/Bernal Heights ",
          "2010/Buena Vista Park",
          "2011/Buena Vista Park",
          "2012/Buena Vista Park",
          "2013/Buena Vista Park",
          "2015/Buena Vista Park",
          "2016/Buena Vista Park",
          "2010/Central Richmond",
          "2011/Central Richmond",
          "2012/Central Richmond",
          "2013/Central Richmond",
          "2014/Central Richmond",
          "2015/Central Richmond",
          "2016/Central Richmond",
          "2010/Central Sunset",
          "2011/Central Sunset",
          "2012/Central Sunset",
          "2013/Central Sunset",
          "2014/Central Sunset",
          "2015/Central Sunset",
          "2016/Central Sunset",
          "2011/Clarendon Heights",
          "2013/Clarendon Heights",
          "2010/Corona Heights",
          "2011/Corona Heights",
          "2012/Corona Heights",
          "2014/Corona Heights",
          "2015/Corona Heights",
          "2010/Cow Hollow",
          "2011/Cow Hollow",
          "2012/Cow Hollow",
          "2013/Cow Hollow",
          "2014/Cow Hollow",
          "2015/Cow Hollow",
          "2016/Cow Hollow",
          "2010/Croker Amazon",
          "2011/Croker Amazon",
          "2012/Croker Amazon",
          "2013/Croker Amazon",
          "2015/Croker Amazon",
          "2016/Croker Amazon",
          "2010/Diamond Heights",
          "2011/Diamond Heights",
          "2012/Diamond Heights",
          "2013/Diamond Heights",
          "2010/Downtown ",
          "2011/Downtown ",
          "2012/Downtown ",
          "2013/Downtown ",
          "2014/Downtown ",
          "2015/Downtown ",
          "2016/Downtown ",
          "2011/Duboce Triangle",
          "2012/Duboce Triangle",
          "2014/Duboce Triangle",
          "2015/Duboce Triangle",
          "2010/Eureka Valley/Dolores Heights",
          "2011/Eureka Valley/Dolores Heights",
          "2012/Eureka Valley/Dolores Heights",
          "2013/Eureka Valley/Dolores Heights",
          "2014/Eureka Valley/Dolores Heights",
          "2015/Eureka Valley/Dolores Heights",
          "2016/Eureka Valley/Dolores Heights",
          "2010/Excelsior",
          "2012/Excelsior",
          "2013/Excelsior",
          "2014/Excelsior",
          "2015/Excelsior",
          "2016/Excelsior",
          "2010/Financial District North",
          "2011/Financial District North",
          "2012/Financial District North",
          "2013/Financial District North",
          "2014/Financial District North",
          "2015/Financial District North",
          "2016/Financial District North",
          "2010/Financial District South",
          "2011/Financial District South",
          "2012/Financial District South",
          "2014/Financial District South",
          "2015/Financial District South",
          "2010/Forest Knolls",
          "2012/Forest Knolls",
          "2010/Glen Park",
          "2011/Glen Park",
          "2013/Glen Park",
          "2014/Glen Park",
          "2015/Glen Park",
          "2016/Glen Park",
          "2010/Golden Gate Heights",
          "2011/Golden Gate Heights",
          "2013/Golden Gate Heights",
          "2014/Golden Gate Heights",
          "2015/Golden Gate Heights",
          "2010/Haight Ashbury",
          "2011/Haight Ashbury",
          "2012/Haight Ashbury",
          "2013/Haight Ashbury",
          "2014/Haight Ashbury",
          "2015/Haight Ashbury",
          "2016/Haight Ashbury",
          "2010/Hayes Valley",
          "2011/Hayes Valley",
          "2012/Hayes Valley",
          "2013/Hayes Valley",
          "2014/Hayes Valley",
          "2015/Hayes Valley",
          "2016/Hayes Valley",
          "2010/Hunters Point",
          "2015/Hunters Point",
          "2010/Ingleside ",
          "2011/Ingleside ",
          "2014/Ingleside ",
          "2015/Ingleside ",
          "2011/Ingleside Heights",
          "2016/Ingleside Heights",
          "2010/Inner Mission",
          "2011/Inner Mission",
          "2012/Inner Mission",
          "2013/Inner Mission",
          "2014/Inner Mission",
          "2015/Inner Mission",
          "2016/Inner Mission",
          "2010/Inner Parkside",
          "2014/Inner Parkside",
          "2015/Inner Parkside",
          "2016/Inner Parkside",
          "2010/Inner Richmond",
          "2011/Inner Richmond",
          "2012/Inner Richmond",
          "2013/Inner Richmond",
          "2014/Inner Richmond",
          "2015/Inner Richmond",
          "2016/Inner Richmond",
          "2010/Inner Sunset",
          "2011/Inner Sunset",
          "2012/Inner Sunset",
          "2013/Inner Sunset",
          "2014/Inner Sunset",
          "2015/Inner Sunset",
          "2016/Inner Sunset",
          "2010/Jordan Park/Laurel Heights",
          "2011/Jordan Park/Laurel Heights",
          "2012/Jordan Park/Laurel Heights",
          "2013/Jordan Park/Laurel Heights",
          "2014/Jordan Park/Laurel Heights",
          "2015/Jordan Park/Laurel Heights",
          "2016/Jordan Park/Laurel Heights",
          "2010/Lake --The Presidio",
          "2011/Lake --The Presidio",
          "2012/Lake --The Presidio",
          "2013/Lake --The Presidio",
          "2014/Lake --The Presidio",
          "2015/Lake --The Presidio",
          "2010/Lone Mountain",
          "2011/Lone Mountain",
          "2012/Lone Mountain",
          "2013/Lone Mountain",
          "2014/Lone Mountain",
          "2015/Lone Mountain",
          "2010/Lower Pacific Heights",
          "2011/Lower Pacific Heights",
          "2012/Lower Pacific Heights",
          "2013/Lower Pacific Heights",
          "2014/Lower Pacific Heights",
          "2015/Lower Pacific Heights",
          "2016/Lower Pacific Heights",
          "2010/Marina",
          "2011/Marina",
          "2012/Marina",
          "2013/Marina",
          "2014/Marina",
          "2015/Marina",
          "2016/Marina",
          "2012/Merced Heights",
          "2014/Merced Heights",
          "2016/Merced Heights",
          "2012/Midtown Terrace",
          "2013/Midtown Terrace",
          "2010/Miraloma Park",
          "2011/Miraloma Park",
          "2012/Miraloma Park",
          "2014/Miraloma Park",
          "2010/Mission Bay",
          "2011/Mission Bay",
          "2012/Mission Bay",
          "2013/Mission Bay",
          "2014/Mission Bay",
          "2016/Mission Bay",
          "2010/Mission Dolores",
          "2011/Mission Dolores",
          "2012/Mission Dolores",
          "2013/Mission Dolores",
          "2014/Mission Dolores",
          "2015/Mission Dolores",
          "2010/Mission Terrace",
          "2013/Mission Terrace",
          "2014/Mission Terrace",
          "2015/Mission Terrace",
          "2016/Mission Terrace",
          "2010/Nob Hill",
          "2011/Nob Hill",
          "2012/Nob Hill",
          "2013/Nob Hill",
          "2014/Nob Hill",
          "2015/Nob Hill",
          "2016/Nob Hill",
          "2010/Noe Valley",
          "2011/Noe Valley",
          "2012/Noe Valley",
          "2013/Noe Valley",
          "2014/Noe Valley",
          "2015/Noe Valley",
          "2016/Noe Valley",
          "2011/North Beach",
          "2012/North Beach",
          "2013/North Beach",
          "2015/North Beach",
          "2016/North Beach",
          "2011/North Waterfront",
          "2012/North Waterfront",
          "2013/North Waterfront",
          "2014/North Waterfront",
          "2015/North Waterfront",
          "2010/Oceanview",
          "2012/Oceanview",
          "2015/Oceanview",
          "2011/Outer Mission",
          "2012/Outer Mission",
          "2015/Outer Mission",
          "2016/Outer Mission",
          "2010/Outer Parkside",
          "2011/Outer Parkside",
          "2012/Outer Parkside",
          "2013/Outer Parkside",
          "2014/Outer Parkside",
          "2015/Outer Parkside",
          "2016/Outer Parkside",
          "2010/Outer Richmond ",
          "2011/Outer Richmond ",
          "2012/Outer Richmond ",
          "2013/Outer Richmond ",
          "2014/Outer Richmond ",
          "2015/Outer Richmond ",
          "2016/Outer Richmond ",
          "2010/Outer Sunset",
          "2011/Outer Sunset",
          "2012/Outer Sunset",
          "2013/Outer Sunset",
          "2014/Outer Sunset",
          "2015/Outer Sunset",
          "2016/Outer Sunset",
          "2010/Pacific Heights",
          "2011/Pacific Heights",
          "2012/Pacific Heights",
          "2013/Pacific Heights",
          "2014/Pacific Heights",
          "2015/Pacific Heights",
          "2016/Pacific Heights",
          "2010/Park North",
          "2011/Park North",
          "2012/Park North",
          "2013/Park North",
          "2014/Park North",
          "2015/Park North",
          "2016/Park North",
          "2010/Parkside",
          "2011/Parkside",
          "2012/Parkside",
          "2013/Parkside",
          "2014/Parkside",
          "2015/Parkside",
          "2010/Parnassus/Ashbury Heights",
          "2011/Parnassus/Ashbury Heights",
          "2012/Parnassus/Ashbury Heights",
          "2013/Parnassus/Ashbury Heights",
          "2014/Parnassus/Ashbury Heights",
          "2015/Parnassus/Ashbury Heights",
          "2016/Parnassus/Ashbury Heights",
          "2010/Portola",
          "2011/Portola",
          "2012/Portola",
          "2013/Portola",
          "2014/Portola",
          "2010/Potrero Hill",
          "2011/Potrero Hill",
          "2012/Potrero Hill",
          "2013/Potrero Hill",
          "2014/Potrero Hill",
          "2015/Potrero Hill",
          "2016/Potrero Hill",
          "2010/Presidio Heights",
          "2011/Presidio Heights",
          "2012/Presidio Heights",
          "2013/Presidio Heights",
          "2014/Presidio Heights",
          "2015/Presidio Heights",
          "2016/Presidio Heights",
          "2010/Russian Hill",
          "2011/Russian Hill",
          "2012/Russian Hill",
          "2013/Russian Hill",
          "2014/Russian Hill",
          "2015/Russian Hill",
          "2016/Russian Hill",
          "2014/Silver Terrace",
          "2010/South Beach",
          "2011/South Beach",
          "2014/South Beach",
          "2010/South of Market",
          "2011/South of Market",
          "2012/South of Market",
          "2013/South of Market",
          "2014/South of Market",
          "2015/South of Market",
          "2016/South of Market",
          "2010/Sunnyside",
          "2011/Sunnyside",
          "2013/Sunnyside",
          "2014/Sunnyside",
          "2015/Sunnyside",
          "2016/Sunnyside",
          "2010/Telegraph Hill",
          "2011/Telegraph Hill",
          "2012/Telegraph Hill",
          "2013/Telegraph Hill",
          "2014/Telegraph Hill",
          "2015/Telegraph Hill",
          "2016/Telegraph Hill",
          "2010/Twin Peaks",
          "2011/Twin Peaks",
          "2012/Twin Peaks",
          "2013/Twin Peaks",
          "2014/Twin Peaks",
          "2015/Twin Peaks",
          "2016/Twin Peaks",
          "2010/Union Square District",
          "2011/Union Square District",
          "2012/Union Square District",
          "2013/Union Square District",
          "2014/Union Square District",
          "2015/Union Square District",
          "2010/Van Ness/ Civic Center",
          "2011/Van Ness/ Civic Center",
          "2012/Van Ness/ Civic Center",
          "2013/Van Ness/ Civic Center",
          "2014/Van Ness/ Civic Center",
          "2015/Van Ness/ Civic Center",
          "2016/Van Ness/ Civic Center",
          "2013/Visitacion Valley",
          "2014/Visitacion Valley",
          "2015/Visitacion Valley",
          "2016/Visitacion Valley",
          "2010/West Portal",
          "2012/West Portal",
          "2013/West Portal",
          "2014/West Portal",
          "2010/Western Addition",
          "2011/Western Addition",
          "2012/Western Addition",
          "2013/Western Addition",
          "2014/Western Addition",
          "2015/Western Addition",
          "2011/Westwood Highlands",
          "2013/Westwood Highlands",
          "2014/Westwood Park",
          "2016/Westwood Park",
          "2010/Yerba Buena",
          "2011/Yerba Buena",
          "2012/Yerba Buena",
          "2013/Yerba Buena",
          "2014/Yerba Buena",
          "2015/Yerba Buena",
          "2010",
          "2011",
          "2012",
          "2013",
          "2014",
          "2015",
          "2016"
         ],
         "labels": [
          "Alamo Square",
          "Alamo Square",
          "Alamo Square",
          "Alamo Square",
          "Alamo Square",
          "Alamo Square",
          "Alamo Square",
          "Anza Vista",
          "Anza Vista",
          "Anza Vista",
          "Anza Vista",
          "Anza Vista",
          "Anza Vista",
          "Bayview",
          "Bayview",
          "Bayview",
          "Bayview",
          "Bayview",
          "Bayview Heights",
          "Bernal Heights ",
          "Bernal Heights ",
          "Bernal Heights ",
          "Bernal Heights ",
          "Bernal Heights ",
          "Bernal Heights ",
          "Buena Vista Park",
          "Buena Vista Park",
          "Buena Vista Park",
          "Buena Vista Park",
          "Buena Vista Park",
          "Buena Vista Park",
          "Central Richmond",
          "Central Richmond",
          "Central Richmond",
          "Central Richmond",
          "Central Richmond",
          "Central Richmond",
          "Central Richmond",
          "Central Sunset",
          "Central Sunset",
          "Central Sunset",
          "Central Sunset",
          "Central Sunset",
          "Central Sunset",
          "Central Sunset",
          "Clarendon Heights",
          "Clarendon Heights",
          "Corona Heights",
          "Corona Heights",
          "Corona Heights",
          "Corona Heights",
          "Corona Heights",
          "Cow Hollow",
          "Cow Hollow",
          "Cow Hollow",
          "Cow Hollow",
          "Cow Hollow",
          "Cow Hollow",
          "Cow Hollow",
          "Croker Amazon",
          "Croker Amazon",
          "Croker Amazon",
          "Croker Amazon",
          "Croker Amazon",
          "Croker Amazon",
          "Diamond Heights",
          "Diamond Heights",
          "Diamond Heights",
          "Diamond Heights",
          "Downtown ",
          "Downtown ",
          "Downtown ",
          "Downtown ",
          "Downtown ",
          "Downtown ",
          "Downtown ",
          "Duboce Triangle",
          "Duboce Triangle",
          "Duboce Triangle",
          "Duboce Triangle",
          "Eureka Valley/Dolores Heights",
          "Eureka Valley/Dolores Heights",
          "Eureka Valley/Dolores Heights",
          "Eureka Valley/Dolores Heights",
          "Eureka Valley/Dolores Heights",
          "Eureka Valley/Dolores Heights",
          "Eureka Valley/Dolores Heights",
          "Excelsior",
          "Excelsior",
          "Excelsior",
          "Excelsior",
          "Excelsior",
          "Excelsior",
          "Financial District North",
          "Financial District North",
          "Financial District North",
          "Financial District North",
          "Financial District North",
          "Financial District North",
          "Financial District North",
          "Financial District South",
          "Financial District South",
          "Financial District South",
          "Financial District South",
          "Financial District South",
          "Forest Knolls",
          "Forest Knolls",
          "Glen Park",
          "Glen Park",
          "Glen Park",
          "Glen Park",
          "Glen Park",
          "Glen Park",
          "Golden Gate Heights",
          "Golden Gate Heights",
          "Golden Gate Heights",
          "Golden Gate Heights",
          "Golden Gate Heights",
          "Haight Ashbury",
          "Haight Ashbury",
          "Haight Ashbury",
          "Haight Ashbury",
          "Haight Ashbury",
          "Haight Ashbury",
          "Haight Ashbury",
          "Hayes Valley",
          "Hayes Valley",
          "Hayes Valley",
          "Hayes Valley",
          "Hayes Valley",
          "Hayes Valley",
          "Hayes Valley",
          "Hunters Point",
          "Hunters Point",
          "Ingleside ",
          "Ingleside ",
          "Ingleside ",
          "Ingleside ",
          "Ingleside Heights",
          "Ingleside Heights",
          "Inner Mission",
          "Inner Mission",
          "Inner Mission",
          "Inner Mission",
          "Inner Mission",
          "Inner Mission",
          "Inner Mission",
          "Inner Parkside",
          "Inner Parkside",
          "Inner Parkside",
          "Inner Parkside",
          "Inner Richmond",
          "Inner Richmond",
          "Inner Richmond",
          "Inner Richmond",
          "Inner Richmond",
          "Inner Richmond",
          "Inner Richmond",
          "Inner Sunset",
          "Inner Sunset",
          "Inner Sunset",
          "Inner Sunset",
          "Inner Sunset",
          "Inner Sunset",
          "Inner Sunset",
          "Jordan Park/Laurel Heights",
          "Jordan Park/Laurel Heights",
          "Jordan Park/Laurel Heights",
          "Jordan Park/Laurel Heights",
          "Jordan Park/Laurel Heights",
          "Jordan Park/Laurel Heights",
          "Jordan Park/Laurel Heights",
          "Lake --The Presidio",
          "Lake --The Presidio",
          "Lake --The Presidio",
          "Lake --The Presidio",
          "Lake --The Presidio",
          "Lake --The Presidio",
          "Lone Mountain",
          "Lone Mountain",
          "Lone Mountain",
          "Lone Mountain",
          "Lone Mountain",
          "Lone Mountain",
          "Lower Pacific Heights",
          "Lower Pacific Heights",
          "Lower Pacific Heights",
          "Lower Pacific Heights",
          "Lower Pacific Heights",
          "Lower Pacific Heights",
          "Lower Pacific Heights",
          "Marina",
          "Marina",
          "Marina",
          "Marina",
          "Marina",
          "Marina",
          "Marina",
          "Merced Heights",
          "Merced Heights",
          "Merced Heights",
          "Midtown Terrace",
          "Midtown Terrace",
          "Miraloma Park",
          "Miraloma Park",
          "Miraloma Park",
          "Miraloma Park",
          "Mission Bay",
          "Mission Bay",
          "Mission Bay",
          "Mission Bay",
          "Mission Bay",
          "Mission Bay",
          "Mission Dolores",
          "Mission Dolores",
          "Mission Dolores",
          "Mission Dolores",
          "Mission Dolores",
          "Mission Dolores",
          "Mission Terrace",
          "Mission Terrace",
          "Mission Terrace",
          "Mission Terrace",
          "Mission Terrace",
          "Nob Hill",
          "Nob Hill",
          "Nob Hill",
          "Nob Hill",
          "Nob Hill",
          "Nob Hill",
          "Nob Hill",
          "Noe Valley",
          "Noe Valley",
          "Noe Valley",
          "Noe Valley",
          "Noe Valley",
          "Noe Valley",
          "Noe Valley",
          "North Beach",
          "North Beach",
          "North Beach",
          "North Beach",
          "North Beach",
          "North Waterfront",
          "North Waterfront",
          "North Waterfront",
          "North Waterfront",
          "North Waterfront",
          "Oceanview",
          "Oceanview",
          "Oceanview",
          "Outer Mission",
          "Outer Mission",
          "Outer Mission",
          "Outer Mission",
          "Outer Parkside",
          "Outer Parkside",
          "Outer Parkside",
          "Outer Parkside",
          "Outer Parkside",
          "Outer Parkside",
          "Outer Parkside",
          "Outer Richmond ",
          "Outer Richmond ",
          "Outer Richmond ",
          "Outer Richmond ",
          "Outer Richmond ",
          "Outer Richmond ",
          "Outer Richmond ",
          "Outer Sunset",
          "Outer Sunset",
          "Outer Sunset",
          "Outer Sunset",
          "Outer Sunset",
          "Outer Sunset",
          "Outer Sunset",
          "Pacific Heights",
          "Pacific Heights",
          "Pacific Heights",
          "Pacific Heights",
          "Pacific Heights",
          "Pacific Heights",
          "Pacific Heights",
          "Park North",
          "Park North",
          "Park North",
          "Park North",
          "Park North",
          "Park North",
          "Park North",
          "Parkside",
          "Parkside",
          "Parkside",
          "Parkside",
          "Parkside",
          "Parkside",
          "Parnassus/Ashbury Heights",
          "Parnassus/Ashbury Heights",
          "Parnassus/Ashbury Heights",
          "Parnassus/Ashbury Heights",
          "Parnassus/Ashbury Heights",
          "Parnassus/Ashbury Heights",
          "Parnassus/Ashbury Heights",
          "Portola",
          "Portola",
          "Portola",
          "Portola",
          "Portola",
          "Potrero Hill",
          "Potrero Hill",
          "Potrero Hill",
          "Potrero Hill",
          "Potrero Hill",
          "Potrero Hill",
          "Potrero Hill",
          "Presidio Heights",
          "Presidio Heights",
          "Presidio Heights",
          "Presidio Heights",
          "Presidio Heights",
          "Presidio Heights",
          "Presidio Heights",
          "Russian Hill",
          "Russian Hill",
          "Russian Hill",
          "Russian Hill",
          "Russian Hill",
          "Russian Hill",
          "Russian Hill",
          "Silver Terrace",
          "South Beach",
          "South Beach",
          "South Beach",
          "South of Market",
          "South of Market",
          "South of Market",
          "South of Market",
          "South of Market",
          "South of Market",
          "South of Market",
          "Sunnyside",
          "Sunnyside",
          "Sunnyside",
          "Sunnyside",
          "Sunnyside",
          "Sunnyside",
          "Telegraph Hill",
          "Telegraph Hill",
          "Telegraph Hill",
          "Telegraph Hill",
          "Telegraph Hill",
          "Telegraph Hill",
          "Telegraph Hill",
          "Twin Peaks",
          "Twin Peaks",
          "Twin Peaks",
          "Twin Peaks",
          "Twin Peaks",
          "Twin Peaks",
          "Twin Peaks",
          "Union Square District",
          "Union Square District",
          "Union Square District",
          "Union Square District",
          "Union Square District",
          "Union Square District",
          "Van Ness/ Civic Center",
          "Van Ness/ Civic Center",
          "Van Ness/ Civic Center",
          "Van Ness/ Civic Center",
          "Van Ness/ Civic Center",
          "Van Ness/ Civic Center",
          "Van Ness/ Civic Center",
          "Visitacion Valley",
          "Visitacion Valley",
          "Visitacion Valley",
          "Visitacion Valley",
          "West Portal",
          "West Portal",
          "West Portal",
          "West Portal",
          "Western Addition",
          "Western Addition",
          "Western Addition",
          "Western Addition",
          "Western Addition",
          "Western Addition",
          "Westwood Highlands",
          "Westwood Highlands",
          "Westwood Park",
          "Westwood Park",
          "Yerba Buena",
          "Yerba Buena",
          "Yerba Buena",
          "Yerba Buena",
          "Yerba Buena",
          "Yerba Buena",
          "2010",
          "2011",
          "2012",
          "2013",
          "2014",
          "2015",
          "2016"
         ],
         "marker": {
          "coloraxis": "coloraxis",
          "colors": [
           1239,
           1530,
           2324,
           2971,
           3528,
           3739,
           4390,
           1239,
           2324,
           2971.0000000000005,
           3528,
           3739,
           4390,
           1239,
           1530,
           2324,
           2971,
           3528,
           3739,
           1530,
           2324,
           2971,
           3528,
           3739,
           4390,
           1239,
           1530,
           2324,
           2971,
           3739,
           4390,
           1239,
           1530,
           2324,
           2971,
           3528,
           3739,
           4390,
           1239,
           1530,
           2324,
           2971,
           3528,
           3738.9999999999995,
           4390,
           1530,
           2971,
           1239,
           1530,
           2324,
           3528,
           3739,
           1239,
           1529.9999999999998,
           2324,
           2971,
           3527.9999999999995,
           3739.0000000000005,
           4390,
           1239,
           1530,
           2324,
           2971,
           3739,
           4390,
           1239,
           1530,
           2324,
           2971,
           1239,
           1530,
           2324,
           2971.0000000000005,
           3528.0000000000005,
           3739,
           4390,
           1530,
           2324,
           3528.0000000000005,
           3739.0000000000005,
           1239,
           1530.0000000000002,
           2324,
           2971,
           3527.9999999999995,
           3739,
           4390,
           1239,
           2324,
           2971,
           3528.0000000000005,
           3739,
           4390,
           1239,
           1530,
           2324,
           2971,
           3527.9999999999995,
           3739,
           null,
           1239,
           1530,
           2324,
           3527.9999999999995,
           3739,
           1239,
           2324,
           1239,
           1530,
           2971,
           3528,
           3739,
           4390,
           1239,
           1529.9999999999998,
           2971,
           3528,
           3739,
           1239,
           1530,
           2324,
           2971,
           3528,
           3738.9999999999995,
           4390,
           1239,
           1530,
           2324,
           2971,
           3528,
           3739,
           4390,
           1239,
           null,
           1239,
           1529.9999999999998,
           3528,
           3738.9999999999995,
           1530,
           4390,
           1239,
           1530,
           2324,
           2971,
           3528,
           3739,
           4390,
           1239,
           3528.0000000000005,
           3739.0000000000005,
           4390,
           1239,
           1530,
           2324,
           2971,
           3528,
           3739,
           4390,
           1239,
           1530,
           2324,
           2971,
           3528,
           3739.0000000000005,
           4390,
           1239,
           1530,
           2324,
           2971,
           3528,
           3739,
           4390,
           1239,
           1530,
           2324,
           2971,
           3528,
           3739,
           1239,
           1530,
           2324,
           2971,
           3528,
           3739,
           1239,
           1530,
           2324,
           2971,
           3528,
           3739,
           4390,
           1239,
           1530,
           2324,
           2971,
           3528.0000000000005,
           3739,
           4390,
           2324,
           3528,
           4390,
           2324,
           2971,
           1239,
           1530,
           2324,
           3528,
           1239,
           1530,
           2324,
           null,
           3528.0000000000005,
           4390,
           1239,
           1530,
           2324,
           2971,
           3528,
           3739.0000000000005,
           1239,
           2971,
           3528,
           3739,
           4390,
           1239,
           1530,
           2324,
           2971,
           3528,
           3739,
           4390,
           1239,
           1530,
           2324,
           2971,
           3527.9999999999995,
           3739,
           4390,
           1530,
           2324,
           2971,
           3739,
           4390,
           1529.9999999999998,
           2324,
           2971,
           3528,
           3739,
           1239,
           2324,
           3739,
           1530,
           2324,
           3739,
           4390,
           1239,
           1530,
           2324,
           2971,
           3528.0000000000005,
           3739,
           4390,
           1239,
           1530,
           2324,
           2971,
           3528,
           3739,
           4390,
           1239,
           1530,
           2324,
           2971,
           3528,
           3739,
           4390,
           1239,
           1530,
           2324,
           2971,
           3528,
           3739,
           4390,
           1239,
           1530,
           2324,
           2971,
           3528,
           3739,
           4390,
           1239,
           1529.9999999999998,
           2324,
           2971,
           3528,
           null,
           1239,
           1530,
           2324,
           2971,
           3528,
           3739,
           4390,
           1239,
           1530,
           2324,
           2971,
           3528,
           1239,
           1530,
           2324,
           2971,
           3528,
           3739,
           4390,
           1239,
           1530,
           2324,
           2971,
           3528,
           null,
           4390,
           1239,
           1529.9999999999998,
           2324,
           2971,
           3528,
           3738.9999999999995,
           4390,
           3528,
           1239,
           1530,
           3528,
           1239,
           1530,
           2324,
           2971,
           3528,
           3739,
           4390,
           1239,
           1530.0000000000002,
           2971,
           3528,
           3739,
           4390,
           1239,
           1530,
           2324.0000000000005,
           2971,
           3527.9999999999995,
           3739,
           4390,
           1239,
           1530,
           2324,
           2971,
           3528,
           3739,
           4390,
           1239,
           1530,
           2324,
           2971,
           3528,
           3739.0000000000005,
           1239,
           1530,
           2324,
           2971,
           3528,
           3739,
           4390,
           2971,
           3528,
           3739.0000000000005,
           4390,
           1239,
           2324,
           2971,
           3528,
           1239,
           1530,
           2324,
           2971,
           3528,
           3739,
           1530,
           2971.0000000000005,
           3527.9999999999995,
           4390,
           1239,
           1530,
           2324,
           2971.0000000000005,
           3528,
           3739,
           1239.0000000000002,
           1529.9999999999998,
           2324,
           null,
           3527.999999999999,
           null,
           null
          ]
         },
         "name": "",
         "parents": [
          "2010",
          "2011",
          "2012",
          "2013",
          "2014",
          "2015",
          "2016",
          "2010",
          "2012",
          "2013",
          "2014",
          "2015",
          "2016",
          "2010",
          "2011",
          "2012",
          "2013",
          "2014",
          "2015",
          "2011",
          "2012",
          "2013",
          "2014",
          "2015",
          "2016",
          "2010",
          "2011",
          "2012",
          "2013",
          "2015",
          "2016",
          "2010",
          "2011",
          "2012",
          "2013",
          "2014",
          "2015",
          "2016",
          "2010",
          "2011",
          "2012",
          "2013",
          "2014",
          "2015",
          "2016",
          "2011",
          "2013",
          "2010",
          "2011",
          "2012",
          "2014",
          "2015",
          "2010",
          "2011",
          "2012",
          "2013",
          "2014",
          "2015",
          "2016",
          "2010",
          "2011",
          "2012",
          "2013",
          "2015",
          "2016",
          "2010",
          "2011",
          "2012",
          "2013",
          "2010",
          "2011",
          "2012",
          "2013",
          "2014",
          "2015",
          "2016",
          "2011",
          "2012",
          "2014",
          "2015",
          "2010",
          "2011",
          "2012",
          "2013",
          "2014",
          "2015",
          "2016",
          "2010",
          "2012",
          "2013",
          "2014",
          "2015",
          "2016",
          "2010",
          "2011",
          "2012",
          "2013",
          "2014",
          "2015",
          "2016",
          "2010",
          "2011",
          "2012",
          "2014",
          "2015",
          "2010",
          "2012",
          "2010",
          "2011",
          "2013",
          "2014",
          "2015",
          "2016",
          "2010",
          "2011",
          "2013",
          "2014",
          "2015",
          "2010",
          "2011",
          "2012",
          "2013",
          "2014",
          "2015",
          "2016",
          "2010",
          "2011",
          "2012",
          "2013",
          "2014",
          "2015",
          "2016",
          "2010",
          "2015",
          "2010",
          "2011",
          "2014",
          "2015",
          "2011",
          "2016",
          "2010",
          "2011",
          "2012",
          "2013",
          "2014",
          "2015",
          "2016",
          "2010",
          "2014",
          "2015",
          "2016",
          "2010",
          "2011",
          "2012",
          "2013",
          "2014",
          "2015",
          "2016",
          "2010",
          "2011",
          "2012",
          "2013",
          "2014",
          "2015",
          "2016",
          "2010",
          "2011",
          "2012",
          "2013",
          "2014",
          "2015",
          "2016",
          "2010",
          "2011",
          "2012",
          "2013",
          "2014",
          "2015",
          "2010",
          "2011",
          "2012",
          "2013",
          "2014",
          "2015",
          "2010",
          "2011",
          "2012",
          "2013",
          "2014",
          "2015",
          "2016",
          "2010",
          "2011",
          "2012",
          "2013",
          "2014",
          "2015",
          "2016",
          "2012",
          "2014",
          "2016",
          "2012",
          "2013",
          "2010",
          "2011",
          "2012",
          "2014",
          "2010",
          "2011",
          "2012",
          "2013",
          "2014",
          "2016",
          "2010",
          "2011",
          "2012",
          "2013",
          "2014",
          "2015",
          "2010",
          "2013",
          "2014",
          "2015",
          "2016",
          "2010",
          "2011",
          "2012",
          "2013",
          "2014",
          "2015",
          "2016",
          "2010",
          "2011",
          "2012",
          "2013",
          "2014",
          "2015",
          "2016",
          "2011",
          "2012",
          "2013",
          "2015",
          "2016",
          "2011",
          "2012",
          "2013",
          "2014",
          "2015",
          "2010",
          "2012",
          "2015",
          "2011",
          "2012",
          "2015",
          "2016",
          "2010",
          "2011",
          "2012",
          "2013",
          "2014",
          "2015",
          "2016",
          "2010",
          "2011",
          "2012",
          "2013",
          "2014",
          "2015",
          "2016",
          "2010",
          "2011",
          "2012",
          "2013",
          "2014",
          "2015",
          "2016",
          "2010",
          "2011",
          "2012",
          "2013",
          "2014",
          "2015",
          "2016",
          "2010",
          "2011",
          "2012",
          "2013",
          "2014",
          "2015",
          "2016",
          "2010",
          "2011",
          "2012",
          "2013",
          "2014",
          "2015",
          "2010",
          "2011",
          "2012",
          "2013",
          "2014",
          "2015",
          "2016",
          "2010",
          "2011",
          "2012",
          "2013",
          "2014",
          "2010",
          "2011",
          "2012",
          "2013",
          "2014",
          "2015",
          "2016",
          "2010",
          "2011",
          "2012",
          "2013",
          "2014",
          "2015",
          "2016",
          "2010",
          "2011",
          "2012",
          "2013",
          "2014",
          "2015",
          "2016",
          "2014",
          "2010",
          "2011",
          "2014",
          "2010",
          "2011",
          "2012",
          "2013",
          "2014",
          "2015",
          "2016",
          "2010",
          "2011",
          "2013",
          "2014",
          "2015",
          "2016",
          "2010",
          "2011",
          "2012",
          "2013",
          "2014",
          "2015",
          "2016",
          "2010",
          "2011",
          "2012",
          "2013",
          "2014",
          "2015",
          "2016",
          "2010",
          "2011",
          "2012",
          "2013",
          "2014",
          "2015",
          "2010",
          "2011",
          "2012",
          "2013",
          "2014",
          "2015",
          "2016",
          "2013",
          "2014",
          "2015",
          "2016",
          "2010",
          "2012",
          "2013",
          "2014",
          "2010",
          "2011",
          "2012",
          "2013",
          "2014",
          "2015",
          "2011",
          "2013",
          "2014",
          "2016",
          "2010",
          "2011",
          "2012",
          "2013",
          "2014",
          "2015",
          "",
          "",
          "",
          "",
          "",
          "",
          ""
         ],
         "type": "sunburst",
         "values": [
          291.18294547229095,
          272.5273101795261,
          183.09931693145703,
          387.79414379681333,
          484.44355217067766,
          602.1158769435002,
          340.98183523166995,
          267.9325826799483,
          344.4909139677922,
          453.34049829869934,
          620.4414065565543,
          465.68627450980387,
          88.40151094606408,
          170.09866536400102,
          172.54056243085552,
          165.79806239165433,
          259.54716259308043,
          254.95866163273848,
          590.7928388746802,
          471.9217320911283,
          368.26656078838516,
          630.8973025513741,
          544.5469286452765,
          458.0042993401075,
          986.8421052631579,
          347.3949194037114,
          171.7723466866044,
          338.60116351046344,
          455.2180887853926,
          551.6956218496264,
          851.4014053492668,
          319.0276225530687,
          261.6638003416518,
          279.0301399218751,
          343.0542609770136,
          423.95272693478194,
          473.1638149617127,
          661.0644257703083,
          418.1724927089675,
          391.42644972996203,
          334.4878725198492,
          330.7364310191893,
          456.2419957897522,
          453.3793770708969,
          581.3708750724594,
          520.7181675305429,
          453.7716045219721,
          369.35933800413665,
          222.567848047696,
          356.7948135908725,
          888.1821435177138,
          1100.7911936704506,
          569.3799679261333,
          390.5956530284181,
          644.8183066758803,
          707.4028088888208,
          691.8654114838455,
          598.6205414959003,
          1059.0656015492618,
          165.6457300650791,
          145.85338027594094,
          415.0903401095623,
          223.11583290346024,
          301.61864706270705,
          566.7011760342162,
          456.9308221979013,
          382.3522610640586,
          366.9954275112727,
          533.6884470076521,
          241.80455206485138,
          234.28162351035442,
          269.109528813633,
          361.45469198221224,
          428.7265326799175,
          485.8868855757771,
          718.7768297452345,
          295.77937822922695,
          452.66002242984047,
          630.3115352378672,
          631.6456863280099,
          403.1183126490986,
          413.16280403427527,
          524.8134180834782,
          608.694967227678,
          728.9797158498743,
          790.1803690820187,
          1026.7911075237503,
          364.92833570851764,
          371.0302152741686,
          289.749665708438,
          358.30523872237734,
          414.35585647200105,
          534.2262501283425,
          401.7499665916537,
          281.312904357283,
          286.3519820673892,
          274.4579436322337,
          409.9438351783924,
          694.358566653677,
          0,
          162.82121004772353,
          354.66555789282774,
          613.8430658201435,
          694.4181461347432,
          453.4330812935196,
          209.0493266346945,
          434.63234651328025,
          715.5864380979738,
          457.41388429762526,
          458.7213317825408,
          553.5627522522698,
          612.1061563311456,
          945.5665024630542,
          551.8011188234774,
          348.92970004124925,
          956.1841219171133,
          567.3400104586143,
          772.7128362001238,
          254.47377914469143,
          392.35345097326814,
          418.83037933269526,
          478.4956365730093,
          496.55100121228986,
          574.2740565313097,
          531.8350322320708,
          272.28497956385485,
          280.73063309393075,
          306.3779578647354,
          491.5892613631572,
          428.9237926791115,
          536.5571018753241,
          175.06606919629078,
          170.62491987132685,
          0,
          275.05668560990915,
          356.7090091359044,
          647.6496334575522,
          192.16524813774402,
          198.01587292452027,
          571.5799833446893,
          238.35002040677708,
          283.17495073168755,
          336.8259501844992,
          377.51801557551835,
          464.1758436880091,
          435.9007753824155,
          647.7704471840341,
          199.70200378219917,
          597.200528047448,
          762.5272331154684,
          518.1126504655916,
          285.82235848868265,
          360.03727240448274,
          373.4668636470579,
          302.96737702840636,
          430.9396363161629,
          493.61555763336935,
          403.31113221139015,
          275.76972957461044,
          302.60448945564127,
          325.82892041816064,
          435.5456667813491,
          470.85352986706454,
          639.1464438694404,
          445.9238282688497,
          419.88781187646566,
          610.7666631577348,
          383.15039609809617,
          584.0737147409254,
          426.7863811847511,
          576.4579094375945,
          704.5664189758045,
          320.79691049204627,
          330.10889435237306,
          380.5214843069476,
          568.6511487607912,
          432.9627229749631,
          426.6849522707296,
          398.4588759923028,
          313.33845823084727,
          545.9801982412763,
          376.08359802951554,
          317.2219194303952,
          918.2882682038704,
          374.05763601016855,
          303.5441997161898,
          396.171112391617,
          548.0466890413603,
          716.3765095625198,
          800.0388650775142,
          636.4307703489127,
          387.392839476922,
          390.81846895621413,
          445.21509554245245,
          655.1980415945777,
          642.838478220973,
          1132.8373605554546,
          431.94460202359033,
          421.1412447061912,
          528.7265413888829,
          1416.666666666667,
          397.9391288956355,
          703.0815676877947,
          680.6087291389301,
          414.67606477603755,
          756.1923725098497,
          1267.7662026328826,
          489.80537777998506,
          506.95217450146765,
          689.5233123659036,
          0,
          220.11108719171108,
          924.5691159025888,
          257.98799863500693,
          293.4042461148187,
          320.9599230279341,
          427.16626614177557,
          642.2195925518147,
          571.7557085689908,
          262.87602564056425,
          591.4020223180053,
          300.1873092016618,
          583.8486362312665,
          879.0170132325142,
          307.67747674427835,
          340.6425969783877,
          307.78311439850694,
          466.02648785310464,
          478.44335175268515,
          529.847319131393,
          777.0083145338547,
          381.13844514705266,
          373.97868706755236,
          428.0219127043747,
          615.0639297056517,
          654.801499892284,
          544.6002639104154,
          799.4956512788842,
          290.9210327099608,
          517.1734931165627,
          393.71733534550384,
          448.86919667679206,
          407.5533215595707,
          346.96116001560216,
          390.3838567783597,
          483.16880334240136,
          379.92536172660726,
          890.9095931764135,
          282.11967050133603,
          442.24265696115737,
          265.92982650327014,
          142.14256751724554,
          221.881138746669,
          564.6874764662283,
          40.7726253518439,
          432.19529211245555,
          241.94565649181578,
          312.83398436239065,
          372.24198616911974,
          650.963515967709,
          652.2879690318528,
          732.7206841423807,
          338.12619999607017,
          271.09013956932756,
          338.63301173022234,
          332.40781536886453,
          401.9350222176535,
          438.4677874196749,
          1196.645436923929,
          368.31155203937294,
          297.2455578459466,
          413.05871935195154,
          322.0822144332409,
          490.36358286726374,
          357.8946922463997,
          510.5769072143791,
          496.51601414694983,
          509.0214800287398,
          586.2182148097696,
          503.89926133005366,
          824.6586936349588,
          910.1876901656897,
          996.3893635634033,
          326.01715041025074,
          289.60560009472283,
          288.0785187599688,
          512.6307219919141,
          371.9242451684328,
          616.5723883169862,
          211.30136986006568,
          274.16674158669116,
          217.55878684527906,
          378.2738784387478,
          364.62465302417013,
          446.23924529045684,
          0,
          434.25500394602585,
          466.6178976523653,
          515.9210732061051,
          425.64225533080946,
          773.4061347806703,
          605.3433249358948,
          1207.997484708169,
          302.15611319728896,
          208.1679967483858,
          351.0432256921308,
          235.99759251727426,
          538.204698577284,
          491.45000385678617,
          503.13850456030497,
          466.6478402167172,
          598.704795328917,
          1045.2015459222662,
          821.3009904764873,
          707.6516094320912,
          549.4179312485746,
          493.814917282618,
          426.60859207171325,
          512.8402484358223,
          603.4509968798565,
          0,
          1465.9685863874345,
          362.34822391312133,
          448.3201042149405,
          414.16272789686775,
          506.22752218971993,
          714.2220737504065,
          793.2619915605263,
          1024.3398771365157,
          170.2925485152069,
          1037.0997886617895,
          388.6443367815385,
          524.6293121403909,
          401.2959764896399,
          337.91413464365013,
          463.8098989043553,
          420.822184596571,
          1119.8388773148026,
          717.0825412171872,
          531.1363737279744,
          542.5316819894505,
          437.16429949197664,
          505.83481143735054,
          493.45560489574007,
          439.7498835483721,
          751.1737089201877,
          524.7935090952678,
          483.4057725178001,
          465.80212163177373,
          653.3116166908643,
          708.1930316849231,
          996.9902204858653,
          903.0497705987848,
          331.55599614560697,
          284.56696642681646,
          304.89964760284107,
          414.43569251368126,
          562.9112337982453,
          417.33537892280015,
          970.08547008547,
          569.1934475267735,
          302.12325280969134,
          445.1967876448791,
          1290.472106646641,
          558.2711194060469,
          2258.702831998355,
          108.0129268765048,
          384.23680203579306,
          345.95804038831767,
          285.0095060630079,
          475.39318681250677,
          677.8382318281795,
          552.6025671312701,
          293.2983722057751,
          282.02546830016496,
          302.2218727063018,
          328.31900668576884,
          392.30076417058257,
          325.79541506433713,
          588.0747967826295,
          687.7829633004552,
          215.56913431487555,
          227.41898086494461,
          274.33846004864847,
          217.0890689540353,
          429.4883174233179,
          481.46924427394237,
          320.0743330547439,
          747.3335378171588,
          742.9797231632554,
          631.1954258724091,
          333.12677384193887,
          438.86054508174806,
          491.8140030500954,
          753.0114133184368,
          479.9237488133093,
          963.5226061641273,
          21791.31684643635,
          20172.302321626245,
          23164.61817003151,
          27081.617038622597,
          33376.63640685049,
          34789.71936176929,
          31393.96691024417
         ]
        }
       ],
       "layout": {
        "autosize": true,
        "coloraxis": {
         "colorbar": {
          "title": {
           "text": "gross_rent"
          }
         },
         "colorscale": [
          [
           0,
           "#0d0887"
          ],
          [
           0.1111111111111111,
           "#46039f"
          ],
          [
           0.2222222222222222,
           "#7201a8"
          ],
          [
           0.3333333333333333,
           "#9c179e"
          ],
          [
           0.4444444444444444,
           "#bd3786"
          ],
          [
           0.5555555555555556,
           "#d8576b"
          ],
          [
           0.6666666666666666,
           "#ed7953"
          ],
          [
           0.7777777777777778,
           "#fb9f3a"
          ],
          [
           0.8888888888888888,
           "#fdca26"
          ],
          [
           1,
           "#f0f921"
          ]
         ]
        },
        "legend": {
         "tracegroupgap": 0
        },
        "margin": {
         "t": 60
        },
        "template": {
         "data": {
          "bar": [
           {
            "error_x": {
             "color": "#2a3f5f"
            },
            "error_y": {
             "color": "#2a3f5f"
            },
            "marker": {
             "line": {
              "color": "#E5ECF6",
              "width": 0.5
             }
            },
            "type": "bar"
           }
          ],
          "barpolar": [
           {
            "marker": {
             "line": {
              "color": "#E5ECF6",
              "width": 0.5
             }
            },
            "type": "barpolar"
           }
          ],
          "carpet": [
           {
            "aaxis": {
             "endlinecolor": "#2a3f5f",
             "gridcolor": "white",
             "linecolor": "white",
             "minorgridcolor": "white",
             "startlinecolor": "#2a3f5f"
            },
            "baxis": {
             "endlinecolor": "#2a3f5f",
             "gridcolor": "white",
             "linecolor": "white",
             "minorgridcolor": "white",
             "startlinecolor": "#2a3f5f"
            },
            "type": "carpet"
           }
          ],
          "choropleth": [
           {
            "colorbar": {
             "outlinewidth": 0,
             "ticks": ""
            },
            "type": "choropleth"
           }
          ],
          "contour": [
           {
            "colorbar": {
             "outlinewidth": 0,
             "ticks": ""
            },
            "colorscale": [
             [
              0,
              "#0d0887"
             ],
             [
              0.1111111111111111,
              "#46039f"
             ],
             [
              0.2222222222222222,
              "#7201a8"
             ],
             [
              0.3333333333333333,
              "#9c179e"
             ],
             [
              0.4444444444444444,
              "#bd3786"
             ],
             [
              0.5555555555555556,
              "#d8576b"
             ],
             [
              0.6666666666666666,
              "#ed7953"
             ],
             [
              0.7777777777777778,
              "#fb9f3a"
             ],
             [
              0.8888888888888888,
              "#fdca26"
             ],
             [
              1,
              "#f0f921"
             ]
            ],
            "type": "contour"
           }
          ],
          "contourcarpet": [
           {
            "colorbar": {
             "outlinewidth": 0,
             "ticks": ""
            },
            "type": "contourcarpet"
           }
          ],
          "heatmap": [
           {
            "colorbar": {
             "outlinewidth": 0,
             "ticks": ""
            },
            "colorscale": [
             [
              0,
              "#0d0887"
             ],
             [
              0.1111111111111111,
              "#46039f"
             ],
             [
              0.2222222222222222,
              "#7201a8"
             ],
             [
              0.3333333333333333,
              "#9c179e"
             ],
             [
              0.4444444444444444,
              "#bd3786"
             ],
             [
              0.5555555555555556,
              "#d8576b"
             ],
             [
              0.6666666666666666,
              "#ed7953"
             ],
             [
              0.7777777777777778,
              "#fb9f3a"
             ],
             [
              0.8888888888888888,
              "#fdca26"
             ],
             [
              1,
              "#f0f921"
             ]
            ],
            "type": "heatmap"
           }
          ],
          "heatmapgl": [
           {
            "colorbar": {
             "outlinewidth": 0,
             "ticks": ""
            },
            "colorscale": [
             [
              0,
              "#0d0887"
             ],
             [
              0.1111111111111111,
              "#46039f"
             ],
             [
              0.2222222222222222,
              "#7201a8"
             ],
             [
              0.3333333333333333,
              "#9c179e"
             ],
             [
              0.4444444444444444,
              "#bd3786"
             ],
             [
              0.5555555555555556,
              "#d8576b"
             ],
             [
              0.6666666666666666,
              "#ed7953"
             ],
             [
              0.7777777777777778,
              "#fb9f3a"
             ],
             [
              0.8888888888888888,
              "#fdca26"
             ],
             [
              1,
              "#f0f921"
             ]
            ],
            "type": "heatmapgl"
           }
          ],
          "histogram": [
           {
            "marker": {
             "colorbar": {
              "outlinewidth": 0,
              "ticks": ""
             }
            },
            "type": "histogram"
           }
          ],
          "histogram2d": [
           {
            "colorbar": {
             "outlinewidth": 0,
             "ticks": ""
            },
            "colorscale": [
             [
              0,
              "#0d0887"
             ],
             [
              0.1111111111111111,
              "#46039f"
             ],
             [
              0.2222222222222222,
              "#7201a8"
             ],
             [
              0.3333333333333333,
              "#9c179e"
             ],
             [
              0.4444444444444444,
              "#bd3786"
             ],
             [
              0.5555555555555556,
              "#d8576b"
             ],
             [
              0.6666666666666666,
              "#ed7953"
             ],
             [
              0.7777777777777778,
              "#fb9f3a"
             ],
             [
              0.8888888888888888,
              "#fdca26"
             ],
             [
              1,
              "#f0f921"
             ]
            ],
            "type": "histogram2d"
           }
          ],
          "histogram2dcontour": [
           {
            "colorbar": {
             "outlinewidth": 0,
             "ticks": ""
            },
            "colorscale": [
             [
              0,
              "#0d0887"
             ],
             [
              0.1111111111111111,
              "#46039f"
             ],
             [
              0.2222222222222222,
              "#7201a8"
             ],
             [
              0.3333333333333333,
              "#9c179e"
             ],
             [
              0.4444444444444444,
              "#bd3786"
             ],
             [
              0.5555555555555556,
              "#d8576b"
             ],
             [
              0.6666666666666666,
              "#ed7953"
             ],
             [
              0.7777777777777778,
              "#fb9f3a"
             ],
             [
              0.8888888888888888,
              "#fdca26"
             ],
             [
              1,
              "#f0f921"
             ]
            ],
            "type": "histogram2dcontour"
           }
          ],
          "mesh3d": [
           {
            "colorbar": {
             "outlinewidth": 0,
             "ticks": ""
            },
            "type": "mesh3d"
           }
          ],
          "parcoords": [
           {
            "line": {
             "colorbar": {
              "outlinewidth": 0,
              "ticks": ""
             }
            },
            "type": "parcoords"
           }
          ],
          "pie": [
           {
            "automargin": true,
            "type": "pie"
           }
          ],
          "scatter": [
           {
            "marker": {
             "colorbar": {
              "outlinewidth": 0,
              "ticks": ""
             }
            },
            "type": "scatter"
           }
          ],
          "scatter3d": [
           {
            "line": {
             "colorbar": {
              "outlinewidth": 0,
              "ticks": ""
             }
            },
            "marker": {
             "colorbar": {
              "outlinewidth": 0,
              "ticks": ""
             }
            },
            "type": "scatter3d"
           }
          ],
          "scattercarpet": [
           {
            "marker": {
             "colorbar": {
              "outlinewidth": 0,
              "ticks": ""
             }
            },
            "type": "scattercarpet"
           }
          ],
          "scattergeo": [
           {
            "marker": {
             "colorbar": {
              "outlinewidth": 0,
              "ticks": ""
             }
            },
            "type": "scattergeo"
           }
          ],
          "scattergl": [
           {
            "marker": {
             "colorbar": {
              "outlinewidth": 0,
              "ticks": ""
             }
            },
            "type": "scattergl"
           }
          ],
          "scattermapbox": [
           {
            "marker": {
             "colorbar": {
              "outlinewidth": 0,
              "ticks": ""
             }
            },
            "type": "scattermapbox"
           }
          ],
          "scatterpolar": [
           {
            "marker": {
             "colorbar": {
              "outlinewidth": 0,
              "ticks": ""
             }
            },
            "type": "scatterpolar"
           }
          ],
          "scatterpolargl": [
           {
            "marker": {
             "colorbar": {
              "outlinewidth": 0,
              "ticks": ""
             }
            },
            "type": "scatterpolargl"
           }
          ],
          "scatterternary": [
           {
            "marker": {
             "colorbar": {
              "outlinewidth": 0,
              "ticks": ""
             }
            },
            "type": "scatterternary"
           }
          ],
          "surface": [
           {
            "colorbar": {
             "outlinewidth": 0,
             "ticks": ""
            },
            "colorscale": [
             [
              0,
              "#0d0887"
             ],
             [
              0.1111111111111111,
              "#46039f"
             ],
             [
              0.2222222222222222,
              "#7201a8"
             ],
             [
              0.3333333333333333,
              "#9c179e"
             ],
             [
              0.4444444444444444,
              "#bd3786"
             ],
             [
              0.5555555555555556,
              "#d8576b"
             ],
             [
              0.6666666666666666,
              "#ed7953"
             ],
             [
              0.7777777777777778,
              "#fb9f3a"
             ],
             [
              0.8888888888888888,
              "#fdca26"
             ],
             [
              1,
              "#f0f921"
             ]
            ],
            "type": "surface"
           }
          ],
          "table": [
           {
            "cells": {
             "fill": {
              "color": "#EBF0F8"
             },
             "line": {
              "color": "white"
             }
            },
            "header": {
             "fill": {
              "color": "#C8D4E3"
             },
             "line": {
              "color": "white"
             }
            },
            "type": "table"
           }
          ]
         },
         "layout": {
          "annotationdefaults": {
           "arrowcolor": "#2a3f5f",
           "arrowhead": 0,
           "arrowwidth": 1
          },
          "autotypenumbers": "strict",
          "coloraxis": {
           "colorbar": {
            "outlinewidth": 0,
            "ticks": ""
           }
          },
          "colorscale": {
           "diverging": [
            [
             0,
             "#8e0152"
            ],
            [
             0.1,
             "#c51b7d"
            ],
            [
             0.2,
             "#de77ae"
            ],
            [
             0.3,
             "#f1b6da"
            ],
            [
             0.4,
             "#fde0ef"
            ],
            [
             0.5,
             "#f7f7f7"
            ],
            [
             0.6,
             "#e6f5d0"
            ],
            [
             0.7,
             "#b8e186"
            ],
            [
             0.8,
             "#7fbc41"
            ],
            [
             0.9,
             "#4d9221"
            ],
            [
             1,
             "#276419"
            ]
           ],
           "sequential": [
            [
             0,
             "#0d0887"
            ],
            [
             0.1111111111111111,
             "#46039f"
            ],
            [
             0.2222222222222222,
             "#7201a8"
            ],
            [
             0.3333333333333333,
             "#9c179e"
            ],
            [
             0.4444444444444444,
             "#bd3786"
            ],
            [
             0.5555555555555556,
             "#d8576b"
            ],
            [
             0.6666666666666666,
             "#ed7953"
            ],
            [
             0.7777777777777778,
             "#fb9f3a"
            ],
            [
             0.8888888888888888,
             "#fdca26"
            ],
            [
             1,
             "#f0f921"
            ]
           ],
           "sequentialminus": [
            [
             0,
             "#0d0887"
            ],
            [
             0.1111111111111111,
             "#46039f"
            ],
            [
             0.2222222222222222,
             "#7201a8"
            ],
            [
             0.3333333333333333,
             "#9c179e"
            ],
            [
             0.4444444444444444,
             "#bd3786"
            ],
            [
             0.5555555555555556,
             "#d8576b"
            ],
            [
             0.6666666666666666,
             "#ed7953"
            ],
            [
             0.7777777777777778,
             "#fb9f3a"
            ],
            [
             0.8888888888888888,
             "#fdca26"
            ],
            [
             1,
             "#f0f921"
            ]
           ]
          },
          "colorway": [
           "#636efa",
           "#EF553B",
           "#00cc96",
           "#ab63fa",
           "#FFA15A",
           "#19d3f3",
           "#FF6692",
           "#B6E880",
           "#FF97FF",
           "#FECB52"
          ],
          "font": {
           "color": "#2a3f5f"
          },
          "geo": {
           "bgcolor": "white",
           "lakecolor": "white",
           "landcolor": "#E5ECF6",
           "showlakes": true,
           "showland": true,
           "subunitcolor": "white"
          },
          "hoverlabel": {
           "align": "left"
          },
          "hovermode": "closest",
          "mapbox": {
           "style": "light"
          },
          "paper_bgcolor": "white",
          "plot_bgcolor": "#E5ECF6",
          "polar": {
           "angularaxis": {
            "gridcolor": "white",
            "linecolor": "white",
            "ticks": ""
           },
           "bgcolor": "#E5ECF6",
           "radialaxis": {
            "gridcolor": "white",
            "linecolor": "white",
            "ticks": ""
           }
          },
          "scene": {
           "xaxis": {
            "backgroundcolor": "#E5ECF6",
            "gridcolor": "white",
            "gridwidth": 2,
            "linecolor": "white",
            "showbackground": true,
            "ticks": "",
            "zerolinecolor": "white"
           },
           "yaxis": {
            "backgroundcolor": "#E5ECF6",
            "gridcolor": "white",
            "gridwidth": 2,
            "linecolor": "white",
            "showbackground": true,
            "ticks": "",
            "zerolinecolor": "white"
           },
           "zaxis": {
            "backgroundcolor": "#E5ECF6",
            "gridcolor": "white",
            "gridwidth": 2,
            "linecolor": "white",
            "showbackground": true,
            "ticks": "",
            "zerolinecolor": "white"
           }
          },
          "shapedefaults": {
           "line": {
            "color": "#2a3f5f"
           }
          },
          "ternary": {
           "aaxis": {
            "gridcolor": "white",
            "linecolor": "white",
            "ticks": ""
           },
           "baxis": {
            "gridcolor": "white",
            "linecolor": "white",
            "ticks": ""
           },
           "bgcolor": "#E5ECF6",
           "caxis": {
            "gridcolor": "white",
            "linecolor": "white",
            "ticks": ""
           }
          },
          "title": {
           "x": 0.05
          },
          "xaxis": {
           "automargin": true,
           "gridcolor": "white",
           "linecolor": "white",
           "ticks": "",
           "title": {
            "standoff": 15
           },
           "zerolinecolor": "white",
           "zerolinewidth": 2
          },
          "yaxis": {
           "automargin": true,
           "gridcolor": "white",
           "linecolor": "white",
           "ticks": "",
           "title": {
            "standoff": 15
           },
           "zerolinecolor": "white",
           "zerolinewidth": 2
          }
         }
        }
       }
      },
      "image/png": "[encoded data removed]",
      "text/html": [
       "<div>                            <div id=\"62c1a212-2885-4491-967d-d0a8fdb3c9df\" class=\"plotly-graph-div\" style=\"height:525px; width:100%;\"></div>            <script type=\"text/javascript\">                require([\"plotly\"], function(Plotly) {                    window.PLOTLYENV=window.PLOTLYENV || {};                                    if (document.getElementById(\"62c1a212-2885-4491-967d-d0a8fdb3c9df\")) {                    Plotly.newPlot(                        \"62c1a212-2885-4491-967d-d0a8fdb3c9df\",                        [{\"branchvalues\": \"total\", \"customdata\": [[1239.0], [1530.0], [2324.0], [2971.0], [3528.0], [3739.0], [4390.0], [1239.0], [2324.0], [2971.0000000000005], [3528.0], [3739.0], [4390.0], [1239.0], [1530.0], [2324.0], [2971.0], [3528.0], [3739.0], [1530.0], [2324.0], [2971.0], [3528.0], [3739.0], [4390.0], [1239.0], [1530.0], [2324.0], [2971.0], [3739.0], [4390.0], [1239.0], [1530.0], [2324.0], [2971.0], [3528.0], [3739.0], [4390.0], [1239.0], [1530.0], [2324.0], [2971.0], [3528.0], [3738.9999999999995], [4390.0], [1530.0], [2971.0], [1239.0], [1530.0], [2324.0], [3528.0], [3739.0], [1239.0], [1529.9999999999998], [2324.0], [2971.0], [3527.9999999999995], [3739.0000000000005], [4390.0], [1239.0], [1530.0], [2324.0], [2971.0], [3739.0], [4390.0], [1239.0], [1530.0], [2324.0], [2971.0], [1239.0], [1530.0], [2324.0], [2971.0000000000005], [3528.0000000000005], [3739.0], [4390.0], [1530.0], [2324.0], [3528.0000000000005], [3739.0000000000005], [1239.0], [1530.0000000000002], [2324.0], [2971.0], [3527.9999999999995], [3739.0], [4390.0], [1239.0], [2324.0], [2971.0], [3528.0000000000005], [3739.0], [4390.0], [1239.0], [1530.0], [2324.0], [2971.0], [3527.9999999999995], [3739.0], [null], [1239.0], [1530.0], [2324.0], [3527.9999999999995], [3739.0], [1239.0], [2324.0], [1239.0], [1530.0], [2971.0], [3528.0], [3739.0], [4390.0], [1239.0], [1529.9999999999998], [2971.0], [3528.0], [3739.0], [1239.0], [1530.0], [2324.0], [2971.0], [3528.0], [3738.9999999999995], [4390.0], [1239.0], [1530.0], [2324.0], [2971.0], [3528.0], [3739.0], [4390.0], [1239.0], [null], [1239.0], [1529.9999999999998], [3528.0], [3738.9999999999995], [1530.0], [4390.0], [1239.0], [1530.0], [2324.0], [2971.0], [3528.0], [3739.0], [4390.0], [1239.0], [3528.0000000000005], [3739.0000000000005], [4390.0], [1239.0], [1530.0], [2324.0], [2971.0], [3528.0], [3739.0], [4390.0], [1239.0], [1530.0], [2324.0], [2971.0], [3528.0], [3739.0000000000005], [4390.0], [1239.0], [1530.0], [2324.0], [2971.0], [3528.0], [3739.0], [4390.0], [1239.0], [1530.0], [2324.0], [2971.0], [3528.0], [3739.0], [1239.0], [1530.0], [2324.0], [2971.0], [3528.0], [3739.0], [1239.0], [1530.0], [2324.0], [2971.0], [3528.0], [3739.0], [4390.0], [1239.0], [1530.0], [2324.0], [2971.0], [3528.0000000000005], [3739.0], [4390.0], [2324.0], [3528.0], [4390.0], [2324.0], [2971.0], [1239.0], [1530.0], [2324.0], [3528.0], [1239.0], [1530.0], [2324.0], [null], [3528.0000000000005], [4390.0], [1239.0], [1530.0], [2324.0], [2971.0], [3528.0], [3739.0000000000005], [1239.0], [2971.0], [3528.0], [3739.0], [4390.0], [1239.0], [1530.0], [2324.0], [2971.0], [3528.0], [3739.0], [4390.0], [1239.0], [1530.0], [2324.0], [2971.0], [3527.9999999999995], [3739.0], [4390.0], [1530.0], [2324.0], [2971.0], [3739.0], [4390.0], [1529.9999999999998], [2324.0], [2971.0], [3528.0], [3739.0], [1239.0], [2324.0], [3739.0], [1530.0], [2324.0], [3739.0], [4390.0], [1239.0], [1530.0], [2324.0], [2971.0], [3528.0000000000005], [3739.0], [4390.0], [1239.0], [1530.0], [2324.0], [2971.0], [3528.0], [3739.0], [4390.0], [1239.0], [1530.0], [2324.0], [2971.0], [3528.0], [3739.0], [4390.0], [1239.0], [1530.0], [2324.0], [2971.0], [3528.0], [3739.0], [4390.0], [1239.0], [1530.0], [2324.0], [2971.0], [3528.0], [3739.0], [4390.0], [1239.0], [1529.9999999999998], [2324.0], [2971.0], [3528.0], [null], [1239.0], [1530.0], [2324.0], [2971.0], [3528.0], [3739.0], [4390.0], [1239.0], [1530.0], [2324.0], [2971.0], [3528.0], [1239.0], [1530.0], [2324.0], [2971.0], [3528.0], [3739.0], [4390.0], [1239.0], [1530.0], [2324.0], [2971.0], [3528.0], [null], [4390.0], [1239.0], [1529.9999999999998], [2324.0], [2971.0], [3528.0], [3738.9999999999995], [4390.0], [3528.0], [1239.0], [1530.0], [3528.0], [1239.0], [1530.0], [2324.0], [2971.0], [3528.0], [3739.0], [4390.0], [1239.0], [1530.0000000000002], [2971.0], [3528.0], [3739.0], [4390.0], [1239.0], [1530.0], [2324.0000000000005], [2971.0], [3527.9999999999995], [3739.0], [4390.0], [1239.0], [1530.0], [2324.0], [2971.0], [3528.0], [3739.0], [4390.0], [1239.0], [1530.0], [2324.0], [2971.0], [3528.0], [3739.0000000000005], [1239.0], [1530.0], [2324.0], [2971.0], [3528.0], [3739.0], [4390.0], [2971.0], [3528.0], [3739.0000000000005], [4390.0], [1239.0], [2324.0], [2971.0], [3528.0], [1239.0], [1530.0], [2324.0], [2971.0], [3528.0], [3739.0], [1530.0], [2971.0000000000005], [3527.9999999999995], [4390.0], [1239.0], [1530.0], [2324.0], [2971.0000000000005], [3528.0], [3739.0], [1239.0000000000002], [1529.9999999999998], [2324.0], [null], [3527.999999999999], [null], [null]], \"domain\": {\"x\": [0.0, 1.0], \"y\": [0.0, 1.0]}, \"hovertemplate\": \"labels=%{label}<br>sale_price_sqr_foot=%{value}<br>parent=%{parent}<br>id=%{id}<br>gross_rent=%{color}<extra></extra>\", \"ids\": [\"2010/Alamo Square\", \"2011/Alamo Square\", \"2012/Alamo Square\", \"2013/Alamo Square\", \"2014/Alamo Square\", \"2015/Alamo Square\", \"2016/Alamo Square\", \"2010/Anza Vista\", \"2012/Anza Vista\", \"2013/Anza Vista\", \"2014/Anza Vista\", \"2015/Anza Vista\", \"2016/Anza Vista\", \"2010/Bayview\", \"2011/Bayview\", \"2012/Bayview\", \"2013/Bayview\", \"2014/Bayview\", \"2015/Bayview Heights\", \"2011/Bernal Heights \", \"2012/Bernal Heights \", \"2013/Bernal Heights \", \"2014/Bernal Heights \", \"2015/Bernal Heights \", \"2016/Bernal Heights \", \"2010/Buena Vista Park\", \"2011/Buena Vista Park\", \"2012/Buena Vista Park\", \"2013/Buena Vista Park\", \"2015/Buena Vista Park\", \"2016/Buena Vista Park\", \"2010/Central Richmond\", \"2011/Central Richmond\", \"2012/Central Richmond\", \"2013/Central Richmond\", \"2014/Central Richmond\", \"2015/Central Richmond\", \"2016/Central Richmond\", \"2010/Central Sunset\", \"2011/Central Sunset\", \"2012/Central Sunset\", \"2013/Central Sunset\", \"2014/Central Sunset\", \"2015/Central Sunset\", \"2016/Central Sunset\", \"2011/Clarendon Heights\", \"2013/Clarendon Heights\", \"2010/Corona Heights\", \"2011/Corona Heights\", \"2012/Corona Heights\", \"2014/Corona Heights\", \"2015/Corona Heights\", \"2010/Cow Hollow\", \"2011/Cow Hollow\", \"2012/Cow Hollow\", \"2013/Cow Hollow\", \"2014/Cow Hollow\", \"2015/Cow Hollow\", \"2016/Cow Hollow\", \"2010/Croker Amazon\", \"2011/Croker Amazon\", \"2012/Croker Amazon\", \"2013/Croker Amazon\", \"2015/Croker Amazon\", \"2016/Croker Amazon\", \"2010/Diamond Heights\", \"2011/Diamond Heights\", \"2012/Diamond Heights\", \"2013/Diamond Heights\", \"2010/Downtown \", \"2011/Downtown \", \"2012/Downtown \", \"2013/Downtown \", \"2014/Downtown \", \"2015/Downtown \", \"2016/Downtown \", \"2011/Duboce Triangle\", \"2012/Duboce Triangle\", \"2014/Duboce Triangle\", \"2015/Duboce Triangle\", \"2010/Eureka Valley/Dolores Heights\", \"2011/Eureka Valley/Dolores Heights\", \"2012/Eureka Valley/Dolores Heights\", \"2013/Eureka Valley/Dolores Heights\", \"2014/Eureka Valley/Dolores Heights\", \"2015/Eureka Valley/Dolores Heights\", \"2016/Eureka Valley/Dolores Heights\", \"2010/Excelsior\", \"2012/Excelsior\", \"2013/Excelsior\", \"2014/Excelsior\", \"2015/Excelsior\", \"2016/Excelsior\", \"2010/Financial District North\", \"2011/Financial District North\", \"2012/Financial District North\", \"2013/Financial District North\", \"2014/Financial District North\", \"2015/Financial District North\", \"2016/Financial District North\", \"2010/Financial District South\", \"2011/Financial District South\", \"2012/Financial District South\", \"2014/Financial District South\", \"2015/Financial District South\", \"2010/Forest Knolls\", \"2012/Forest Knolls\", \"2010/Glen Park\", \"2011/Glen Park\", \"2013/Glen Park\", \"2014/Glen Park\", \"2015/Glen Park\", \"2016/Glen Park\", \"2010/Golden Gate Heights\", \"2011/Golden Gate Heights\", \"2013/Golden Gate Heights\", \"2014/Golden Gate Heights\", \"2015/Golden Gate Heights\", \"2010/Haight Ashbury\", \"2011/Haight Ashbury\", \"2012/Haight Ashbury\", \"2013/Haight Ashbury\", \"2014/Haight Ashbury\", \"2015/Haight Ashbury\", \"2016/Haight Ashbury\", \"2010/Hayes Valley\", \"2011/Hayes Valley\", \"2012/Hayes Valley\", \"2013/Hayes Valley\", \"2014/Hayes Valley\", \"2015/Hayes Valley\", \"2016/Hayes Valley\", \"2010/Hunters Point\", \"2015/Hunters Point\", \"2010/Ingleside \", \"2011/Ingleside \", \"2014/Ingleside \", \"2015/Ingleside \", \"2011/Ingleside Heights\", \"2016/Ingleside Heights\", \"2010/Inner Mission\", \"2011/Inner Mission\", \"2012/Inner Mission\", \"2013/Inner Mission\", \"2014/Inner Mission\", \"2015/Inner Mission\", \"2016/Inner Mission\", \"2010/Inner Parkside\", \"2014/Inner Parkside\", \"2015/Inner Parkside\", \"2016/Inner Parkside\", \"2010/Inner Richmond\", \"2011/Inner Richmond\", \"2012/Inner Richmond\", \"2013/Inner Richmond\", \"2014/Inner Richmond\", \"2015/Inner Richmond\", \"2016/Inner Richmond\", \"2010/Inner Sunset\", \"2011/Inner Sunset\", \"2012/Inner Sunset\", \"2013/Inner Sunset\", \"2014/Inner Sunset\", \"2015/Inner Sunset\", \"2016/Inner Sunset\", \"2010/Jordan Park/Laurel Heights\", \"2011/Jordan Park/Laurel Heights\", \"2012/Jordan Park/Laurel Heights\", \"2013/Jordan Park/Laurel Heights\", \"2014/Jordan Park/Laurel Heights\", \"2015/Jordan Park/Laurel Heights\", \"2016/Jordan Park/Laurel Heights\", \"2010/Lake --The Presidio\", \"2011/Lake --The Presidio\", \"2012/Lake --The Presidio\", \"2013/Lake --The Presidio\", \"2014/Lake --The Presidio\", \"2015/Lake --The Presidio\", \"2010/Lone Mountain\", \"2011/Lone Mountain\", \"2012/Lone Mountain\", \"2013/Lone Mountain\", \"2014/Lone Mountain\", \"2015/Lone Mountain\", \"2010/Lower Pacific Heights\", \"2011/Lower Pacific Heights\", \"2012/Lower Pacific Heights\", \"2013/Lower Pacific Heights\", \"2014/Lower Pacific Heights\", \"2015/Lower Pacific Heights\", \"2016/Lower Pacific Heights\", \"2010/Marina\", \"2011/Marina\", \"2012/Marina\", \"2013/Marina\", \"2014/Marina\", \"2015/Marina\", \"2016/Marina\", \"2012/Merced Heights\", \"2014/Merced Heights\", \"2016/Merced Heights\", \"2012/Midtown Terrace\", \"2013/Midtown Terrace\", \"2010/Miraloma Park\", \"2011/Miraloma Park\", \"2012/Miraloma Park\", \"2014/Miraloma Park\", \"2010/Mission Bay\", \"2011/Mission Bay\", \"2012/Mission Bay\", \"2013/Mission Bay\", \"2014/Mission Bay\", \"2016/Mission Bay\", \"2010/Mission Dolores\", \"2011/Mission Dolores\", \"2012/Mission Dolores\", \"2013/Mission Dolores\", \"2014/Mission Dolores\", \"2015/Mission Dolores\", \"2010/Mission Terrace\", \"2013/Mission Terrace\", \"2014/Mission Terrace\", \"2015/Mission Terrace\", \"2016/Mission Terrace\", \"2010/Nob Hill\", \"2011/Nob Hill\", \"2012/Nob Hill\", \"2013/Nob Hill\", \"2014/Nob Hill\", \"2015/Nob Hill\", \"2016/Nob Hill\", \"2010/Noe Valley\", \"2011/Noe Valley\", \"2012/Noe Valley\", \"2013/Noe Valley\", \"2014/Noe Valley\", \"2015/Noe Valley\", \"2016/Noe Valley\", \"2011/North Beach\", \"2012/North Beach\", \"2013/North Beach\", \"2015/North Beach\", \"2016/North Beach\", \"2011/North Waterfront\", \"2012/North Waterfront\", \"2013/North Waterfront\", \"2014/North Waterfront\", \"2015/North Waterfront\", \"2010/Oceanview\", \"2012/Oceanview\", \"2015/Oceanview\", \"2011/Outer Mission\", \"2012/Outer Mission\", \"2015/Outer Mission\", \"2016/Outer Mission\", \"2010/Outer Parkside\", \"2011/Outer Parkside\", \"2012/Outer Parkside\", \"2013/Outer Parkside\", \"2014/Outer Parkside\", \"2015/Outer Parkside\", \"2016/Outer Parkside\", \"2010/Outer Richmond \", \"2011/Outer Richmond \", \"2012/Outer Richmond \", \"2013/Outer Richmond \", \"2014/Outer Richmond \", \"2015/Outer Richmond \", \"2016/Outer Richmond \", \"2010/Outer Sunset\", \"2011/Outer Sunset\", \"2012/Outer Sunset\", \"2013/Outer Sunset\", \"2014/Outer Sunset\", \"2015/Outer Sunset\", \"2016/Outer Sunset\", \"2010/Pacific Heights\", \"2011/Pacific Heights\", \"2012/Pacific Heights\", \"2013/Pacific Heights\", \"2014/Pacific Heights\", \"2015/Pacific Heights\", \"2016/Pacific Heights\", \"2010/Park North\", \"2011/Park North\", \"2012/Park North\", \"2013/Park North\", \"2014/Park North\", \"2015/Park North\", \"2016/Park North\", \"2010/Parkside\", \"2011/Parkside\", \"2012/Parkside\", \"2013/Parkside\", \"2014/Parkside\", \"2015/Parkside\", \"2010/Parnassus/Ashbury Heights\", \"2011/Parnassus/Ashbury Heights\", \"2012/Parnassus/Ashbury Heights\", \"2013/Parnassus/Ashbury Heights\", \"2014/Parnassus/Ashbury Heights\", \"2015/Parnassus/Ashbury Heights\", \"2016/Parnassus/Ashbury Heights\", \"2010/Portola\", \"2011/Portola\", \"2012/Portola\", \"2013/Portola\", \"2014/Portola\", \"2010/Potrero Hill\", \"2011/Potrero Hill\", \"2012/Potrero Hill\", \"2013/Potrero Hill\", \"2014/Potrero Hill\", \"2015/Potrero Hill\", \"2016/Potrero Hill\", \"2010/Presidio Heights\", \"2011/Presidio Heights\", \"2012/Presidio Heights\", \"2013/Presidio Heights\", \"2014/Presidio Heights\", \"2015/Presidio Heights\", \"2016/Presidio Heights\", \"2010/Russian Hill\", \"2011/Russian Hill\", \"2012/Russian Hill\", \"2013/Russian Hill\", \"2014/Russian Hill\", \"2015/Russian Hill\", \"2016/Russian Hill\", \"2014/Silver Terrace\", \"2010/South Beach\", \"2011/South Beach\", \"2014/South Beach\", \"2010/South of Market\", \"2011/South of Market\", \"2012/South of Market\", \"2013/South of Market\", \"2014/South of Market\", \"2015/South of Market\", \"2016/South of Market\", \"2010/Sunnyside\", \"2011/Sunnyside\", \"2013/Sunnyside\", \"2014/Sunnyside\", \"2015/Sunnyside\", \"2016/Sunnyside\", \"2010/Telegraph Hill\", \"2011/Telegraph Hill\", \"2012/Telegraph Hill\", \"2013/Telegraph Hill\", \"2014/Telegraph Hill\", \"2015/Telegraph Hill\", \"2016/Telegraph Hill\", \"2010/Twin Peaks\", \"2011/Twin Peaks\", \"2012/Twin Peaks\", \"2013/Twin Peaks\", \"2014/Twin Peaks\", \"2015/Twin Peaks\", \"2016/Twin Peaks\", \"2010/Union Square District\", \"2011/Union Square District\", \"2012/Union Square District\", \"2013/Union Square District\", \"2014/Union Square District\", \"2015/Union Square District\", \"2010/Van Ness/ Civic Center\", \"2011/Van Ness/ Civic Center\", \"2012/Van Ness/ Civic Center\", \"2013/Van Ness/ Civic Center\", \"2014/Van Ness/ Civic Center\", \"2015/Van Ness/ Civic Center\", \"2016/Van Ness/ Civic Center\", \"2013/Visitacion Valley\", \"2014/Visitacion Valley\", \"2015/Visitacion Valley\", \"2016/Visitacion Valley\", \"2010/West Portal\", \"2012/West Portal\", \"2013/West Portal\", \"2014/West Portal\", \"2010/Western Addition\", \"2011/Western Addition\", \"2012/Western Addition\", \"2013/Western Addition\", \"2014/Western Addition\", \"2015/Western Addition\", \"2011/Westwood Highlands\", \"2013/Westwood Highlands\", \"2014/Westwood Park\", \"2016/Westwood Park\", \"2010/Yerba Buena\", \"2011/Yerba Buena\", \"2012/Yerba Buena\", \"2013/Yerba Buena\", \"2014/Yerba Buena\", \"2015/Yerba Buena\", \"2010\", \"2011\", \"2012\", \"2013\", \"2014\", \"2015\", \"2016\"], \"labels\": [\"Alamo Square\", \"Alamo Square\", \"Alamo Square\", \"Alamo Square\", \"Alamo Square\", \"Alamo Square\", \"Alamo Square\", \"Anza Vista\", \"Anza Vista\", \"Anza Vista\", \"Anza Vista\", \"Anza Vista\", \"Anza Vista\", \"Bayview\", \"Bayview\", \"Bayview\", \"Bayview\", \"Bayview\", \"Bayview Heights\", \"Bernal Heights \", \"Bernal Heights \", \"Bernal Heights \", \"Bernal Heights \", \"Bernal Heights \", \"Bernal Heights \", \"Buena Vista Park\", \"Buena Vista Park\", \"Buena Vista Park\", \"Buena Vista Park\", \"Buena Vista Park\", \"Buena Vista Park\", \"Central Richmond\", \"Central Richmond\", \"Central Richmond\", \"Central Richmond\", \"Central Richmond\", \"Central Richmond\", \"Central Richmond\", \"Central Sunset\", \"Central Sunset\", \"Central Sunset\", \"Central Sunset\", \"Central Sunset\", \"Central Sunset\", \"Central Sunset\", \"Clarendon Heights\", \"Clarendon Heights\", \"Corona Heights\", \"Corona Heights\", \"Corona Heights\", \"Corona Heights\", \"Corona Heights\", \"Cow Hollow\", \"Cow Hollow\", \"Cow Hollow\", \"Cow Hollow\", \"Cow Hollow\", \"Cow Hollow\", \"Cow Hollow\", \"Croker Amazon\", \"Croker Amazon\", \"Croker Amazon\", \"Croker Amazon\", \"Croker Amazon\", \"Croker Amazon\", \"Diamond Heights\", \"Diamond Heights\", \"Diamond Heights\", \"Diamond Heights\", \"Downtown \", \"Downtown \", \"Downtown \", \"Downtown \", \"Downtown \", \"Downtown \", \"Downtown \", \"Duboce Triangle\", \"Duboce Triangle\", \"Duboce Triangle\", \"Duboce Triangle\", \"Eureka Valley/Dolores Heights\", \"Eureka Valley/Dolores Heights\", \"Eureka Valley/Dolores Heights\", \"Eureka Valley/Dolores Heights\", \"Eureka Valley/Dolores Heights\", \"Eureka Valley/Dolores Heights\", \"Eureka Valley/Dolores Heights\", \"Excelsior\", \"Excelsior\", \"Excelsior\", \"Excelsior\", \"Excelsior\", \"Excelsior\", \"Financial District North\", \"Financial District North\", \"Financial District North\", \"Financial District North\", \"Financial District North\", \"Financial District North\", \"Financial District North\", \"Financial District South\", \"Financial District South\", \"Financial District South\", \"Financial District South\", \"Financial District South\", \"Forest Knolls\", \"Forest Knolls\", \"Glen Park\", \"Glen Park\", \"Glen Park\", \"Glen Park\", \"Glen Park\", \"Glen Park\", \"Golden Gate Heights\", \"Golden Gate Heights\", \"Golden Gate Heights\", \"Golden Gate Heights\", \"Golden Gate Heights\", \"Haight Ashbury\", \"Haight Ashbury\", \"Haight Ashbury\", \"Haight Ashbury\", \"Haight Ashbury\", \"Haight Ashbury\", \"Haight Ashbury\", \"Hayes Valley\", \"Hayes Valley\", \"Hayes Valley\", \"Hayes Valley\", \"Hayes Valley\", \"Hayes Valley\", \"Hayes Valley\", \"Hunters Point\", \"Hunters Point\", \"Ingleside \", \"Ingleside \", \"Ingleside \", \"Ingleside \", \"Ingleside Heights\", \"Ingleside Heights\", \"Inner Mission\", \"Inner Mission\", \"Inner Mission\", \"Inner Mission\", \"Inner Mission\", \"Inner Mission\", \"Inner Mission\", \"Inner Parkside\", \"Inner Parkside\", \"Inner Parkside\", \"Inner Parkside\", \"Inner Richmond\", \"Inner Richmond\", \"Inner Richmond\", \"Inner Richmond\", \"Inner Richmond\", \"Inner Richmond\", \"Inner Richmond\", \"Inner Sunset\", \"Inner Sunset\", \"Inner Sunset\", \"Inner Sunset\", \"Inner Sunset\", \"Inner Sunset\", \"Inner Sunset\", \"Jordan Park/Laurel Heights\", \"Jordan Park/Laurel Heights\", \"Jordan Park/Laurel Heights\", \"Jordan Park/Laurel Heights\", \"Jordan Park/Laurel Heights\", \"Jordan Park/Laurel Heights\", \"Jordan Park/Laurel Heights\", \"Lake --The Presidio\", \"Lake --The Presidio\", \"Lake --The Presidio\", \"Lake --The Presidio\", \"Lake --The Presidio\", \"Lake --The Presidio\", \"Lone Mountain\", \"Lone Mountain\", \"Lone Mountain\", \"Lone Mountain\", \"Lone Mountain\", \"Lone Mountain\", \"Lower Pacific Heights\", \"Lower Pacific Heights\", \"Lower Pacific Heights\", \"Lower Pacific Heights\", \"Lower Pacific Heights\", \"Lower Pacific Heights\", \"Lower Pacific Heights\", \"Marina\", \"Marina\", \"Marina\", \"Marina\", \"Marina\", \"Marina\", \"Marina\", \"Merced Heights\", \"Merced Heights\", \"Merced Heights\", \"Midtown Terrace\", \"Midtown Terrace\", \"Miraloma Park\", \"Miraloma Park\", \"Miraloma Park\", \"Miraloma Park\", \"Mission Bay\", \"Mission Bay\", \"Mission Bay\", \"Mission Bay\", \"Mission Bay\", \"Mission Bay\", \"Mission Dolores\", \"Mission Dolores\", \"Mission Dolores\", \"Mission Dolores\", \"Mission Dolores\", \"Mission Dolores\", \"Mission Terrace\", \"Mission Terrace\", \"Mission Terrace\", \"Mission Terrace\", \"Mission Terrace\", \"Nob Hill\", \"Nob Hill\", \"Nob Hill\", \"Nob Hill\", \"Nob Hill\", \"Nob Hill\", \"Nob Hill\", \"Noe Valley\", \"Noe Valley\", \"Noe Valley\", \"Noe Valley\", \"Noe Valley\", \"Noe Valley\", \"Noe Valley\", \"North Beach\", \"North Beach\", \"North Beach\", \"North Beach\", \"North Beach\", \"North Waterfront\", \"North Waterfront\", \"North Waterfront\", \"North Waterfront\", \"North Waterfront\", \"Oceanview\", \"Oceanview\", \"Oceanview\", \"Outer Mission\", \"Outer Mission\", \"Outer Mission\", \"Outer Mission\", \"Outer Parkside\", \"Outer Parkside\", \"Outer Parkside\", \"Outer Parkside\", \"Outer Parkside\", \"Outer Parkside\", \"Outer Parkside\", \"Outer Richmond \", \"Outer Richmond \", \"Outer Richmond \", \"Outer Richmond \", \"Outer Richmond \", \"Outer Richmond \", \"Outer Richmond \", \"Outer Sunset\", \"Outer Sunset\", \"Outer Sunset\", \"Outer Sunset\", \"Outer Sunset\", \"Outer Sunset\", \"Outer Sunset\", \"Pacific Heights\", \"Pacific Heights\", \"Pacific Heights\", \"Pacific Heights\", \"Pacific Heights\", \"Pacific Heights\", \"Pacific Heights\", \"Park North\", \"Park North\", \"Park North\", \"Park North\", \"Park North\", \"Park North\", \"Park North\", \"Parkside\", \"Parkside\", \"Parkside\", \"Parkside\", \"Parkside\", \"Parkside\", \"Parnassus/Ashbury Heights\", \"Parnassus/Ashbury Heights\", \"Parnassus/Ashbury Heights\", \"Parnassus/Ashbury Heights\", \"Parnassus/Ashbury Heights\", \"Parnassus/Ashbury Heights\", \"Parnassus/Ashbury Heights\", \"Portola\", \"Portola\", \"Portola\", \"Portola\", \"Portola\", \"Potrero Hill\", \"Potrero Hill\", \"Potrero Hill\", \"Potrero Hill\", \"Potrero Hill\", \"Potrero Hill\", \"Potrero Hill\", \"Presidio Heights\", \"Presidio Heights\", \"Presidio Heights\", \"Presidio Heights\", \"Presidio Heights\", \"Presidio Heights\", \"Presidio Heights\", \"Russian Hill\", \"Russian Hill\", \"Russian Hill\", \"Russian Hill\", \"Russian Hill\", \"Russian Hill\", \"Russian Hill\", \"Silver Terrace\", \"South Beach\", \"South Beach\", \"South Beach\", \"South of Market\", \"South of Market\", \"South of Market\", \"South of Market\", \"South of Market\", \"South of Market\", \"South of Market\", \"Sunnyside\", \"Sunnyside\", \"Sunnyside\", \"Sunnyside\", \"Sunnyside\", \"Sunnyside\", \"Telegraph Hill\", \"Telegraph Hill\", \"Telegraph Hill\", \"Telegraph Hill\", \"Telegraph Hill\", \"Telegraph Hill\", \"Telegraph Hill\", \"Twin Peaks\", \"Twin Peaks\", \"Twin Peaks\", \"Twin Peaks\", \"Twin Peaks\", \"Twin Peaks\", \"Twin Peaks\", \"Union Square District\", \"Union Square District\", \"Union Square District\", \"Union Square District\", \"Union Square District\", \"Union Square District\", \"Van Ness/ Civic Center\", \"Van Ness/ Civic Center\", \"Van Ness/ Civic Center\", \"Van Ness/ Civic Center\", \"Van Ness/ Civic Center\", \"Van Ness/ Civic Center\", \"Van Ness/ Civic Center\", \"Visitacion Valley\", \"Visitacion Valley\", \"Visitacion Valley\", \"Visitacion Valley\", \"West Portal\", \"West Portal\", \"West Portal\", \"West Portal\", \"Western Addition\", \"Western Addition\", \"Western Addition\", \"Western Addition\", \"Western Addition\", \"Western Addition\", \"Westwood Highlands\", \"Westwood Highlands\", \"Westwood Park\", \"Westwood Park\", \"Yerba Buena\", \"Yerba Buena\", \"Yerba Buena\", \"Yerba Buena\", \"Yerba Buena\", \"Yerba Buena\", \"2010\", \"2011\", \"2012\", \"2013\", \"2014\", \"2015\", \"2016\"], \"marker\": {\"coloraxis\": \"coloraxis\", \"colors\": [1239.0, 1530.0, 2324.0, 2971.0, 3528.0, 3739.0, 4390.0, 1239.0, 2324.0, 2971.0000000000005, 3528.0, 3739.0, 4390.0, 1239.0, 1530.0, 2324.0, 2971.0, 3528.0, 3739.0, 1530.0, 2324.0, 2971.0, 3528.0, 3739.0, 4390.0, 1239.0, 1530.0, 2324.0, 2971.0, 3739.0, 4390.0, 1239.0, 1530.0, 2324.0, 2971.0, 3528.0, 3739.0, 4390.0, 1239.0, 1530.0, 2324.0, 2971.0, 3528.0, 3738.9999999999995, 4390.0, 1530.0, 2971.0, 1239.0, 1530.0, 2324.0, 3528.0, 3739.0, 1239.0, 1529.9999999999998, 2324.0, 2971.0, 3527.9999999999995, 3739.0000000000005, 4390.0, 1239.0, 1530.0, 2324.0, 2971.0, 3739.0, 4390.0, 1239.0, 1530.0, 2324.0, 2971.0, 1239.0, 1530.0, 2324.0, 2971.0000000000005, 3528.0000000000005, 3739.0, 4390.0, 1530.0, 2324.0, 3528.0000000000005, 3739.0000000000005, 1239.0, 1530.0000000000002, 2324.0, 2971.0, 3527.9999999999995, 3739.0, 4390.0, 1239.0, 2324.0, 2971.0, 3528.0000000000005, 3739.0, 4390.0, 1239.0, 1530.0, 2324.0, 2971.0, 3527.9999999999995, 3739.0, null, 1239.0, 1530.0, 2324.0, 3527.9999999999995, 3739.0, 1239.0, 2324.0, 1239.0, 1530.0, 2971.0, 3528.0, 3739.0, 4390.0, 1239.0, 1529.9999999999998, 2971.0, 3528.0, 3739.0, 1239.0, 1530.0, 2324.0, 2971.0, 3528.0, 3738.9999999999995, 4390.0, 1239.0, 1530.0, 2324.0, 2971.0, 3528.0, 3739.0, 4390.0, 1239.0, null, 1239.0, 1529.9999999999998, 3528.0, 3738.9999999999995, 1530.0, 4390.0, 1239.0, 1530.0, 2324.0, 2971.0, 3528.0, 3739.0, 4390.0, 1239.0, 3528.0000000000005, 3739.0000000000005, 4390.0, 1239.0, 1530.0, 2324.0, 2971.0, 3528.0, 3739.0, 4390.0, 1239.0, 1530.0, 2324.0, 2971.0, 3528.0, 3739.0000000000005, 4390.0, 1239.0, 1530.0, 2324.0, 2971.0, 3528.0, 3739.0, 4390.0, 1239.0, 1530.0, 2324.0, 2971.0, 3528.0, 3739.0, 1239.0, 1530.0, 2324.0, 2971.0, 3528.0, 3739.0, 1239.0, 1530.0, 2324.0, 2971.0, 3528.0, 3739.0, 4390.0, 1239.0, 1530.0, 2324.0, 2971.0, 3528.0000000000005, 3739.0, 4390.0, 2324.0, 3528.0, 4390.0, 2324.0, 2971.0, 1239.0, 1530.0, 2324.0, 3528.0, 1239.0, 1530.0, 2324.0, null, 3528.0000000000005, 4390.0, 1239.0, 1530.0, 2324.0, 2971.0, 3528.0, 3739.0000000000005, 1239.0, 2971.0, 3528.0, 3739.0, 4390.0, 1239.0, 1530.0, 2324.0, 2971.0, 3528.0, 3739.0, 4390.0, 1239.0, 1530.0, 2324.0, 2971.0, 3527.9999999999995, 3739.0, 4390.0, 1530.0, 2324.0, 2971.0, 3739.0, 4390.0, 1529.9999999999998, 2324.0, 2971.0, 3528.0, 3739.0, 1239.0, 2324.0, 3739.0, 1530.0, 2324.0, 3739.0, 4390.0, 1239.0, 1530.0, 2324.0, 2971.0, 3528.0000000000005, 3739.0, 4390.0, 1239.0, 1530.0, 2324.0, 2971.0, 3528.0, 3739.0, 4390.0, 1239.0, 1530.0, 2324.0, 2971.0, 3528.0, 3739.0, 4390.0, 1239.0, 1530.0, 2324.0, 2971.0, 3528.0, 3739.0, 4390.0, 1239.0, 1530.0, 2324.0, 2971.0, 3528.0, 3739.0, 4390.0, 1239.0, 1529.9999999999998, 2324.0, 2971.0, 3528.0, null, 1239.0, 1530.0, 2324.0, 2971.0, 3528.0, 3739.0, 4390.0, 1239.0, 1530.0, 2324.0, 2971.0, 3528.0, 1239.0, 1530.0, 2324.0, 2971.0, 3528.0, 3739.0, 4390.0, 1239.0, 1530.0, 2324.0, 2971.0, 3528.0, null, 4390.0, 1239.0, 1529.9999999999998, 2324.0, 2971.0, 3528.0, 3738.9999999999995, 4390.0, 3528.0, 1239.0, 1530.0, 3528.0, 1239.0, 1530.0, 2324.0, 2971.0, 3528.0, 3739.0, 4390.0, 1239.0, 1530.0000000000002, 2971.0, 3528.0, 3739.0, 4390.0, 1239.0, 1530.0, 2324.0000000000005, 2971.0, 3527.9999999999995, 3739.0, 4390.0, 1239.0, 1530.0, 2324.0, 2971.0, 3528.0, 3739.0, 4390.0, 1239.0, 1530.0, 2324.0, 2971.0, 3528.0, 3739.0000000000005, 1239.0, 1530.0, 2324.0, 2971.0, 3528.0, 3739.0, 4390.0, 2971.0, 3528.0, 3739.0000000000005, 4390.0, 1239.0, 2324.0, 2971.0, 3528.0, 1239.0, 1530.0, 2324.0, 2971.0, 3528.0, 3739.0, 1530.0, 2971.0000000000005, 3527.9999999999995, 4390.0, 1239.0, 1530.0, 2324.0, 2971.0000000000005, 3528.0, 3739.0, 1239.0000000000002, 1529.9999999999998, 2324.0, null, 3527.999999999999, null, null]}, \"name\": \"\", \"parents\": [\"2010\", \"2011\", \"2012\", \"2013\", \"2014\", \"2015\", \"2016\", \"2010\", \"2012\", \"2013\", \"2014\", \"2015\", \"2016\", \"2010\", \"2011\", \"2012\", \"2013\", \"2014\", \"2015\", \"2011\", \"2012\", \"2013\", \"2014\", \"2015\", \"2016\", \"2010\", \"2011\", \"2012\", \"2013\", \"2015\", \"2016\", \"2010\", \"2011\", \"2012\", \"2013\", \"2014\", \"2015\", \"2016\", \"2010\", \"2011\", \"2012\", \"2013\", \"2014\", \"2015\", \"2016\", \"2011\", \"2013\", \"2010\", \"2011\", \"2012\", \"2014\", \"2015\", \"2010\", \"2011\", \"2012\", \"2013\", \"2014\", \"2015\", \"2016\", \"2010\", \"2011\", \"2012\", \"2013\", \"2015\", \"2016\", \"2010\", \"2011\", \"2012\", \"2013\", \"2010\", \"2011\", \"2012\", \"2013\", \"2014\", \"2015\", \"2016\", \"2011\", \"2012\", \"2014\", \"2015\", \"2010\", \"2011\", \"2012\", \"2013\", \"2014\", \"2015\", \"2016\", \"2010\", \"2012\", \"2013\", \"2014\", \"2015\", \"2016\", \"2010\", \"2011\", \"2012\", \"2013\", \"2014\", \"2015\", \"2016\", \"2010\", \"2011\", \"2012\", \"2014\", \"2015\", \"2010\", \"2012\", \"2010\", \"2011\", \"2013\", \"2014\", \"2015\", \"2016\", \"2010\", \"2011\", \"2013\", \"2014\", \"2015\", \"2010\", \"2011\", \"2012\", \"2013\", \"2014\", \"2015\", \"2016\", \"2010\", \"2011\", \"2012\", \"2013\", \"2014\", \"2015\", \"2016\", \"2010\", \"2015\", \"2010\", \"2011\", \"2014\", \"2015\", \"2011\", \"2016\", \"2010\", \"2011\", \"2012\", \"2013\", \"2014\", \"2015\", \"2016\", \"2010\", \"2014\", \"2015\", \"2016\", \"2010\", \"2011\", \"2012\", \"2013\", \"2014\", \"2015\", \"2016\", \"2010\", \"2011\", \"2012\", \"2013\", \"2014\", \"2015\", \"2016\", \"2010\", \"2011\", \"2012\", \"2013\", \"2014\", \"2015\", \"2016\", \"2010\", \"2011\", \"2012\", \"2013\", \"2014\", \"2015\", \"2010\", \"2011\", \"2012\", \"2013\", \"2014\", \"2015\", \"2010\", \"2011\", \"2012\", \"2013\", \"2014\", \"2015\", \"2016\", \"2010\", \"2011\", \"2012\", \"2013\", \"2014\", \"2015\", \"2016\", \"2012\", \"2014\", \"2016\", \"2012\", \"2013\", \"2010\", \"2011\", \"2012\", \"2014\", \"2010\", \"2011\", \"2012\", \"2013\", \"2014\", \"2016\", \"2010\", \"2011\", \"2012\", \"2013\", \"2014\", \"2015\", \"2010\", \"2013\", \"2014\", \"2015\", \"2016\", \"2010\", \"2011\", \"2012\", \"2013\", \"2014\", \"2015\", \"2016\", \"2010\", \"2011\", \"2012\", \"2013\", \"2014\", \"2015\", \"2016\", \"2011\", \"2012\", \"2013\", \"2015\", \"2016\", \"2011\", \"2012\", \"2013\", \"2014\", \"2015\", \"2010\", \"2012\", \"2015\", \"2011\", \"2012\", \"2015\", \"2016\", \"2010\", \"2011\", \"2012\", \"2013\", \"2014\", \"2015\", \"2016\", \"2010\", \"2011\", \"2012\", \"2013\", \"2014\", \"2015\", \"2016\", \"2010\", \"2011\", \"2012\", \"2013\", \"2014\", \"2015\", \"2016\", \"2010\", \"2011\", \"2012\", \"2013\", \"2014\", \"2015\", \"2016\", \"2010\", \"2011\", \"2012\", \"2013\", \"2014\", \"2015\", \"2016\", \"2010\", \"2011\", \"2012\", \"2013\", \"2014\", \"2015\", \"2010\", \"2011\", \"2012\", \"2013\", \"2014\", \"2015\", \"2016\", \"2010\", \"2011\", \"2012\", \"2013\", \"2014\", \"2010\", \"2011\", \"2012\", \"2013\", \"2014\", \"2015\", \"2016\", \"2010\", \"2011\", \"2012\", \"2013\", \"2014\", \"2015\", \"2016\", \"2010\", \"2011\", \"2012\", \"2013\", \"2014\", \"2015\", \"2016\", \"2014\", \"2010\", \"2011\", \"2014\", \"2010\", \"2011\", \"2012\", \"2013\", \"2014\", \"2015\", \"2016\", \"2010\", \"2011\", \"2013\", \"2014\", \"2015\", \"2016\", \"2010\", \"2011\", \"2012\", \"2013\", \"2014\", \"2015\", \"2016\", \"2010\", \"2011\", \"2012\", \"2013\", \"2014\", \"2015\", \"2016\", \"2010\", \"2011\", \"2012\", \"2013\", \"2014\", \"2015\", \"2010\", \"2011\", \"2012\", \"2013\", \"2014\", \"2015\", \"2016\", \"2013\", \"2014\", \"2015\", \"2016\", \"2010\", \"2012\", \"2013\", \"2014\", \"2010\", \"2011\", \"2012\", \"2013\", \"2014\", \"2015\", \"2011\", \"2013\", \"2014\", \"2016\", \"2010\", \"2011\", \"2012\", \"2013\", \"2014\", \"2015\", \"\", \"\", \"\", \"\", \"\", \"\", \"\"], \"type\": \"sunburst\", \"values\": [291.18294547229095, 272.5273101795261, 183.09931693145703, 387.79414379681333, 484.44355217067766, 602.1158769435002, 340.98183523166995, 267.9325826799483, 344.4909139677922, 453.34049829869934, 620.4414065565543, 465.68627450980387, 88.40151094606408, 170.09866536400102, 172.54056243085552, 165.79806239165433, 259.54716259308043, 254.95866163273848, 590.7928388746802, 471.9217320911283, 368.26656078838516, 630.8973025513741, 544.5469286452765, 458.0042993401075, 986.8421052631579, 347.3949194037114, 171.7723466866044, 338.60116351046344, 455.2180887853926, 551.6956218496264, 851.4014053492668, 319.0276225530687, 261.6638003416518, 279.0301399218751, 343.0542609770136, 423.95272693478194, 473.1638149617127, 661.0644257703083, 418.1724927089675, 391.42644972996203, 334.4878725198492, 330.7364310191893, 456.2419957897522, 453.3793770708969, 581.3708750724594, 520.7181675305429, 453.7716045219721, 369.35933800413665, 222.567848047696, 356.7948135908725, 888.1821435177138, 1100.7911936704506, 569.3799679261333, 390.5956530284181, 644.8183066758803, 707.4028088888208, 691.8654114838455, 598.6205414959003, 1059.0656015492618, 165.6457300650791, 145.85338027594094, 415.0903401095623, 223.11583290346024, 301.61864706270705, 566.7011760342162, 456.9308221979013, 382.3522610640586, 366.9954275112727, 533.6884470076521, 241.80455206485138, 234.28162351035442, 269.109528813633, 361.45469198221224, 428.7265326799175, 485.8868855757771, 718.7768297452345, 295.77937822922695, 452.66002242984047, 630.3115352378672, 631.6456863280099, 403.1183126490986, 413.16280403427527, 524.8134180834782, 608.694967227678, 728.9797158498743, 790.1803690820187, 1026.7911075237503, 364.92833570851764, 371.0302152741686, 289.749665708438, 358.30523872237734, 414.35585647200105, 534.2262501283425, 401.7499665916537, 281.312904357283, 286.3519820673892, 274.4579436322337, 409.9438351783924, 694.358566653677, 0.0, 162.82121004772353, 354.66555789282774, 613.8430658201435, 694.4181461347432, 453.4330812935196, 209.0493266346945, 434.63234651328025, 715.5864380979738, 457.41388429762526, 458.7213317825408, 553.5627522522698, 612.1061563311456, 945.5665024630542, 551.8011188234774, 348.92970004124925, 956.1841219171133, 567.3400104586143, 772.7128362001238, 254.47377914469143, 392.35345097326814, 418.83037933269526, 478.4956365730093, 496.55100121228986, 574.2740565313097, 531.8350322320708, 272.28497956385485, 280.73063309393075, 306.3779578647354, 491.5892613631572, 428.9237926791115, 536.5571018753241, 175.06606919629078, 170.62491987132685, 0.0, 275.05668560990915, 356.7090091359044, 647.6496334575522, 192.16524813774402, 198.01587292452027, 571.5799833446893, 238.35002040677708, 283.17495073168755, 336.8259501844992, 377.51801557551835, 464.1758436880091, 435.9007753824155, 647.7704471840341, 199.70200378219917, 597.200528047448, 762.5272331154684, 518.1126504655916, 285.82235848868265, 360.03727240448274, 373.4668636470579, 302.96737702840636, 430.9396363161629, 493.61555763336935, 403.31113221139015, 275.76972957461044, 302.60448945564127, 325.82892041816064, 435.5456667813491, 470.85352986706454, 639.1464438694404, 445.9238282688497, 419.88781187646566, 610.7666631577348, 383.15039609809617, 584.0737147409254, 426.7863811847511, 576.4579094375945, 704.5664189758045, 320.79691049204627, 330.10889435237306, 380.5214843069476, 568.6511487607912, 432.9627229749631, 426.6849522707296, 398.4588759923028, 313.33845823084727, 545.9801982412763, 376.08359802951554, 317.2219194303952, 918.2882682038704, 374.05763601016855, 303.5441997161898, 396.171112391617, 548.0466890413603, 716.3765095625198, 800.0388650775142, 636.4307703489127, 387.392839476922, 390.81846895621413, 445.21509554245245, 655.1980415945777, 642.838478220973, 1132.8373605554546, 431.94460202359033, 421.1412447061912, 528.7265413888829, 1416.666666666667, 397.9391288956355, 703.0815676877947, 680.6087291389301, 414.67606477603755, 756.1923725098497, 1267.7662026328826, 489.80537777998506, 506.95217450146765, 689.5233123659036, 0.0, 220.11108719171108, 924.5691159025888, 257.98799863500693, 293.4042461148187, 320.9599230279341, 427.16626614177557, 642.2195925518147, 571.7557085689908, 262.87602564056425, 591.4020223180053, 300.1873092016618, 583.8486362312665, 879.0170132325142, 307.67747674427835, 340.6425969783877, 307.78311439850694, 466.02648785310464, 478.44335175268515, 529.847319131393, 777.0083145338547, 381.13844514705266, 373.97868706755236, 428.0219127043747, 615.0639297056517, 654.801499892284, 544.6002639104154, 799.4956512788842, 290.9210327099608, 517.1734931165627, 393.71733534550384, 448.86919667679206, 407.5533215595707, 346.96116001560216, 390.3838567783597, 483.16880334240136, 379.92536172660726, 890.9095931764135, 282.11967050133603, 442.24265696115737, 265.92982650327014, 142.14256751724554, 221.881138746669, 564.6874764662283, 40.7726253518439, 432.19529211245555, 241.94565649181578, 312.83398436239065, 372.24198616911974, 650.963515967709, 652.2879690318528, 732.7206841423807, 338.12619999607017, 271.09013956932756, 338.63301173022234, 332.40781536886453, 401.9350222176535, 438.4677874196749, 1196.645436923929, 368.31155203937294, 297.2455578459466, 413.05871935195154, 322.0822144332409, 490.36358286726374, 357.8946922463997, 510.5769072143791, 496.51601414694983, 509.0214800287398, 586.2182148097696, 503.89926133005366, 824.6586936349588, 910.1876901656897, 996.3893635634033, 326.01715041025074, 289.60560009472283, 288.0785187599688, 512.6307219919141, 371.9242451684328, 616.5723883169862, 211.30136986006568, 274.16674158669116, 217.55878684527906, 378.2738784387478, 364.62465302417013, 446.23924529045684, 0.0, 434.25500394602585, 466.6178976523653, 515.9210732061051, 425.64225533080946, 773.4061347806703, 605.3433249358948, 1207.997484708169, 302.15611319728896, 208.1679967483858, 351.0432256921308, 235.99759251727426, 538.204698577284, 491.45000385678617, 503.13850456030497, 466.6478402167172, 598.704795328917, 1045.2015459222662, 821.3009904764873, 707.6516094320912, 549.4179312485746, 493.814917282618, 426.60859207171325, 512.8402484358223, 603.4509968798565, 0.0, 1465.9685863874345, 362.34822391312133, 448.3201042149405, 414.16272789686775, 506.22752218971993, 714.2220737504065, 793.2619915605263, 1024.3398771365157, 170.2925485152069, 1037.0997886617895, 388.6443367815385, 524.6293121403909, 401.2959764896399, 337.91413464365013, 463.8098989043553, 420.822184596571, 1119.8388773148026, 717.0825412171872, 531.1363737279744, 542.5316819894505, 437.16429949197664, 505.83481143735054, 493.45560489574007, 439.7498835483721, 751.1737089201877, 524.7935090952678, 483.4057725178001, 465.80212163177373, 653.3116166908643, 708.1930316849231, 996.9902204858653, 903.0497705987848, 331.55599614560697, 284.56696642681646, 304.89964760284107, 414.43569251368126, 562.9112337982453, 417.33537892280015, 970.08547008547, 569.1934475267735, 302.12325280969134, 445.1967876448791, 1290.472106646641, 558.2711194060469, 2258.702831998355, 108.0129268765048, 384.23680203579306, 345.95804038831767, 285.0095060630079, 475.39318681250677, 677.8382318281795, 552.6025671312701, 293.2983722057751, 282.02546830016496, 302.2218727063018, 328.31900668576884, 392.30076417058257, 325.79541506433713, 588.0747967826295, 687.7829633004552, 215.56913431487555, 227.41898086494461, 274.33846004864847, 217.0890689540353, 429.4883174233179, 481.46924427394237, 320.0743330547439, 747.3335378171588, 742.9797231632554, 631.1954258724091, 333.12677384193887, 438.86054508174806, 491.8140030500954, 753.0114133184368, 479.9237488133093, 963.5226061641273, 21791.31684643635, 20172.302321626245, 23164.61817003151, 27081.617038622597, 33376.63640685049, 34789.71936176929, 31393.96691024417]}],                        {\"coloraxis\": {\"colorbar\": {\"title\": {\"text\": \"gross_rent\"}}, \"colorscale\": [[0.0, \"#0d0887\"], [0.1111111111111111, \"#46039f\"], [0.2222222222222222, \"#7201a8\"], [0.3333333333333333, \"#9c179e\"], [0.4444444444444444, \"#bd3786\"], [0.5555555555555556, \"#d8576b\"], [0.6666666666666666, \"#ed7953\"], [0.7777777777777778, \"#fb9f3a\"], [0.8888888888888888, \"#fdca26\"], [1.0, \"#f0f921\"]]}, \"legend\": {\"tracegroupgap\": 0}, \"margin\": {\"t\": 60}, \"template\": {\"data\": {\"bar\": [{\"error_x\": {\"color\": \"#2a3f5f\"}, \"error_y\": {\"color\": \"#2a3f5f\"}, \"marker\": {\"line\": {\"color\": \"#E5ECF6\", \"width\": 0.5}}, \"type\": \"bar\"}], \"barpolar\": [{\"marker\": {\"line\": {\"color\": \"#E5ECF6\", \"width\": 0.5}}, \"type\": \"barpolar\"}], \"carpet\": [{\"aaxis\": {\"endlinecolor\": \"#2a3f5f\", \"gridcolor\": \"white\", \"linecolor\": \"white\", \"minorgridcolor\": \"white\", \"startlinecolor\": \"#2a3f5f\"}, \"baxis\": {\"endlinecolor\": \"#2a3f5f\", \"gridcolor\": \"white\", \"linecolor\": \"white\", \"minorgridcolor\": \"white\", \"startlinecolor\": \"#2a3f5f\"}, \"type\": \"carpet\"}], \"choropleth\": [{\"colorbar\": {\"outlinewidth\": 0, \"ticks\": \"\"}, \"type\": \"choropleth\"}], \"contour\": [{\"colorbar\": {\"outlinewidth\": 0, \"ticks\": \"\"}, \"colorscale\": [[0.0, \"#0d0887\"], [0.1111111111111111, \"#46039f\"], [0.2222222222222222, \"#7201a8\"], [0.3333333333333333, \"#9c179e\"], [0.4444444444444444, \"#bd3786\"], [0.5555555555555556, \"#d8576b\"], [0.6666666666666666, \"#ed7953\"], [0.7777777777777778, \"#fb9f3a\"], [0.8888888888888888, \"#fdca26\"], [1.0, \"#f0f921\"]], \"type\": \"contour\"}], \"contourcarpet\": [{\"colorbar\": {\"outlinewidth\": 0, \"ticks\": \"\"}, \"type\": \"contourcarpet\"}], \"heatmap\": [{\"colorbar\": {\"outlinewidth\": 0, \"ticks\": \"\"}, \"colorscale\": [[0.0, \"#0d0887\"], [0.1111111111111111, \"#46039f\"], [0.2222222222222222, \"#7201a8\"], [0.3333333333333333, \"#9c179e\"], [0.4444444444444444, \"#bd3786\"], [0.5555555555555556, \"#d8576b\"], [0.6666666666666666, \"#ed7953\"], [0.7777777777777778, \"#fb9f3a\"], [0.8888888888888888, \"#fdca26\"], [1.0, \"#f0f921\"]], \"type\": \"heatmap\"}], \"heatmapgl\": [{\"colorbar\": {\"outlinewidth\": 0, \"ticks\": \"\"}, \"colorscale\": [[0.0, \"#0d0887\"], [0.1111111111111111, \"#46039f\"], [0.2222222222222222, \"#7201a8\"], [0.3333333333333333, \"#9c179e\"], [0.4444444444444444, \"#bd3786\"], [0.5555555555555556, \"#d8576b\"], [0.6666666666666666, \"#ed7953\"], [0.7777777777777778, \"#fb9f3a\"], [0.8888888888888888, \"#fdca26\"], [1.0, \"#f0f921\"]], \"type\": \"heatmapgl\"}], \"histogram\": [{\"marker\": {\"colorbar\": {\"outlinewidth\": 0, \"ticks\": \"\"}}, \"type\": \"histogram\"}], \"histogram2d\": [{\"colorbar\": {\"outlinewidth\": 0, \"ticks\": \"\"}, \"colorscale\": [[0.0, \"#0d0887\"], [0.1111111111111111, \"#46039f\"], [0.2222222222222222, \"#7201a8\"], [0.3333333333333333, \"#9c179e\"], [0.4444444444444444, \"#bd3786\"], [0.5555555555555556, \"#d8576b\"], [0.6666666666666666, \"#ed7953\"], [0.7777777777777778, \"#fb9f3a\"], [0.8888888888888888, \"#fdca26\"], [1.0, \"#f0f921\"]], \"type\": \"histogram2d\"}], \"histogram2dcontour\": [{\"colorbar\": {\"outlinewidth\": 0, \"ticks\": \"\"}, \"colorscale\": [[0.0, \"#0d0887\"], [0.1111111111111111, \"#46039f\"], [0.2222222222222222, \"#7201a8\"], [0.3333333333333333, \"#9c179e\"], [0.4444444444444444, \"#bd3786\"], [0.5555555555555556, \"#d8576b\"], [0.6666666666666666, \"#ed7953\"], [0.7777777777777778, \"#fb9f3a\"], [0.8888888888888888, \"#fdca26\"], [1.0, \"#f0f921\"]], \"type\": \"histogram2dcontour\"}], \"mesh3d\": [{\"colorbar\": {\"outlinewidth\": 0, \"ticks\": \"\"}, \"type\": \"mesh3d\"}], \"parcoords\": [{\"line\": {\"colorbar\": {\"outlinewidth\": 0, \"ticks\": \"\"}}, \"type\": \"parcoords\"}], \"pie\": [{\"automargin\": true, \"type\": \"pie\"}], \"scatter\": [{\"marker\": {\"colorbar\": {\"outlinewidth\": 0, \"ticks\": \"\"}}, \"type\": \"scatter\"}], \"scatter3d\": [{\"line\": {\"colorbar\": {\"outlinewidth\": 0, \"ticks\": \"\"}}, \"marker\": {\"colorbar\": {\"outlinewidth\": 0, \"ticks\": \"\"}}, \"type\": \"scatter3d\"}], \"scattercarpet\": [{\"marker\": {\"colorbar\": {\"outlinewidth\": 0, \"ticks\": \"\"}}, \"type\": \"scattercarpet\"}], \"scattergeo\": [{\"marker\": {\"colorbar\": {\"outlinewidth\": 0, \"ticks\": \"\"}}, \"type\": \"scattergeo\"}], \"scattergl\": [{\"marker\": {\"colorbar\": {\"outlinewidth\": 0, \"ticks\": \"\"}}, \"type\": \"scattergl\"}], \"scattermapbox\": [{\"marker\": {\"colorbar\": {\"outlinewidth\": 0, \"ticks\": \"\"}}, \"type\": \"scattermapbox\"}], \"scatterpolar\": [{\"marker\": {\"colorbar\": {\"outlinewidth\": 0, \"ticks\": \"\"}}, \"type\": \"scatterpolar\"}], \"scatterpolargl\": [{\"marker\": {\"colorbar\": {\"outlinewidth\": 0, \"ticks\": \"\"}}, \"type\": \"scatterpolargl\"}], \"scatterternary\": [{\"marker\": {\"colorbar\": {\"outlinewidth\": 0, \"ticks\": \"\"}}, \"type\": \"scatterternary\"}], \"surface\": [{\"colorbar\": {\"outlinewidth\": 0, \"ticks\": \"\"}, \"colorscale\": [[0.0, \"#0d0887\"], [0.1111111111111111, \"#46039f\"], [0.2222222222222222, \"#7201a8\"], [0.3333333333333333, \"#9c179e\"], [0.4444444444444444, \"#bd3786\"], [0.5555555555555556, \"#d8576b\"], [0.6666666666666666, \"#ed7953\"], [0.7777777777777778, \"#fb9f3a\"], [0.8888888888888888, \"#fdca26\"], [1.0, \"#f0f921\"]], \"type\": \"surface\"}], \"table\": [{\"cells\": {\"fill\": {\"color\": \"#EBF0F8\"}, \"line\": {\"color\": \"white\"}}, \"header\": {\"fill\": {\"color\": \"#C8D4E3\"}, \"line\": {\"color\": \"white\"}}, \"type\": \"table\"}]}, \"layout\": {\"annotationdefaults\": {\"arrowcolor\": \"#2a3f5f\", \"arrowhead\": 0, \"arrowwidth\": 1}, \"autotypenumbers\": \"strict\", \"coloraxis\": {\"colorbar\": {\"outlinewidth\": 0, \"ticks\": \"\"}}, \"colorscale\": {\"diverging\": [[0, \"#8e0152\"], [0.1, \"#c51b7d\"], [0.2, \"#de77ae\"], [0.3, \"#f1b6da\"], [0.4, \"#fde0ef\"], [0.5, \"#f7f7f7\"], [0.6, \"#e6f5d0\"], [0.7, \"#b8e186\"], [0.8, \"#7fbc41\"], [0.9, \"#4d9221\"], [1, \"#276419\"]], \"sequential\": [[0.0, \"#0d0887\"], [0.1111111111111111, \"#46039f\"], [0.2222222222222222, \"#7201a8\"], [0.3333333333333333, \"#9c179e\"], [0.4444444444444444, \"#bd3786\"], [0.5555555555555556, \"#d8576b\"], [0.6666666666666666, \"#ed7953\"], [0.7777777777777778, \"#fb9f3a\"], [0.8888888888888888, \"#fdca26\"], [1.0, \"#f0f921\"]], \"sequentialminus\": [[0.0, \"#0d0887\"], [0.1111111111111111, \"#46039f\"], [0.2222222222222222, \"#7201a8\"], [0.3333333333333333, \"#9c179e\"], [0.4444444444444444, \"#bd3786\"], [0.5555555555555556, \"#d8576b\"], [0.6666666666666666, \"#ed7953\"], [0.7777777777777778, \"#fb9f3a\"], [0.8888888888888888, \"#fdca26\"], [1.0, \"#f0f921\"]]}, \"colorway\": [\"#636efa\", \"#EF553B\", \"#00cc96\", \"#ab63fa\", \"#FFA15A\", \"#19d3f3\", \"#FF6692\", \"#B6E880\", \"#FF97FF\", \"#FECB52\"], \"font\": {\"color\": \"#2a3f5f\"}, \"geo\": {\"bgcolor\": \"white\", \"lakecolor\": \"white\", \"landcolor\": \"#E5ECF6\", \"showlakes\": true, \"showland\": true, \"subunitcolor\": \"white\"}, \"hoverlabel\": {\"align\": \"left\"}, \"hovermode\": \"closest\", \"mapbox\": {\"style\": \"light\"}, \"paper_bgcolor\": \"white\", \"plot_bgcolor\": \"#E5ECF6\", \"polar\": {\"angularaxis\": {\"gridcolor\": \"white\", \"linecolor\": \"white\", \"ticks\": \"\"}, \"bgcolor\": \"#E5ECF6\", \"radialaxis\": {\"gridcolor\": \"white\", \"linecolor\": \"white\", \"ticks\": \"\"}}, \"scene\": {\"xaxis\": {\"backgroundcolor\": \"#E5ECF6\", \"gridcolor\": \"white\", \"gridwidth\": 2, \"linecolor\": \"white\", \"showbackground\": true, \"ticks\": \"\", \"zerolinecolor\": \"white\"}, \"yaxis\": {\"backgroundcolor\": \"#E5ECF6\", \"gridcolor\": \"white\", \"gridwidth\": 2, \"linecolor\": \"white\", \"showbackground\": true, \"ticks\": \"\", \"zerolinecolor\": \"white\"}, \"zaxis\": {\"backgroundcolor\": \"#E5ECF6\", \"gridcolor\": \"white\", \"gridwidth\": 2, \"linecolor\": \"white\", \"showbackground\": true, \"ticks\": \"\", \"zerolinecolor\": \"white\"}}, \"shapedefaults\": {\"line\": {\"color\": \"#2a3f5f\"}}, \"ternary\": {\"aaxis\": {\"gridcolor\": \"white\", \"linecolor\": \"white\", \"ticks\": \"\"}, \"baxis\": {\"gridcolor\": \"white\", \"linecolor\": \"white\", \"ticks\": \"\"}, \"bgcolor\": \"#E5ECF6\", \"caxis\": {\"gridcolor\": \"white\", \"linecolor\": \"white\", \"ticks\": \"\"}}, \"title\": {\"x\": 0.05}, \"xaxis\": {\"automargin\": true, \"gridcolor\": \"white\", \"linecolor\": \"white\", \"ticks\": \"\", \"title\": {\"standoff\": 15}, \"zerolinecolor\": \"white\", \"zerolinewidth\": 2}, \"yaxis\": {\"automargin\": true, \"gridcolor\": \"white\", \"linecolor\": \"white\", \"ticks\": \"\", \"title\": {\"standoff\": 15}, \"zerolinecolor\": \"white\", \"zerolinewidth\": 2}}}},                        {\"responsive\": true}                    ).then(function(){\n",
       "                            \n",
       "var gd = document.getElementById('62c1a212-2885-4491-967d-d0a8fdb3c9df');\n",
       "var x = new MutationObserver(function (mutations, observer) {{\n",
       "        var display = window.getComputedStyle(gd).display;\n",
       "        if (!display || display === 'none') {{\n",
       "            console.log([gd, 'removed!']);\n",
       "            Plotly.purge(gd);\n",
       "            observer.disconnect();\n",
       "        }}\n",
       "}});\n",
       "\n",
       "// Listen for the removal of the full notebook cells\n",
       "var notebookContainer = gd.closest('#notebook-container');\n",
       "if (notebookContainer) {{\n",
       "    x.observe(notebookContainer, {childList: true});\n",
       "}}\n",
       "\n",
       "// Listen for the clearing of the current output cell\n",
       "var outputEl = gd.closest('.output');\n",
       "if (outputEl) {{\n",
       "    x.observe(outputEl, {childList: true});\n",
       "}}\n",
       "\n",
       "                        })                };                });            </script>        </div>"
      ]
     },
     "metadata": {},
     "output_type": "display_data"
    }
   ],
   "source": [
    "housing_sunburst = px.sunburst(\n",
    "    housing_per_year_andneighborhood,\n",
    "    path=[\"year\",\"neighborhood\"],\n",
    "    values=\"sale_price_sqr_foot\",\n",
    "    color=\"gross_rent\")\n",
    "\n",
    "housing_sunburst.show()"
   ]
  },
  {
   "cell_type": "code",
   "execution_count": 111,
   "metadata": {},
   "outputs": [],
   "source": [
    "# Sunburst Plot\n"
   ]
  },
  {
   "cell_type": "code",
   "execution_count": null,
   "metadata": {},
   "outputs": [],
   "source": []
  },
  {
   "cell_type": "code",
   "execution_count": null,
   "metadata": {},
   "outputs": [],
   "source": []
  }
 ],
 "metadata": {
  "file_extension": ".py",
  "kernelspec": {
   "display_name": "Python 3",
   "language": "python",
   "name": "python3"
  },
  "language_info": {
   "codemirror_mode": {
    "name": "ipython",
    "version": 3
   },
   "file_extension": ".py",
   "mimetype": "text/x-python",
   "name": "python",
   "nbconvert_exporter": "python",
   "pygments_lexer": "ipython3",
   "version": "3.7.9"
  },
  "mimetype": "text/x-python",
  "name": "python",
  "npconvert_exporter": "python",
  "pygments_lexer": "ipython3",
  "version": 3
 },
 "nbformat": 4,
 "nbformat_minor": 4
}
